{
 "cells": [
  {
   "cell_type": "markdown",
   "id": "f0ecffa4",
   "metadata": {},
   "source": [
    "# Python Keywords name can't be variable"
   ]
  },
  {
   "cell_type": "code",
   "execution_count": 1,
   "id": "c2e22587",
   "metadata": {},
   "outputs": [
    {
     "ename": "SyntaxError",
     "evalue": "cannot assign to False (1235475831.py, line 1)",
     "output_type": "error",
     "traceback": [
      "\u001b[1;36m  Cell \u001b[1;32mIn[1], line 1\u001b[1;36m\u001b[0m\n\u001b[1;33m    False =99\u001b[0m\n\u001b[1;37m    ^\u001b[0m\n\u001b[1;31mSyntaxError\u001b[0m\u001b[1;31m:\u001b[0m cannot assign to False\n"
     ]
    }
   ],
   "source": [
    "False =99 #keyword can't be variable name"
   ]
  },
  {
   "cell_type": "code",
   "execution_count": 2,
   "id": "ce3fa697",
   "metadata": {},
   "outputs": [
    {
     "ename": "SyntaxError",
     "evalue": "invalid syntax (3421561296.py, line 1)",
     "output_type": "error",
     "traceback": [
      "\u001b[1;36m  Cell \u001b[1;32mIn[2], line 1\u001b[1;36m\u001b[0m\n\u001b[1;33m    global = 88\u001b[0m\n\u001b[1;37m           ^\u001b[0m\n\u001b[1;31mSyntaxError\u001b[0m\u001b[1;31m:\u001b[0m invalid syntax\n"
     ]
    }
   ],
   "source": [
    "global = 88"
   ]
  },
  {
   "cell_type": "markdown",
   "id": "781f1ca5",
   "metadata": {},
   "source": [
    "# Python keywords are case sensitive\n",
    "\n",
    "case sensative :upper case ra lowercase farak bujxa --case sensitive\n",
    "\n",
    "* case sensitive language: python case sensitive language\n",
    "* case insensitive language : SQL"
   ]
  },
  {
   "cell_type": "code",
   "execution_count": 3,
   "id": "124fde38",
   "metadata": {},
   "outputs": [],
   "source": [
    "false = 80"
   ]
  },
  {
   "cell_type": "code",
   "execution_count": 4,
   "id": "e691959a",
   "metadata": {},
   "outputs": [
    {
     "data": {
      "text/plain": [
       "80"
      ]
     },
     "execution_count": 4,
     "metadata": {},
     "output_type": "execute_result"
    }
   ],
   "source": [
    "false "
   ]
  },
  {
   "cell_type": "code",
   "execution_count": 5,
   "id": "52482fc1",
   "metadata": {},
   "outputs": [],
   "source": [
    "Global = 80"
   ]
  },
  {
   "cell_type": "code",
   "execution_count": 6,
   "id": "51ed0d1f",
   "metadata": {},
   "outputs": [
    {
     "data": {
      "text/plain": [
       "80"
      ]
     },
     "execution_count": 6,
     "metadata": {},
     "output_type": "execute_result"
    }
   ],
   "source": [
    "Global "
   ]
  },
  {
   "cell_type": "markdown",
   "id": "693c04be",
   "metadata": {},
   "source": [
    "We can't use special symbols like !,@,#,$,% etc in our identifier"
   ]
  },
  {
   "cell_type": "code",
   "execution_count": 7,
   "id": "393648c4",
   "metadata": {},
   "outputs": [
    {
     "ename": "SyntaxError",
     "evalue": "invalid syntax (2652126779.py, line 1)",
     "output_type": "error",
     "traceback": [
      "\u001b[1;36m  Cell \u001b[1;32mIn[7], line 1\u001b[1;36m\u001b[0m\n\u001b[1;33m    @name = \"Bikram\"\u001b[0m\n\u001b[1;37m          ^\u001b[0m\n\u001b[1;31mSyntaxError\u001b[0m\u001b[1;31m:\u001b[0m invalid syntax\n"
     ]
    }
   ],
   "source": [
    "@name = \"Bikram\""
   ]
  },
  {
   "cell_type": "code",
   "execution_count": 8,
   "id": "35dbc42f",
   "metadata": {},
   "outputs": [
    {
     "ename": "SyntaxError",
     "evalue": "invalid syntax (15262070.py, line 1)",
     "output_type": "error",
     "traceback": [
      "\u001b[1;36m  Cell \u001b[1;32mIn[8], line 1\u001b[1;36m\u001b[0m\n\u001b[1;33m    $name =\"kshitiz\"\u001b[0m\n\u001b[1;37m    ^\u001b[0m\n\u001b[1;31mSyntaxError\u001b[0m\u001b[1;31m:\u001b[0m invalid syntax\n"
     ]
    }
   ],
   "source": [
    "$name =\"kshitiz\""
   ]
  },
  {
   "cell_type": "markdown",
   "id": "45d03d90",
   "metadata": {},
   "source": [
    "# Variable name convention"
   ]
  },
  {
   "cell_type": "code",
   "execution_count": 9,
   "id": "148069f1",
   "metadata": {},
   "outputs": [],
   "source": [
    "myObject = 0"
   ]
  },
  {
   "cell_type": "code",
   "execution_count": 10,
   "id": "775e3d13",
   "metadata": {},
   "outputs": [],
   "source": [
    "name9 = \"Bikram\""
   ]
  },
  {
   "cell_type": "code",
   "execution_count": 11,
   "id": "a551962b",
   "metadata": {},
   "outputs": [
    {
     "ename": "SyntaxError",
     "evalue": "invalid syntax (2944672781.py, line 1)",
     "output_type": "error",
     "traceback": [
      "\u001b[1;36m  Cell \u001b[1;32mIn[11], line 1\u001b[1;36m\u001b[0m\n\u001b[1;33m    9name = \"Bikram\"\u001b[0m\n\u001b[1;37m     ^\u001b[0m\n\u001b[1;31mSyntaxError\u001b[0m\u001b[1;31m:\u001b[0m invalid syntax\n"
     ]
    }
   ],
   "source": [
    "9name = \"Bikram\""
   ]
  },
  {
   "cell_type": "code",
   "execution_count": 13,
   "id": "5c7ee0db",
   "metadata": {},
   "outputs": [
    {
     "ename": "SyntaxError",
     "evalue": "invalid syntax (3205701992.py, line 1)",
     "output_type": "error",
     "traceback": [
      "\u001b[1;36m  Cell \u001b[1;32mIn[13], line 1\u001b[1;36m\u001b[0m\n\u001b[1;33m    first name =\"Bikram\" # space are not allowed in variable\u001b[0m\n\u001b[1;37m          ^\u001b[0m\n\u001b[1;31mSyntaxError\u001b[0m\u001b[1;31m:\u001b[0m invalid syntax\n"
     ]
    }
   ],
   "source": [
    "first name =\"Bikram\" # space are not allowed in variable"
   ]
  },
  {
   "cell_type": "code",
   "execution_count": 14,
   "id": "d89c160a",
   "metadata": {},
   "outputs": [
    {
     "ename": "SyntaxError",
     "evalue": "cannot assign to operator (348260132.py, line 1)",
     "output_type": "error",
     "traceback": [
      "\u001b[1;36m  Cell \u001b[1;32mIn[14], line 1\u001b[1;36m\u001b[0m\n\u001b[1;33m    first-name=\"Bikram\" #\"-\"are not allowed\u001b[0m\n\u001b[1;37m    ^\u001b[0m\n\u001b[1;31mSyntaxError\u001b[0m\u001b[1;31m:\u001b[0m cannot assign to operator\n"
     ]
    }
   ],
   "source": [
    "first-name=\"Bikram\" #\"-\"are not allowed"
   ]
  },
  {
   "cell_type": "code",
   "execution_count": 15,
   "id": "03ed0636",
   "metadata": {},
   "outputs": [],
   "source": [
    "first_name =\"Bikram\""
   ]
  },
  {
   "cell_type": "code",
   "execution_count": 16,
   "id": "57843c08",
   "metadata": {},
   "outputs": [
    {
     "data": {
      "text/plain": [
       "'Bikram'"
      ]
     },
     "execution_count": 16,
     "metadata": {},
     "output_type": "execute_result"
    }
   ],
   "source": [
    "first_name"
   ]
  },
  {
   "cell_type": "code",
   "execution_count": 17,
   "id": "1fc41194",
   "metadata": {},
   "outputs": [],
   "source": [
    "first_1name =\"Bikram\""
   ]
  },
  {
   "cell_type": "markdown",
   "id": "43ee28e6",
   "metadata": {},
   "source": [
    "# Python is case Sensitive language"
   ]
  },
  {
   "cell_type": "code",
   "execution_count": 18,
   "id": "6c727e79",
   "metadata": {},
   "outputs": [],
   "source": [
    "Name =\"Bikram\"\n",
    "name =\"Ram\"\n"
   ]
  },
  {
   "cell_type": "code",
   "execution_count": 19,
   "id": "245d7c5d",
   "metadata": {},
   "outputs": [
    {
     "name": "stdout",
     "output_type": "stream",
     "text": [
      "Name is Bikram\n",
      "name is Ram\n"
     ]
    }
   ],
   "source": [
    "print(f\"Name is {Name}\")\n",
    "print(f\"name is {name}\")"
   ]
  },
  {
   "cell_type": "code",
   "execution_count": 23,
   "id": "a836e752",
   "metadata": {},
   "outputs": [
    {
     "name": "stdout",
     "output_type": "stream",
     "text": [
      "Name is Bikram\n",
      "name is Ram\n"
     ]
    }
   ],
   "source": [
    "print(\"Name is {}\".format(Name))\n",
    "print (\"name is {}\".format(name))"
   ]
  },
  {
   "cell_type": "code",
   "execution_count": 25,
   "id": "5c080f0b",
   "metadata": {},
   "outputs": [
    {
     "name": "stdout",
     "output_type": "stream",
     "text": [
      "a is 5 and b is 7\n"
     ]
    }
   ],
   "source": [
    "a= 5\n",
    "b= 7\n",
    "print(\"a is {} and b is {}\".format(a,b))"
   ]
  },
  {
   "cell_type": "markdown",
   "id": "8a386a0a",
   "metadata": {},
   "source": [
    "# How to update  variable value"
   ]
  },
  {
   "cell_type": "code",
   "execution_count": 28,
   "id": "0fce717f",
   "metadata": {},
   "outputs": [
    {
     "name": "stdout",
     "output_type": "stream",
     "text": [
      "Before a = 20\n",
      "After a = 40\n"
     ]
    }
   ],
   "source": [
    "a = 20\n",
    "print(f\"Before a = {a}\")\n",
    "a= 40\n",
    "print(f\"After a = {a}\")"
   ]
  },
  {
   "cell_type": "code",
   "execution_count": 30,
   "id": "0b5589a8",
   "metadata": {},
   "outputs": [
    {
     "name": "stdout",
     "output_type": "stream",
     "text": [
      "Before a = 60.5\n",
      "After a = 61.0\n"
     ]
    }
   ],
   "source": [
    "a = 60.5\n",
    "print(f\"Before a = {a}\")\n",
    "a = a + 0.5\n",
    "print(f\"After a = {a}\")"
   ]
  },
  {
   "cell_type": "markdown",
   "id": "a46d209f",
   "metadata": {},
   "source": [
    "# Assigning multiple values to multiple variables"
   ]
  },
  {
   "cell_type": "code",
   "execution_count": 31,
   "id": "a9b5570b",
   "metadata": {},
   "outputs": [],
   "source": [
    "a = 2  #integer\n",
    "b = 0.6 #float\n",
    "c = 0.5 + 3j #complex"
   ]
  },
  {
   "cell_type": "code",
   "execution_count": 32,
   "id": "5e469bf7",
   "metadata": {},
   "outputs": [],
   "source": [
    "a, b, c = 2, 0.6 ,0.5 + 3j"
   ]
  },
  {
   "cell_type": "code",
   "execution_count": 33,
   "id": "0ce3f640",
   "metadata": {},
   "outputs": [
    {
     "data": {
      "text/plain": [
       "2"
      ]
     },
     "execution_count": 33,
     "metadata": {},
     "output_type": "execute_result"
    }
   ],
   "source": [
    "a"
   ]
  },
  {
   "cell_type": "code",
   "execution_count": 34,
   "id": "16883b50",
   "metadata": {},
   "outputs": [
    {
     "data": {
      "text/plain": [
       "0.6"
      ]
     },
     "execution_count": 34,
     "metadata": {},
     "output_type": "execute_result"
    }
   ],
   "source": [
    "b"
   ]
  },
  {
   "cell_type": "code",
   "execution_count": 35,
   "id": "ae59cd36",
   "metadata": {},
   "outputs": [
    {
     "data": {
      "text/plain": [
       "(0.5+3j)"
      ]
     },
     "execution_count": 35,
     "metadata": {},
     "output_type": "execute_result"
    }
   ],
   "source": [
    "c"
   ]
  },
  {
   "cell_type": "code",
   "execution_count": 36,
   "id": "3d1c7172",
   "metadata": {},
   "outputs": [
    {
     "ename": "ValueError",
     "evalue": "too many values to unpack (expected 2)",
     "output_type": "error",
     "traceback": [
      "\u001b[1;31m---------------------------------------------------------------------------\u001b[0m",
      "\u001b[1;31mValueError\u001b[0m                                Traceback (most recent call last)",
      "Cell \u001b[1;32mIn[36], line 1\u001b[0m\n\u001b[1;32m----> 1\u001b[0m a, b \u001b[38;5;241m=\u001b[39m \u001b[38;5;241m2\u001b[39m, \u001b[38;5;241m0.6\u001b[39m ,\u001b[38;5;241m0.5\u001b[39m \u001b[38;5;241m+\u001b[39m \u001b[38;5;241m3\u001b[39mj\n",
      "\u001b[1;31mValueError\u001b[0m: too many values to unpack (expected 2)"
     ]
    }
   ],
   "source": [
    "a, b = 2, 0.6 ,0.5 + 3j"
   ]
  },
  {
   "cell_type": "code",
   "execution_count": 37,
   "id": "639c08bc",
   "metadata": {},
   "outputs": [
    {
     "ename": "ValueError",
     "evalue": "not enough values to unpack (expected 3, got 2)",
     "output_type": "error",
     "traceback": [
      "\u001b[1;31m---------------------------------------------------------------------------\u001b[0m",
      "\u001b[1;31mValueError\u001b[0m                                Traceback (most recent call last)",
      "Cell \u001b[1;32mIn[37], line 1\u001b[0m\n\u001b[1;32m----> 1\u001b[0m a, b, c \u001b[38;5;241m=\u001b[39m \u001b[38;5;241m2\u001b[39m, \u001b[38;5;241m0.6\u001b[39m \n",
      "\u001b[1;31mValueError\u001b[0m: not enough values to unpack (expected 3, got 2)"
     ]
    }
   ],
   "source": [
    "a, b, c = 2, 0.6 "
   ]
  },
  {
   "cell_type": "code",
   "execution_count": 38,
   "id": "5ac3dea5",
   "metadata": {},
   "outputs": [],
   "source": [
    "sec = 42 * 60 + 42"
   ]
  },
  {
   "cell_type": "code",
   "execution_count": 39,
   "id": "02f1824f",
   "metadata": {},
   "outputs": [
    {
     "data": {
      "text/plain": [
       "2562"
      ]
     },
     "execution_count": 39,
     "metadata": {},
     "output_type": "execute_result"
    }
   ],
   "source": [
    "sec"
   ]
  },
  {
   "cell_type": "markdown",
   "id": "69c15fb8",
   "metadata": {},
   "source": [
    "# Type Checking"
   ]
  },
  {
   "cell_type": "code",
   "execution_count": 41,
   "id": "f76f0df1",
   "metadata": {},
   "outputs": [],
   "source": [
    "a, b, c = 2, 0.6 ,0.5 + 3j"
   ]
  },
  {
   "cell_type": "code",
   "execution_count": 42,
   "id": "6ecd491f",
   "metadata": {},
   "outputs": [
    {
     "data": {
      "text/plain": [
       "int"
      ]
     },
     "execution_count": 42,
     "metadata": {},
     "output_type": "execute_result"
    }
   ],
   "source": [
    "type(a)"
   ]
  },
  {
   "cell_type": "code",
   "execution_count": 43,
   "id": "5bd8ab0a",
   "metadata": {},
   "outputs": [
    {
     "data": {
      "text/plain": [
       "float"
      ]
     },
     "execution_count": 43,
     "metadata": {},
     "output_type": "execute_result"
    }
   ],
   "source": [
    "type(b)"
   ]
  },
  {
   "cell_type": "code",
   "execution_count": 44,
   "id": "736c3498",
   "metadata": {},
   "outputs": [
    {
     "data": {
      "text/plain": [
       "complex"
      ]
     },
     "execution_count": 44,
     "metadata": {},
     "output_type": "execute_result"
    }
   ],
   "source": [
    "type(c)"
   ]
  },
  {
   "cell_type": "markdown",
   "id": "b691311a",
   "metadata": {},
   "source": [
    "# Type validation"
   ]
  },
  {
   "cell_type": "code",
   "execution_count": null,
   "id": "735a84c0",
   "metadata": {},
   "outputs": [],
   "source": []
  },
  {
   "cell_type": "code",
   "execution_count": 46,
   "id": "08b50109",
   "metadata": {},
   "outputs": [
    {
     "data": {
      "text/plain": [
       "True"
      ]
     },
     "execution_count": 46,
     "metadata": {},
     "output_type": "execute_result"
    }
   ],
   "source": [
    "isinstance(a,int)"
   ]
  },
  {
   "cell_type": "code",
   "execution_count": 47,
   "id": "fa447be8",
   "metadata": {},
   "outputs": [
    {
     "data": {
      "text/plain": [
       "False"
      ]
     },
     "execution_count": 47,
     "metadata": {},
     "output_type": "execute_result"
    }
   ],
   "source": [
    "isinstance(a,float)"
   ]
  },
  {
   "cell_type": "code",
   "execution_count": 48,
   "id": "7b23a1e1",
   "metadata": {},
   "outputs": [
    {
     "data": {
      "text/plain": [
       "True"
      ]
     },
     "execution_count": 48,
     "metadata": {},
     "output_type": "execute_result"
    }
   ],
   "source": [
    "isinstance(c,complex)"
   ]
  },
  {
   "cell_type": "code",
   "execution_count": 49,
   "id": "01453235",
   "metadata": {},
   "outputs": [
    {
     "data": {
      "text/plain": [
       "False"
      ]
     },
     "execution_count": 49,
     "metadata": {},
     "output_type": "execute_result"
    }
   ],
   "source": [
    "isinstance(c,float)"
   ]
  },
  {
   "cell_type": "code",
   "execution_count": 50,
   "id": "f2520ce1",
   "metadata": {},
   "outputs": [
    {
     "name": "stdout",
     "output_type": "stream",
     "text": [
      "<class 'int'>\n"
     ]
    }
   ],
   "source": [
    "print(type(a))"
   ]
  },
  {
   "cell_type": "code",
   "execution_count": null,
   "id": "b9d25732",
   "metadata": {},
   "outputs": [],
   "source": []
  }
 ],
 "metadata": {
  "kernelspec": {
   "display_name": "Python 3 (ipykernel)",
   "language": "python",
   "name": "python3"
  },
  "language_info": {
   "codemirror_mode": {
    "name": "ipython",
    "version": 3
   },
   "file_extension": ".py",
   "mimetype": "text/x-python",
   "name": "python",
   "nbconvert_exporter": "python",
   "pygments_lexer": "ipython3",
   "version": "3.8.10"
  }
 },
 "nbformat": 4,
 "nbformat_minor": 5
}
