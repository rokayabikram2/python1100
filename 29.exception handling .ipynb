{
 "cells": [
  {
   "cell_type": "code",
   "execution_count": 3,
   "id": "d0ba4c2f",
   "metadata": {},
   "outputs": [
    {
     "name": "stdout",
     "output_type": "stream",
     "text": [
      "enter a numerator = 5\n",
      "enter a Denominator= 0\n"
     ]
    },
    {
     "ename": "ZeroDivisionError",
     "evalue": "division by zero",
     "output_type": "error",
     "traceback": [
      "\u001b[1;31m---------------------------------------------------------------------------\u001b[0m",
      "\u001b[1;31mZeroDivisionError\u001b[0m                         Traceback (most recent call last)",
      "Cell \u001b[1;32mIn[3], line 3\u001b[0m\n\u001b[0;32m      1\u001b[0m a \u001b[38;5;241m=\u001b[39m\u001b[38;5;28mint\u001b[39m(\u001b[38;5;28minput\u001b[39m(\u001b[38;5;124m\"\u001b[39m\u001b[38;5;124menter a numerator = \u001b[39m\u001b[38;5;124m\"\u001b[39m))\n\u001b[0;32m      2\u001b[0m b \u001b[38;5;241m=\u001b[39m \u001b[38;5;28mint\u001b[39m(\u001b[38;5;28minput\u001b[39m(\u001b[38;5;124m\"\u001b[39m\u001b[38;5;124menter a Denominator= \u001b[39m\u001b[38;5;124m\"\u001b[39m))\n\u001b[1;32m----> 3\u001b[0m c \u001b[38;5;241m=\u001b[39m \u001b[43ma\u001b[49m\u001b[38;5;241;43m/\u001b[39;49m\u001b[43mb\u001b[49m\n\u001b[0;32m      4\u001b[0m \u001b[38;5;28mprint\u001b[39m(c)\n\u001b[0;32m      5\u001b[0m \u001b[38;5;28mprint\u001b[39m(\u001b[38;5;124m\"\u001b[39m\u001b[38;5;124mprogram complete\u001b[39m\u001b[38;5;124m\"\u001b[39m)\n",
      "\u001b[1;31mZeroDivisionError\u001b[0m: division by zero"
     ]
    }
   ],
   "source": [
    "a =int(input(\"enter a numerator = \"))\n",
    "b = int(input(\"enter a Denominator= \"))\n",
    "c = a/b\n",
    "print(c)\n",
    "print(\"program complete\")"
   ]
  },
  {
   "cell_type": "code",
   "execution_count": 4,
   "id": "c85f0c55",
   "metadata": {},
   "outputs": [],
   "source": [
    "#exception breakdown the program "
   ]
  },
  {
   "cell_type": "code",
   "execution_count": null,
   "id": "ca483afd",
   "metadata": {},
   "outputs": [],
   "source": []
  },
  {
   "cell_type": "markdown",
   "id": "16cefcd9",
   "metadata": {},
   "source": [
    "# exception handling : try ...except.."
   ]
  },
  {
   "cell_type": "code",
   "execution_count": 5,
   "id": "dd6abdce",
   "metadata": {},
   "outputs": [
    {
     "name": "stdout",
     "output_type": "stream",
     "text": [
      "enter a numerator = 5\n",
      "enter a Denominator= 0\n",
      "you can't divide a number by zero\n",
      "program complete\n"
     ]
    }
   ],
   "source": [
    "a =int(input(\"enter a numerator = \"))\n",
    "b = int(input(\"enter a Denominator= \"))\n",
    "try:\n",
    "    c = a/b\n",
    "    print(c)\n",
    "except:\n",
    "    print(\"you can't divide a number by zero\")\n",
    "    \n",
    "print(\"program complete\")"
   ]
  },
  {
   "cell_type": "code",
   "execution_count": null,
   "id": "73699888",
   "metadata": {},
   "outputs": [],
   "source": []
  }
 ],
 "metadata": {
  "kernelspec": {
   "display_name": "Python 3 (ipykernel)",
   "language": "python",
   "name": "python3"
  },
  "language_info": {
   "codemirror_mode": {
    "name": "ipython",
    "version": 3
   },
   "file_extension": ".py",
   "mimetype": "text/x-python",
   "name": "python",
   "nbconvert_exporter": "python",
   "pygments_lexer": "ipython3",
   "version": "3.8.10"
  }
 },
 "nbformat": 4,
 "nbformat_minor": 5
}
