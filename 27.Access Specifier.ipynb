{
 "cells": [
  {
   "cell_type": "markdown",
   "id": "4ca41f12",
   "metadata": {},
   "source": [
    "# Are access specifier used in python? __No but has concept of limited behaviour of variable :private attribute are not"
   ]
  },
  {
   "cell_type": "code",
   "execution_count": 8,
   "id": "3652b44c",
   "metadata": {},
   "outputs": [],
   "source": [
    "class Tutor :\n",
    "    name=\"Bikram\"\n",
    "    #protected = 1 underscore\n",
    "    _teach=['python','ML']\n",
    "    #private  = 2 underscore\n",
    "    __age=21"
   ]
  },
  {
   "cell_type": "code",
   "execution_count": 9,
   "id": "3ea4e638",
   "metadata": {},
   "outputs": [],
   "source": [
    "ob=Tutor()"
   ]
  },
  {
   "cell_type": "code",
   "execution_count": 10,
   "id": "6146cfc4",
   "metadata": {},
   "outputs": [
    {
     "data": {
      "text/plain": [
       "'Bikram'"
      ]
     },
     "execution_count": 10,
     "metadata": {},
     "output_type": "execute_result"
    }
   ],
   "source": [
    "ob.name"
   ]
  },
  {
   "cell_type": "code",
   "execution_count": 11,
   "id": "c4d08606",
   "metadata": {},
   "outputs": [
    {
     "data": {
      "text/plain": [
       "['python', 'ML']"
      ]
     },
     "execution_count": 11,
     "metadata": {},
     "output_type": "execute_result"
    }
   ],
   "source": [
    "ob._teach"
   ]
  },
  {
   "cell_type": "code",
   "execution_count": 13,
   "id": "d4aa1321",
   "metadata": {},
   "outputs": [
    {
     "ename": "AttributeError",
     "evalue": "'Tutor' object has no attribute '__age'",
     "output_type": "error",
     "traceback": [
      "\u001b[1;31m---------------------------------------------------------------------------\u001b[0m",
      "\u001b[1;31mAttributeError\u001b[0m                            Traceback (most recent call last)",
      "Cell \u001b[1;32mIn[13], line 1\u001b[0m\n\u001b[1;32m----> 1\u001b[0m \u001b[43mob\u001b[49m\u001b[38;5;241;43m.\u001b[39;49m\u001b[43m__age\u001b[49m   \u001b[38;5;66;03m#private attribute \u001b[39;00m\n",
      "\u001b[1;31mAttributeError\u001b[0m: 'Tutor' object has no attribute '__age'"
     ]
    }
   ],
   "source": [
    "ob.__age   #private attribute "
   ]
  },
  {
   "cell_type": "code",
   "execution_count": null,
   "id": "3b8d9a78",
   "metadata": {},
   "outputs": [],
   "source": []
  },
  {
   "cell_type": "code",
   "execution_count": null,
   "id": "cec45e03",
   "metadata": {},
   "outputs": [],
   "source": []
  }
 ],
 "metadata": {
  "kernelspec": {
   "display_name": "Python 3 (ipykernel)",
   "language": "python",
   "name": "python3"
  },
  "language_info": {
   "codemirror_mode": {
    "name": "ipython",
    "version": 3
   },
   "file_extension": ".py",
   "mimetype": "text/x-python",
   "name": "python",
   "nbconvert_exporter": "python",
   "pygments_lexer": "ipython3",
   "version": "3.8.10"
  }
 },
 "nbformat": 4,
 "nbformat_minor": 5
}
