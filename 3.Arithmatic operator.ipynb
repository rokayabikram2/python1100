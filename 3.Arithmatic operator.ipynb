{
 "cells": [
  {
   "cell_type": "code",
   "execution_count": 1,
   "id": "ca4b08e5",
   "metadata": {},
   "outputs": [
    {
     "data": {
      "text/plain": [
       "7"
      ]
     },
     "execution_count": 1,
     "metadata": {},
     "output_type": "execute_result"
    }
   ],
   "source": [
    "2 + 5 # Addition Operator '+'\n"
   ]
  },
  {
   "cell_type": "code",
   "execution_count": 2,
   "id": "d71d67a6",
   "metadata": {},
   "outputs": [
    {
     "data": {
      "text/plain": [
       "-7"
      ]
     },
     "execution_count": 2,
     "metadata": {},
     "output_type": "execute_result"
    }
   ],
   "source": [
    "2 - 9 # Subtraction Operator '-'"
   ]
  },
  {
   "cell_type": "code",
   "execution_count": 3,
   "id": "d8a51559",
   "metadata": {},
   "outputs": [
    {
     "data": {
      "text/plain": [
       "81"
      ]
     },
     "execution_count": 3,
     "metadata": {},
     "output_type": "execute_result"
    }
   ],
   "source": [
    "9 * 9 # Multiplication operator '*'"
   ]
  },
  {
   "cell_type": "code",
   "execution_count": 4,
   "id": "4bdbe6ba",
   "metadata": {},
   "outputs": [
    {
     "data": {
      "text/plain": [
       "7.5"
      ]
     },
     "execution_count": 4,
     "metadata": {},
     "output_type": "execute_result"
    }
   ],
   "source": [
    "15 / 2 # Division operator '/'"
   ]
  },
  {
   "cell_type": "markdown",
   "id": "2b719762",
   "metadata": {},
   "source": [
    "# Floor Division Operator"
   ]
  },
  {
   "cell_type": "code",
   "execution_count": 11,
   "id": "97b4e923",
   "metadata": {},
   "outputs": [
    {
     "data": {
      "text/plain": [
       "7"
      ]
     },
     "execution_count": 11,
     "metadata": {},
     "output_type": "execute_result"
    }
   ],
   "source": [
    "15 // 2 # get floor value of quotient"
   ]
  },
  {
   "cell_type": "markdown",
   "id": "83480301",
   "metadata": {},
   "source": [
    "# Exponential operator"
   ]
  },
  {
   "cell_type": "code",
   "execution_count": 6,
   "id": "78b9d608",
   "metadata": {},
   "outputs": [
    {
     "data": {
      "text/plain": [
       "15"
      ]
     },
     "execution_count": 6,
     "metadata": {},
     "output_type": "execute_result"
    }
   ],
   "source": [
    "5 * 3\n"
   ]
  },
  {
   "cell_type": "code",
   "execution_count": 8,
   "id": "629726cd",
   "metadata": {},
   "outputs": [
    {
     "data": {
      "text/plain": [
       "125"
      ]
     },
     "execution_count": 8,
     "metadata": {},
     "output_type": "execute_result"
    }
   ],
   "source": [
    "5 ** 3 # '**' means to the power 5 ko cube or 5 ko power"
   ]
  },
  {
   "cell_type": "markdown",
   "id": "150a7fc9",
   "metadata": {},
   "source": [
    "# Modulus(%)"
   ]
  },
  {
   "cell_type": "code",
   "execution_count": 9,
   "id": "5fe20e37",
   "metadata": {},
   "outputs": [
    {
     "data": {
      "text/plain": [
       "1"
      ]
     },
     "execution_count": 9,
     "metadata": {},
     "output_type": "execute_result"
    }
   ],
   "source": [
    "15 % 2 # Modulus le reminder dinxa"
   ]
  },
  {
   "cell_type": "code",
   "execution_count": 10,
   "id": "b3fd4180",
   "metadata": {},
   "outputs": [
    {
     "data": {
      "text/plain": [
       "4"
      ]
     },
     "execution_count": 10,
     "metadata": {},
     "output_type": "execute_result"
    }
   ],
   "source": [
    "19 % 5"
   ]
  },
  {
   "cell_type": "code",
   "execution_count": 12,
   "id": "3ecad1fb",
   "metadata": {},
   "outputs": [
    {
     "name": "stdout",
     "output_type": "stream",
     "text": [
      "1\n"
     ]
    }
   ],
   "source": [
    "a = 15\n",
    "b = 2\n",
    "rem = a % b\n",
    "print(rem)"
   ]
  },
  {
   "cell_type": "code",
   "execution_count": null,
   "id": "4914a53a",
   "metadata": {},
   "outputs": [],
   "source": []
  }
 ],
 "metadata": {
  "kernelspec": {
   "display_name": "Python 3 (ipykernel)",
   "language": "python",
   "name": "python3"
  },
  "language_info": {
   "codemirror_mode": {
    "name": "ipython",
    "version": 3
   },
   "file_extension": ".py",
   "mimetype": "text/x-python",
   "name": "python",
   "nbconvert_exporter": "python",
   "pygments_lexer": "ipython3",
   "version": "3.8.10"
  }
 },
 "nbformat": 4,
 "nbformat_minor": 5
}
