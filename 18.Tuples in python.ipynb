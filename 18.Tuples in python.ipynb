{
 "cells": [
  {
   "cell_type": "code",
   "execution_count": 1,
   "id": "adb9129d",
   "metadata": {},
   "outputs": [],
   "source": [
    "fruits=('apple','mango','orange','strwberry','banana','kiwi')"
   ]
  },
  {
   "cell_type": "code",
   "execution_count": 2,
   "id": "d4fbd25b",
   "metadata": {},
   "outputs": [
    {
     "data": {
      "text/plain": [
       "('apple', 'mango', 'orange', 'strwberry', 'banana', 'kiwi')"
      ]
     },
     "execution_count": 2,
     "metadata": {},
     "output_type": "execute_result"
    }
   ],
   "source": [
    "fruits"
   ]
  },
  {
   "cell_type": "code",
   "execution_count": 3,
   "id": "0d15a24a",
   "metadata": {},
   "outputs": [
    {
     "data": {
      "text/plain": [
       "'apple'"
      ]
     },
     "execution_count": 3,
     "metadata": {},
     "output_type": "execute_result"
    }
   ],
   "source": [
    "fruits[0]  #indexing"
   ]
  },
  {
   "cell_type": "code",
   "execution_count": 4,
   "id": "2d8e5505",
   "metadata": {},
   "outputs": [
    {
     "data": {
      "text/plain": [
       "'kiwi'"
      ]
     },
     "execution_count": 4,
     "metadata": {},
     "output_type": "execute_result"
    }
   ],
   "source": [
    "fruits[5]"
   ]
  },
  {
   "cell_type": "markdown",
   "id": "55a47ca3",
   "metadata": {},
   "source": [
    "# negative indexing\n"
   ]
  },
  {
   "cell_type": "code",
   "execution_count": 5,
   "id": "842b2a66",
   "metadata": {},
   "outputs": [
    {
     "data": {
      "text/plain": [
       "'kiwi'"
      ]
     },
     "execution_count": 5,
     "metadata": {},
     "output_type": "execute_result"
    }
   ],
   "source": [
    "fruits[-1]"
   ]
  },
  {
   "cell_type": "code",
   "execution_count": 6,
   "id": "4607b262",
   "metadata": {},
   "outputs": [
    {
     "data": {
      "text/plain": [
       "('kiwi', 'banana', 'strwberry', 'orange', 'mango', 'apple')"
      ]
     },
     "execution_count": 6,
     "metadata": {},
     "output_type": "execute_result"
    }
   ],
   "source": [
    "fruits[::-1]  #reverse"
   ]
  },
  {
   "cell_type": "code",
   "execution_count": null,
   "id": "0885f08b",
   "metadata": {},
   "outputs": [],
   "source": []
  },
  {
   "cell_type": "code",
   "execution_count": 8,
   "id": "1bd6094b",
   "metadata": {},
   "outputs": [
    {
     "data": {
      "text/plain": [
       "('orange', 'strwberry')"
      ]
     },
     "execution_count": 8,
     "metadata": {},
     "output_type": "execute_result"
    }
   ],
   "source": [
    "fruits[2:4]  #slicing"
   ]
  },
  {
   "cell_type": "code",
   "execution_count": null,
   "id": "ba04348f",
   "metadata": {},
   "outputs": [],
   "source": []
  },
  {
   "cell_type": "code",
   "execution_count": null,
   "id": "e1ed1ffe",
   "metadata": {},
   "outputs": [],
   "source": []
  },
  {
   "cell_type": "markdown",
   "id": "9b142e86",
   "metadata": {},
   "source": [
    "# Tuples  are immutable  and list are mutable"
   ]
  },
  {
   "cell_type": "code",
   "execution_count": 9,
   "id": "e05b0f54",
   "metadata": {},
   "outputs": [],
   "source": [
    "fruits_tuple=('apple','mango','orange','strwberry','banana','kiwi')"
   ]
  },
  {
   "cell_type": "code",
   "execution_count": 16,
   "id": "c92e04f1",
   "metadata": {},
   "outputs": [],
   "source": [
    "fruits_list=['apple','mango','orange','strwberry','banana','kiwi']"
   ]
  },
  {
   "cell_type": "code",
   "execution_count": 17,
   "id": "818fdd0a",
   "metadata": {},
   "outputs": [],
   "source": [
    "fruits_list[1] ='grapes'  #list are mutable"
   ]
  },
  {
   "cell_type": "code",
   "execution_count": 18,
   "id": "712e8c83",
   "metadata": {},
   "outputs": [
    {
     "data": {
      "text/plain": [
       "['apple', 'grapes', 'orange', 'strwberry', 'banana', 'kiwi']"
      ]
     },
     "execution_count": 18,
     "metadata": {},
     "output_type": "execute_result"
    }
   ],
   "source": [
    "fruits_list"
   ]
  },
  {
   "cell_type": "code",
   "execution_count": 20,
   "id": "382f6246",
   "metadata": {},
   "outputs": [
    {
     "ename": "TypeError",
     "evalue": "'tuple' object does not support item assignment",
     "output_type": "error",
     "traceback": [
      "\u001b[1;31m---------------------------------------------------------------------------\u001b[0m",
      "\u001b[1;31mTypeError\u001b[0m                                 Traceback (most recent call last)",
      "Cell \u001b[1;32mIn[20], line 1\u001b[0m\n\u001b[1;32m----> 1\u001b[0m \u001b[43mfruits_tuple\u001b[49m\u001b[43m[\u001b[49m\u001b[38;5;241;43m1\u001b[39;49m\u001b[43m]\u001b[49m\u001b[38;5;241m=\u001b[39m\u001b[38;5;124m\"\u001b[39m\u001b[38;5;124mgrapes\u001b[39m\u001b[38;5;124m\"\u001b[39m   \u001b[38;5;66;03m#Tuple are immutable\u001b[39;00m\n",
      "\u001b[1;31mTypeError\u001b[0m: 'tuple' object does not support item assignment"
     ]
    }
   ],
   "source": [
    "fruits_tuple[1]=\"grapes\"   #Tuple are immutable"
   ]
  },
  {
   "cell_type": "code",
   "execution_count": null,
   "id": "f110e9a3",
   "metadata": {},
   "outputs": [],
   "source": []
  },
  {
   "cell_type": "code",
   "execution_count": null,
   "id": "c28f410d",
   "metadata": {},
   "outputs": [],
   "source": []
  },
  {
   "cell_type": "markdown",
   "id": "bf36604e",
   "metadata": {},
   "source": [
    "# Tuples are unchangeable,meaning that we can't change,add or remove items after the tuple has been created"
   ]
  },
  {
   "cell_type": "code",
   "execution_count": 22,
   "id": "e19185f3",
   "metadata": {},
   "outputs": [],
   "source": [
    "fruits_tuple=('apple','mango','orange','strwberry','banana','kiwi')"
   ]
  },
  {
   "cell_type": "code",
   "execution_count": 23,
   "id": "16ea39ca",
   "metadata": {},
   "outputs": [
    {
     "data": {
      "text/plain": [
       "tuple"
      ]
     },
     "execution_count": 23,
     "metadata": {},
     "output_type": "execute_result"
    }
   ],
   "source": [
    "type(fruits_tuple)"
   ]
  },
  {
   "cell_type": "code",
   "execution_count": 24,
   "id": "0ee9323c",
   "metadata": {},
   "outputs": [],
   "source": [
    "fruits_tuple =list(fruits_list)"
   ]
  },
  {
   "cell_type": "code",
   "execution_count": 25,
   "id": "eaf1b920",
   "metadata": {},
   "outputs": [
    {
     "data": {
      "text/plain": [
       "['apple', 'grapes', 'orange', 'strwberry', 'banana', 'kiwi']"
      ]
     },
     "execution_count": 25,
     "metadata": {},
     "output_type": "execute_result"
    }
   ],
   "source": [
    "fruits_tuple"
   ]
  },
  {
   "cell_type": "code",
   "execution_count": 26,
   "id": "51f91b04",
   "metadata": {},
   "outputs": [
    {
     "data": {
      "text/plain": [
       "list"
      ]
     },
     "execution_count": 26,
     "metadata": {},
     "output_type": "execute_result"
    }
   ],
   "source": [
    "type(fruits_tuple)"
   ]
  },
  {
   "cell_type": "code",
   "execution_count": 27,
   "id": "b277b06f",
   "metadata": {},
   "outputs": [],
   "source": [
    "fruits_tuple.append(\"watermelons\")"
   ]
  },
  {
   "cell_type": "code",
   "execution_count": 28,
   "id": "f1dc3a1b",
   "metadata": {},
   "outputs": [
    {
     "data": {
      "text/plain": [
       "['apple', 'grapes', 'orange', 'strwberry', 'banana', 'kiwi', 'watermelons']"
      ]
     },
     "execution_count": 28,
     "metadata": {},
     "output_type": "execute_result"
    }
   ],
   "source": [
    "fruits_tuple"
   ]
  },
  {
   "cell_type": "code",
   "execution_count": 29,
   "id": "1a30d1ca",
   "metadata": {},
   "outputs": [],
   "source": [
    "fruits_tuple=tuple(fruits_tuple)"
   ]
  },
  {
   "cell_type": "code",
   "execution_count": 31,
   "id": "e0f2406d",
   "metadata": {},
   "outputs": [
    {
     "data": {
      "text/plain": [
       "('apple', 'grapes', 'orange', 'strwberry', 'banana', 'kiwi', 'watermelons')"
      ]
     },
     "execution_count": 31,
     "metadata": {},
     "output_type": "execute_result"
    }
   ],
   "source": [
    "fruits_tuple"
   ]
  },
  {
   "cell_type": "code",
   "execution_count": 32,
   "id": "ecca1225",
   "metadata": {},
   "outputs": [
    {
     "data": {
      "text/plain": [
       "tuple"
      ]
     },
     "execution_count": 32,
     "metadata": {},
     "output_type": "execute_result"
    }
   ],
   "source": [
    "type(fruits_tuple)"
   ]
  },
  {
   "cell_type": "code",
   "execution_count": null,
   "id": "08fdb334",
   "metadata": {},
   "outputs": [],
   "source": []
  },
  {
   "cell_type": "code",
   "execution_count": null,
   "id": "8277cd2b",
   "metadata": {},
   "outputs": [],
   "source": []
  },
  {
   "cell_type": "code",
   "execution_count": 34,
   "id": "69ae724d",
   "metadata": {},
   "outputs": [],
   "source": [
    "first=(2,4,6,8,20)\n",
    "total=0\n",
    "\n",
    "for index in range(len(first)):\n",
    "    num=first[index]\n",
    "    total=total + num\n",
    "mean=total/len(first)"
   ]
  },
  {
   "cell_type": "code",
   "execution_count": 35,
   "id": "b33de168",
   "metadata": {},
   "outputs": [
    {
     "data": {
      "text/plain": [
       "8.0"
      ]
     },
     "execution_count": 35,
     "metadata": {},
     "output_type": "execute_result"
    }
   ],
   "source": [
    "mean"
   ]
  },
  {
   "cell_type": "code",
   "execution_count": 36,
   "id": "4c1ce6bf",
   "metadata": {},
   "outputs": [],
   "source": [
    "first=(2,4,6,8,20)\n",
    "total=0\n",
    "\n",
    "for item in first:\n",
    "    \n",
    "    total=total + item\n",
    "mean=total/len(first)"
   ]
  },
  {
   "cell_type": "code",
   "execution_count": 37,
   "id": "94a36cdb",
   "metadata": {},
   "outputs": [
    {
     "data": {
      "text/plain": [
       "8.0"
      ]
     },
     "execution_count": 37,
     "metadata": {},
     "output_type": "execute_result"
    }
   ],
   "source": [
    "mean"
   ]
  },
  {
   "cell_type": "code",
   "execution_count": null,
   "id": "6c72044a",
   "metadata": {},
   "outputs": [],
   "source": []
  },
  {
   "cell_type": "code",
   "execution_count": null,
   "id": "4e6d236e",
   "metadata": {},
   "outputs": [],
   "source": []
  },
  {
   "cell_type": "code",
   "execution_count": null,
   "id": "f73bc6c3",
   "metadata": {},
   "outputs": [],
   "source": []
  }
 ],
 "metadata": {
  "kernelspec": {
   "display_name": "Python 3 (ipykernel)",
   "language": "python",
   "name": "python3"
  },
  "language_info": {
   "codemirror_mode": {
    "name": "ipython",
    "version": 3
   },
   "file_extension": ".py",
   "mimetype": "text/x-python",
   "name": "python",
   "nbconvert_exporter": "python",
   "pygments_lexer": "ipython3",
   "version": "3.8.10"
  }
 },
 "nbformat": 4,
 "nbformat_minor": 5
}
