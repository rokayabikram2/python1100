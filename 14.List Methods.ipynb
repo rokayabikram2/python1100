{
 "cells": [
  {
   "cell_type": "markdown",
   "id": "39d24dca",
   "metadata": {},
   "source": [
    "# Python list are mutable"
   ]
  },
  {
   "cell_type": "code",
   "execution_count": 1,
   "id": "eac93160",
   "metadata": {},
   "outputs": [],
   "source": [
    "car=['Mercedes','BMW','Tesla','Mercedes','Bently']\n"
   ]
  },
  {
   "cell_type": "code",
   "execution_count": 2,
   "id": "e63a6ee9",
   "metadata": {},
   "outputs": [
    {
     "data": {
      "text/plain": [
       "'Mercedes'"
      ]
     },
     "execution_count": 2,
     "metadata": {},
     "output_type": "execute_result"
    }
   ],
   "source": [
    "car[0]"
   ]
  },
  {
   "cell_type": "code",
   "execution_count": 3,
   "id": "7f5744a3",
   "metadata": {},
   "outputs": [
    {
     "data": {
      "text/plain": [
       "'BMW'"
      ]
     },
     "execution_count": 3,
     "metadata": {},
     "output_type": "execute_result"
    }
   ],
   "source": [
    "car[1]"
   ]
  },
  {
   "cell_type": "code",
   "execution_count": 4,
   "id": "08373945",
   "metadata": {},
   "outputs": [],
   "source": [
    "car[0]=\"Tata\""
   ]
  },
  {
   "cell_type": "code",
   "execution_count": 5,
   "id": "8a35ec78",
   "metadata": {},
   "outputs": [
    {
     "data": {
      "text/plain": [
       "['Tata', 'BMW', 'Tesla', 'Mercedes', 'Bently']"
      ]
     },
     "execution_count": 5,
     "metadata": {},
     "output_type": "execute_result"
    }
   ],
   "source": [
    "car"
   ]
  },
  {
   "cell_type": "code",
   "execution_count": null,
   "id": "e12decb1",
   "metadata": {},
   "outputs": [],
   "source": []
  }
 ],
 "metadata": {
  "kernelspec": {
   "display_name": "Python 3 (ipykernel)",
   "language": "python",
   "name": "python3"
  },
  "language_info": {
   "codemirror_mode": {
    "name": "ipython",
    "version": 3
   },
   "file_extension": ".py",
   "mimetype": "text/x-python",
   "name": "python",
   "nbconvert_exporter": "python",
   "pygments_lexer": "ipython3",
   "version": "3.8.10"
  }
 },
 "nbformat": 4,
 "nbformat_minor": 5
}
