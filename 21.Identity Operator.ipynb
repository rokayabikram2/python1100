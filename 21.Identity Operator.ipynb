{
 "cells": [
  {
   "cell_type": "code",
   "execution_count": 1,
   "id": "47de09b6",
   "metadata": {},
   "outputs": [],
   "source": [
    "x = None"
   ]
  },
  {
   "cell_type": "code",
   "execution_count": 2,
   "id": "d4990b72",
   "metadata": {},
   "outputs": [
    {
     "data": {
      "text/plain": [
       "True"
      ]
     },
     "execution_count": 2,
     "metadata": {},
     "output_type": "execute_result"
    }
   ],
   "source": [
    "x is None"
   ]
  },
  {
   "cell_type": "code",
   "execution_count": null,
   "id": "34b6ff97",
   "metadata": {},
   "outputs": [],
   "source": []
  },
  {
   "cell_type": "code",
   "execution_count": 3,
   "id": "081209d0",
   "metadata": {},
   "outputs": [
    {
     "data": {
      "text/plain": [
       "True"
      ]
     },
     "execution_count": 3,
     "metadata": {},
     "output_type": "execute_result"
    }
   ],
   "source": [
    "x is not int"
   ]
  },
  {
   "cell_type": "code",
   "execution_count": 4,
   "id": "abf3df97",
   "metadata": {},
   "outputs": [
    {
     "data": {
      "text/plain": [
       "True"
      ]
     },
     "execution_count": 4,
     "metadata": {},
     "output_type": "execute_result"
    }
   ],
   "source": [
    "x is not float"
   ]
  },
  {
   "cell_type": "code",
   "execution_count": 5,
   "id": "99397eec",
   "metadata": {},
   "outputs": [
    {
     "data": {
      "text/plain": [
       "False"
      ]
     },
     "execution_count": 5,
     "metadata": {},
     "output_type": "execute_result"
    }
   ],
   "source": [
    "x is not None"
   ]
  },
  {
   "cell_type": "code",
   "execution_count": 6,
   "id": "bdfbdd67",
   "metadata": {},
   "outputs": [],
   "source": [
    "# only None can be None"
   ]
  },
  {
   "cell_type": "code",
   "execution_count": 7,
   "id": "38b99bd0",
   "metadata": {},
   "outputs": [],
   "source": [
    "x= None"
   ]
  },
  {
   "cell_type": "code",
   "execution_count": 9,
   "id": "cbab259e",
   "metadata": {},
   "outputs": [
    {
     "name": "stdout",
     "output_type": "stream",
     "text": [
      "else ko logic ho\n"
     ]
    }
   ],
   "source": [
    "if x:\n",
    "    print(\"if ko logic\")\n",
    "    \n",
    "else:\n",
    "    print(\"else ko logic ho\")"
   ]
  },
  {
   "cell_type": "code",
   "execution_count": null,
   "id": "016747d5",
   "metadata": {},
   "outputs": [],
   "source": []
  },
  {
   "cell_type": "code",
   "execution_count": 12,
   "id": "f251381d",
   "metadata": {},
   "outputs": [
    {
     "name": "stdout",
     "output_type": "stream",
     "text": [
      "if ko logic ho\n"
     ]
    }
   ],
   "source": [
    "x= None\n",
    "\n",
    "if x== None:   #don't do this\n",
    "    print(\"if ko logic ho\")\n",
    "    \n",
    "else:\n",
    "    print(\"else ko logic ho\")"
   ]
  },
  {
   "cell_type": "code",
   "execution_count": null,
   "id": "dfb6c7dc",
   "metadata": {},
   "outputs": [],
   "source": []
  },
  {
   "cell_type": "code",
   "execution_count": 14,
   "id": "9a8d1b74",
   "metadata": {},
   "outputs": [
    {
     "name": "stdout",
     "output_type": "stream",
     "text": [
      "If ko logic ho\n"
     ]
    }
   ],
   "source": [
    "x= None\n",
    "if x is None:  #use this\n",
    "    print(\"If ko logic ho\")\n",
    "else:\n",
    "    print(\"else ko logic ho\")"
   ]
  },
  {
   "cell_type": "code",
   "execution_count": null,
   "id": "82c91d46",
   "metadata": {},
   "outputs": [],
   "source": []
  }
 ],
 "metadata": {
  "kernelspec": {
   "display_name": "Python 3 (ipykernel)",
   "language": "python",
   "name": "python3"
  },
  "language_info": {
   "codemirror_mode": {
    "name": "ipython",
    "version": 3
   },
   "file_extension": ".py",
   "mimetype": "text/x-python",
   "name": "python",
   "nbconvert_exporter": "python",
   "pygments_lexer": "ipython3",
   "version": "3.8.10"
  }
 },
 "nbformat": 4,
 "nbformat_minor": 5
}
