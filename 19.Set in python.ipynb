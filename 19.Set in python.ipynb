{
 "cells": [
  {
   "cell_type": "code",
   "execution_count": 1,
   "id": "0d0a277c",
   "metadata": {},
   "outputs": [],
   "source": [
    "vowels={'a','e','i','o','u'}\n"
   ]
  },
  {
   "cell_type": "code",
   "execution_count": 2,
   "id": "625907ec",
   "metadata": {},
   "outputs": [
    {
     "data": {
      "text/plain": [
       "set"
      ]
     },
     "execution_count": 2,
     "metadata": {},
     "output_type": "execute_result"
    }
   ],
   "source": [
    "type(vowels)"
   ]
  },
  {
   "cell_type": "code",
   "execution_count": 4,
   "id": "fe118af1",
   "metadata": {},
   "outputs": [
    {
     "ename": "TypeError",
     "evalue": "'set' object is not subscriptable",
     "output_type": "error",
     "traceback": [
      "\u001b[1;31m---------------------------------------------------------------------------\u001b[0m",
      "\u001b[1;31mTypeError\u001b[0m                                 Traceback (most recent call last)",
      "Cell \u001b[1;32mIn[4], line 1\u001b[0m\n\u001b[1;32m----> 1\u001b[0m \u001b[43mvowels\u001b[49m\u001b[43m[\u001b[49m\u001b[38;5;241;43m0\u001b[39;49m\u001b[43m]\u001b[49m  \u001b[38;5;66;03m#unindexed\u001b[39;00m\n",
      "\u001b[1;31mTypeError\u001b[0m: 'set' object is not subscriptable"
     ]
    }
   ],
   "source": [
    "vowels[0]  #unindexed"
   ]
  },
  {
   "cell_type": "code",
   "execution_count": null,
   "id": "646c504e",
   "metadata": {},
   "outputs": [],
   "source": []
  },
  {
   "cell_type": "code",
   "execution_count": null,
   "id": "7020706a",
   "metadata": {},
   "outputs": [],
   "source": []
  },
  {
   "cell_type": "markdown",
   "id": "76383c46",
   "metadata": {},
   "source": [
    "# NO duplication in set"
   ]
  },
  {
   "cell_type": "code",
   "execution_count": 5,
   "id": "889b3e48",
   "metadata": {},
   "outputs": [],
   "source": [
    "car={'BMW','Mercedes','BMW'}"
   ]
  },
  {
   "cell_type": "code",
   "execution_count": 7,
   "id": "3f80d674",
   "metadata": {},
   "outputs": [
    {
     "data": {
      "text/plain": [
       "{'BMW', 'Mercedes'}"
      ]
     },
     "execution_count": 7,
     "metadata": {},
     "output_type": "execute_result"
    }
   ],
   "source": [
    "car"
   ]
  },
  {
   "cell_type": "code",
   "execution_count": null,
   "id": "ed631be1",
   "metadata": {},
   "outputs": [],
   "source": []
  },
  {
   "cell_type": "code",
   "execution_count": 9,
   "id": "db53d440",
   "metadata": {},
   "outputs": [],
   "source": [
    "# set are unindexed and unchangeale but you can add anmd remove item from set,mutable"
   ]
  },
  {
   "cell_type": "code",
   "execution_count": null,
   "id": "2ea3a0c4",
   "metadata": {},
   "outputs": [],
   "source": []
  },
  {
   "cell_type": "markdown",
   "id": "a4f095f6",
   "metadata": {},
   "source": [
    "# remove() to remove items : if item to remove does not exit,remove() will raise an error .use discard() if you don't want error"
   ]
  },
  {
   "cell_type": "code",
   "execution_count": 10,
   "id": "38faf563",
   "metadata": {},
   "outputs": [],
   "source": [
    "car={'Mercedes','BMW','Tesla','jaguar','Bently'}\n"
   ]
  },
  {
   "cell_type": "code",
   "execution_count": 11,
   "id": "a6c671ae",
   "metadata": {},
   "outputs": [],
   "source": [
    "car.remove('Tesla')"
   ]
  },
  {
   "cell_type": "code",
   "execution_count": 12,
   "id": "53783265",
   "metadata": {},
   "outputs": [
    {
     "data": {
      "text/plain": [
       "{'BMW', 'Bently', 'Mercedes', 'jaguar'}"
      ]
     },
     "execution_count": 12,
     "metadata": {},
     "output_type": "execute_result"
    }
   ],
   "source": [
    "car"
   ]
  },
  {
   "cell_type": "code",
   "execution_count": 13,
   "id": "ba363522",
   "metadata": {},
   "outputs": [
    {
     "ename": "KeyError",
     "evalue": "'Tata'",
     "output_type": "error",
     "traceback": [
      "\u001b[1;31m---------------------------------------------------------------------------\u001b[0m",
      "\u001b[1;31mKeyError\u001b[0m                                  Traceback (most recent call last)",
      "Cell \u001b[1;32mIn[13], line 1\u001b[0m\n\u001b[1;32m----> 1\u001b[0m \u001b[43mcar\u001b[49m\u001b[38;5;241;43m.\u001b[39;49m\u001b[43mremove\u001b[49m\u001b[43m(\u001b[49m\u001b[38;5;124;43m'\u001b[39;49m\u001b[38;5;124;43mTata\u001b[39;49m\u001b[38;5;124;43m'\u001b[39;49m\u001b[43m)\u001b[49m\n",
      "\u001b[1;31mKeyError\u001b[0m: 'Tata'"
     ]
    }
   ],
   "source": [
    "car.remove('Tata')"
   ]
  },
  {
   "cell_type": "code",
   "execution_count": 15,
   "id": "05520057",
   "metadata": {},
   "outputs": [],
   "source": [
    "car.discard('Tata')  # if you don't want exception"
   ]
  },
  {
   "cell_type": "code",
   "execution_count": 16,
   "id": "5cdae1f8",
   "metadata": {},
   "outputs": [],
   "source": [
    "car.discard('BMW')"
   ]
  },
  {
   "cell_type": "code",
   "execution_count": 17,
   "id": "af3e1eb5",
   "metadata": {},
   "outputs": [
    {
     "data": {
      "text/plain": [
       "{'Bently', 'Mercedes', 'jaguar'}"
      ]
     },
     "execution_count": 17,
     "metadata": {},
     "output_type": "execute_result"
    }
   ],
   "source": [
    "car"
   ]
  },
  {
   "cell_type": "code",
   "execution_count": null,
   "id": "621c7407",
   "metadata": {},
   "outputs": [],
   "source": []
  },
  {
   "cell_type": "markdown",
   "id": "208fa994",
   "metadata": {},
   "source": [
    "# Use add() method to add items in set"
   ]
  },
  {
   "cell_type": "code",
   "execution_count": 18,
   "id": "1d0160b1",
   "metadata": {},
   "outputs": [],
   "source": [
    "car={'Mercedes','BMW','Tesla','jaguar','Bently'}\n"
   ]
  },
  {
   "cell_type": "code",
   "execution_count": 19,
   "id": "015ece44",
   "metadata": {},
   "outputs": [],
   "source": [
    "car.add('aston Martin')"
   ]
  },
  {
   "cell_type": "code",
   "execution_count": 20,
   "id": "b8733919",
   "metadata": {},
   "outputs": [
    {
     "data": {
      "text/plain": [
       "{'BMW', 'Bently', 'Mercedes', 'Tesla', 'aston Martin', 'jaguar'}"
      ]
     },
     "execution_count": 20,
     "metadata": {},
     "output_type": "execute_result"
    }
   ],
   "source": [
    "car"
   ]
  },
  {
   "cell_type": "code",
   "execution_count": null,
   "id": "620e9c82",
   "metadata": {},
   "outputs": [],
   "source": []
  },
  {
   "cell_type": "code",
   "execution_count": null,
   "id": "c5aa9768",
   "metadata": {},
   "outputs": [],
   "source": []
  },
  {
   "cell_type": "markdown",
   "id": "c15043c2",
   "metadata": {},
   "source": [
    "# typecasting in set"
   ]
  },
  {
   "cell_type": "code",
   "execution_count": 21,
   "id": "a32b6c45",
   "metadata": {},
   "outputs": [],
   "source": [
    "car={'Mercedes','BMW','Tesla','jaguar','Bently'}\n"
   ]
  },
  {
   "cell_type": "code",
   "execution_count": 22,
   "id": "c78d1e62",
   "metadata": {},
   "outputs": [
    {
     "data": {
      "text/plain": [
       "set"
      ]
     },
     "execution_count": 22,
     "metadata": {},
     "output_type": "execute_result"
    }
   ],
   "source": [
    "type(car)"
   ]
  },
  {
   "cell_type": "code",
   "execution_count": 23,
   "id": "82baa386",
   "metadata": {},
   "outputs": [
    {
     "data": {
      "text/plain": [
       "['Bently', 'jaguar', 'Mercedes', 'Tesla', 'BMW']"
      ]
     },
     "execution_count": 23,
     "metadata": {},
     "output_type": "execute_result"
    }
   ],
   "source": [
    "list(car)"
   ]
  },
  {
   "cell_type": "code",
   "execution_count": 24,
   "id": "e2aa905c",
   "metadata": {},
   "outputs": [
    {
     "data": {
      "text/plain": [
       "('Bently', 'jaguar', 'Mercedes', 'Tesla', 'BMW')"
      ]
     },
     "execution_count": 24,
     "metadata": {},
     "output_type": "execute_result"
    }
   ],
   "source": [
    "tuple(car)"
   ]
  },
  {
   "cell_type": "markdown",
   "id": "28848448",
   "metadata": {},
   "source": [
    "# looping in sets"
   ]
  },
  {
   "cell_type": "code",
   "execution_count": 25,
   "id": "5569d313",
   "metadata": {},
   "outputs": [
    {
     "name": "stdout",
     "output_type": "stream",
     "text": [
      "Bently\n",
      "jaguar\n",
      "Mercedes\n",
      "Tesla\n",
      "BMW\n"
     ]
    }
   ],
   "source": [
    "car={'Mercedes','BMW','Tesla','jaguar','Bently'}\n",
    "for item in car:\n",
    "    print(item)"
   ]
  },
  {
   "cell_type": "code",
   "execution_count": 1,
   "id": "d44bc32e",
   "metadata": {},
   "outputs": [
    {
     "data": {
      "text/plain": [
       "{'BMW', 'Bently', 'Mercedes', 'Tesla', 'jaguar'}"
      ]
     },
     "execution_count": 1,
     "metadata": {},
     "output_type": "execute_result"
    }
   ],
   "source": [
    "car={'Mercedes','BMW','Tesla','jaguar','Bently'}\n",
    "{item for item in car}"
   ]
  },
  {
   "cell_type": "code",
   "execution_count": null,
   "id": "efe3a06c",
   "metadata": {},
   "outputs": [],
   "source": []
  },
  {
   "cell_type": "markdown",
   "id": "afe5e6a9",
   "metadata": {},
   "source": [
    "# set operation in python:union,intersection,difference"
   ]
  },
  {
   "cell_type": "code",
   "execution_count": 33,
   "id": "70f68228",
   "metadata": {},
   "outputs": [],
   "source": [
    "A={'apple','banana','cheery'}\n",
    "B={'google','microsoft','apple'}"
   ]
  },
  {
   "cell_type": "code",
   "execution_count": 34,
   "id": "b7b15c9b",
   "metadata": {},
   "outputs": [
    {
     "data": {
      "text/plain": [
       "{'apple'}"
      ]
     },
     "execution_count": 34,
     "metadata": {},
     "output_type": "execute_result"
    }
   ],
   "source": [
    "A.intersection(B)"
   ]
  },
  {
   "cell_type": "code",
   "execution_count": 35,
   "id": "48f208e2",
   "metadata": {},
   "outputs": [
    {
     "data": {
      "text/plain": [
       "{'apple'}"
      ]
     },
     "execution_count": 35,
     "metadata": {},
     "output_type": "execute_result"
    }
   ],
   "source": [
    "B.intersection(A)"
   ]
  },
  {
   "cell_type": "code",
   "execution_count": 36,
   "id": "2add25df",
   "metadata": {},
   "outputs": [
    {
     "data": {
      "text/plain": [
       "{'apple', 'banana', 'cheery', 'google', 'microsoft'}"
      ]
     },
     "execution_count": 36,
     "metadata": {},
     "output_type": "execute_result"
    }
   ],
   "source": [
    "A.union(B)"
   ]
  },
  {
   "cell_type": "code",
   "execution_count": 37,
   "id": "01442dac",
   "metadata": {},
   "outputs": [
    {
     "data": {
      "text/plain": [
       "{'apple', 'banana', 'cheery', 'google', 'microsoft'}"
      ]
     },
     "execution_count": 37,
     "metadata": {},
     "output_type": "execute_result"
    }
   ],
   "source": [
    "B.union(A)"
   ]
  },
  {
   "cell_type": "code",
   "execution_count": 38,
   "id": "da258d0d",
   "metadata": {},
   "outputs": [
    {
     "data": {
      "text/plain": [
       "{'banana', 'cheery'}"
      ]
     },
     "execution_count": 38,
     "metadata": {},
     "output_type": "execute_result"
    }
   ],
   "source": [
    "A.difference(B)"
   ]
  },
  {
   "cell_type": "code",
   "execution_count": 39,
   "id": "6ef9375a",
   "metadata": {},
   "outputs": [
    {
     "data": {
      "text/plain": [
       "{'google', 'microsoft'}"
      ]
     },
     "execution_count": 39,
     "metadata": {},
     "output_type": "execute_result"
    }
   ],
   "source": [
    "B.difference(A)"
   ]
  },
  {
   "cell_type": "code",
   "execution_count": 40,
   "id": "64f1e757",
   "metadata": {},
   "outputs": [
    {
     "data": {
      "text/plain": [
       "{'banana', 'cheery'}"
      ]
     },
     "execution_count": 40,
     "metadata": {},
     "output_type": "execute_result"
    }
   ],
   "source": [
    "A -B"
   ]
  },
  {
   "cell_type": "code",
   "execution_count": 41,
   "id": "a0397cf0",
   "metadata": {},
   "outputs": [
    {
     "data": {
      "text/plain": [
       "{'google', 'microsoft'}"
      ]
     },
     "execution_count": 41,
     "metadata": {},
     "output_type": "execute_result"
    }
   ],
   "source": [
    "B - A\n"
   ]
  },
  {
   "cell_type": "code",
   "execution_count": null,
   "id": "dccf4a76",
   "metadata": {},
   "outputs": [],
   "source": []
  },
  {
   "cell_type": "markdown",
   "id": "21b3791f",
   "metadata": {},
   "source": [
    "# frozenset-immutable version of python set"
   ]
  },
  {
   "cell_type": "code",
   "execution_count": 43,
   "id": "65fede67",
   "metadata": {},
   "outputs": [],
   "source": [
    "vowel={'a','e','i','o','u'}"
   ]
  },
  {
   "cell_type": "code",
   "execution_count": 44,
   "id": "83973fd6",
   "metadata": {},
   "outputs": [
    {
     "data": {
      "text/plain": [
       "set"
      ]
     },
     "execution_count": 44,
     "metadata": {},
     "output_type": "execute_result"
    }
   ],
   "source": [
    "type(vowel)"
   ]
  },
  {
   "cell_type": "code",
   "execution_count": 45,
   "id": "bf5310bf",
   "metadata": {},
   "outputs": [],
   "source": [
    "vowel=frozenset(vowel)"
   ]
  },
  {
   "cell_type": "code",
   "execution_count": 46,
   "id": "21cf07eb",
   "metadata": {},
   "outputs": [
    {
     "data": {
      "text/plain": [
       "frozenset"
      ]
     },
     "execution_count": 46,
     "metadata": {},
     "output_type": "execute_result"
    }
   ],
   "source": [
    "type(vowel)"
   ]
  },
  {
   "cell_type": "code",
   "execution_count": 47,
   "id": "8854c240",
   "metadata": {},
   "outputs": [
    {
     "data": {
      "text/plain": [
       "frozenset({'a', 'e', 'i', 'o', 'u'})"
      ]
     },
     "execution_count": 47,
     "metadata": {},
     "output_type": "execute_result"
    }
   ],
   "source": [
    "vowel"
   ]
  },
  {
   "cell_type": "code",
   "execution_count": 51,
   "id": "abd886f7",
   "metadata": {},
   "outputs": [
    {
     "ename": "AttributeError",
     "evalue": "'frozenset' object has no attribute 'add'",
     "output_type": "error",
     "traceback": [
      "\u001b[1;31m---------------------------------------------------------------------------\u001b[0m",
      "\u001b[1;31mAttributeError\u001b[0m                            Traceback (most recent call last)",
      "Cell \u001b[1;32mIn[51], line 1\u001b[0m\n\u001b[1;32m----> 1\u001b[0m \u001b[43mvowel\u001b[49m\u001b[38;5;241;43m.\u001b[39;49m\u001b[43madd\u001b[49m(\u001b[38;5;124m'\u001b[39m\u001b[38;5;124mk\u001b[39m\u001b[38;5;124m'\u001b[39m)  \u001b[38;5;66;03m#frozenset are immutable\u001b[39;00m\n",
      "\u001b[1;31mAttributeError\u001b[0m: 'frozenset' object has no attribute 'add'"
     ]
    }
   ],
   "source": [
    "vowel.add('k')  #frozenset are immutable"
   ]
  },
  {
   "cell_type": "code",
   "execution_count": 52,
   "id": "b36ac801",
   "metadata": {},
   "outputs": [],
   "source": [
    "# frozenset is immutable version of set in python"
   ]
  },
  {
   "cell_type": "code",
   "execution_count": null,
   "id": "26f97332",
   "metadata": {},
   "outputs": [],
   "source": []
  },
  {
   "cell_type": "code",
   "execution_count": null,
   "id": "42f8ee78",
   "metadata": {},
   "outputs": [],
   "source": []
  }
 ],
 "metadata": {
  "kernelspec": {
   "display_name": "Python 3 (ipykernel)",
   "language": "python",
   "name": "python3"
  },
  "language_info": {
   "codemirror_mode": {
    "name": "ipython",
    "version": 3
   },
   "file_extension": ".py",
   "mimetype": "text/x-python",
   "name": "python",
   "nbconvert_exporter": "python",
   "pygments_lexer": "ipython3",
   "version": "3.8.10"
  }
 },
 "nbformat": 4,
 "nbformat_minor": 5
}
