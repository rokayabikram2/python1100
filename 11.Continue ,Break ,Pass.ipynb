{
 "cells": [
  {
   "cell_type": "markdown",
   "id": "1540d6a3",
   "metadata": {},
   "source": [
    "# Continue ,Break, pass"
   ]
  },
  {
   "cell_type": "code",
   "execution_count": 7,
   "id": "9adc810a",
   "metadata": {},
   "outputs": [
    {
     "name": "stdout",
     "output_type": "stream",
     "text": [
      "0\n",
      "1\n",
      "2\n",
      "4\n"
     ]
    }
   ],
   "source": [
    "for index in range(5):\n",
    "    if index ==3:\n",
    "        continue  #skips the logic if condition is true\n",
    "    print(index)"
   ]
  },
  {
   "cell_type": "code",
   "execution_count": 13,
   "id": "c8d6006e",
   "metadata": {},
   "outputs": [
    {
     "name": "stdout",
     "output_type": "stream",
     "text": [
      "v_count =4 and c_count =8\n"
     ]
    }
   ],
   "source": [
    "name=\"Bikram Rokaya\".lower()\n",
    "v_count=0\n",
    "c_count=0\n",
    "\n",
    "for index in range(len(name)):\n",
    "    letter=name[index]\n",
    "    if letter=='a' or letter=='e' or letter=='i' or letter=='u':\n",
    "        v_count=v_count + 1\n",
    "    elif letter==\" \":\n",
    "        continue\n",
    "        print(\"This is after continue it won't be executed\")\n",
    "    else:\n",
    "        c_count=c_count + 1\n",
    "        \n",
    "print(f\"v_count ={v_count} and c_count ={c_count}\")\n"
   ]
  },
  {
   "cell_type": "code",
   "execution_count": null,
   "id": "c514aa91",
   "metadata": {},
   "outputs": [],
   "source": []
  },
  {
   "cell_type": "code",
   "execution_count": 17,
   "id": "4d60b8cb",
   "metadata": {},
   "outputs": [
    {
     "name": "stdout",
     "output_type": "stream",
     "text": [
      "0\n",
      "1\n",
      "2\n",
      "something\n"
     ]
    }
   ],
   "source": [
    "for index in range(5):\n",
    "    if index ==3:\n",
    "        break\n",
    "    print(index)\n",
    "print(\"something\")"
   ]
  },
  {
   "cell_type": "code",
   "execution_count": null,
   "id": "cd55f302",
   "metadata": {},
   "outputs": [],
   "source": []
  },
  {
   "cell_type": "code",
   "execution_count": null,
   "id": "536b351e",
   "metadata": {},
   "outputs": [],
   "source": []
  },
  {
   "cell_type": "code",
   "execution_count": 19,
   "id": "317670cc",
   "metadata": {},
   "outputs": [
    {
     "name": "stdout",
     "output_type": "stream",
     "text": [
      "B\n",
      "i\n",
      "k\n"
     ]
    }
   ],
   "source": [
    "txt=\"Bikram\"\n",
    "for index in range(len(txt)):\n",
    "    letter=txt[index]\n",
    "    if letter ==\"r\":\n",
    "        break  #Break doesn't allow code to run further\n",
    "    print(letter)"
   ]
  },
  {
   "cell_type": "code",
   "execution_count": null,
   "id": "05832173",
   "metadata": {},
   "outputs": [],
   "source": []
  },
  {
   "cell_type": "markdown",
   "id": "6b07d66e",
   "metadata": {},
   "source": [
    "# Pass = Pass is the placeholder to write the future code"
   ]
  },
  {
   "cell_type": "code",
   "execution_count": 22,
   "id": "1fab4f73",
   "metadata": {},
   "outputs": [],
   "source": [
    "if 8==8:\n",
    "    pass"
   ]
  },
  {
   "cell_type": "code",
   "execution_count": 23,
   "id": "bf43b2a8",
   "metadata": {},
   "outputs": [
    {
     "name": "stdout",
     "output_type": "stream",
     "text": [
      "This code is executed\n"
     ]
    }
   ],
   "source": [
    "if 10 == 19:\n",
    "    pass\n",
    "print(\"This code is executed\")"
   ]
  },
  {
   "cell_type": "code",
   "execution_count": 24,
   "id": "a55d873e",
   "metadata": {},
   "outputs": [],
   "source": [
    "for index in range(5):\n",
    "    pass"
   ]
  },
  {
   "cell_type": "code",
   "execution_count": null,
   "id": "f97a1d6f",
   "metadata": {},
   "outputs": [],
   "source": []
  }
 ],
 "metadata": {
  "kernelspec": {
   "display_name": "Python 3 (ipykernel)",
   "language": "python",
   "name": "python3"
  },
  "language_info": {
   "codemirror_mode": {
    "name": "ipython",
    "version": 3
   },
   "file_extension": ".py",
   "mimetype": "text/x-python",
   "name": "python",
   "nbconvert_exporter": "python",
   "pygments_lexer": "ipython3",
   "version": "3.8.10"
  }
 },
 "nbformat": 4,
 "nbformat_minor": 5
}
