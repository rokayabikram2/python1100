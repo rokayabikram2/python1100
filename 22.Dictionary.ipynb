{
 "cells": [
  {
   "cell_type": "markdown",
   "id": "1d215ada",
   "metadata": {},
   "source": [
    "# Dictionary\n"
   ]
  },
  {
   "cell_type": "code",
   "execution_count": 1,
   "id": "0c7e88a7",
   "metadata": {},
   "outputs": [],
   "source": [
    "dictionary={\n",
    "    'apple':'Apple is fruits.',\n",
    "    'ball' :'Ball is round.',\n",
    "    'cat' :'cat is an domestic animal.'\n",
    "    \n",
    "}"
   ]
  },
  {
   "cell_type": "code",
   "execution_count": 2,
   "id": "bba543a7",
   "metadata": {},
   "outputs": [
    {
     "data": {
      "text/plain": [
       "{'apple': 'Apple is fruits.',\n",
       " 'ball': 'Ball is round.',\n",
       " 'cat': 'cat is an domestic animal.'}"
      ]
     },
     "execution_count": 2,
     "metadata": {},
     "output_type": "execute_result"
    }
   ],
   "source": [
    "dictionary"
   ]
  },
  {
   "cell_type": "code",
   "execution_count": 3,
   "id": "210be25d",
   "metadata": {},
   "outputs": [
    {
     "data": {
      "text/plain": [
       "dict"
      ]
     },
     "execution_count": 3,
     "metadata": {},
     "output_type": "execute_result"
    }
   ],
   "source": [
    "type(dictionary)"
   ]
  },
  {
   "cell_type": "code",
   "execution_count": 5,
   "id": "a39e45f0",
   "metadata": {},
   "outputs": [],
   "source": [
    "d={1:\"Bikram\",2:\"kshitiz\",3:\"sudip\"}"
   ]
  },
  {
   "cell_type": "code",
   "execution_count": 6,
   "id": "e78c20f8",
   "metadata": {},
   "outputs": [
    {
     "data": {
      "text/plain": [
       "{1: 'Bikram', 2: 'kshitiz', 3: 'sudip'}"
      ]
     },
     "execution_count": 6,
     "metadata": {},
     "output_type": "execute_result"
    }
   ],
   "source": [
    "d"
   ]
  },
  {
   "cell_type": "code",
   "execution_count": 7,
   "id": "4ffa11d6",
   "metadata": {},
   "outputs": [
    {
     "data": {
      "text/plain": [
       "{1.2: 'one point two ho', 1.3: 'one point three ho'}"
      ]
     },
     "execution_count": 7,
     "metadata": {},
     "output_type": "execute_result"
    }
   ],
   "source": [
    "{1.2:\"one point two ho\",1.3:\"one point three ho\"}"
   ]
  },
  {
   "cell_type": "code",
   "execution_count": 8,
   "id": "aa6a1497",
   "metadata": {},
   "outputs": [
    {
     "ename": "TypeError",
     "evalue": "unhashable type: 'list'",
     "output_type": "error",
     "traceback": [
      "\u001b[1;31m---------------------------------------------------------------------------\u001b[0m",
      "\u001b[1;31mTypeError\u001b[0m                                 Traceback (most recent call last)",
      "Cell \u001b[1;32mIn[8], line 1\u001b[0m\n\u001b[1;32m----> 1\u001b[0m {[\u001b[38;5;241m1\u001b[39m,\u001b[38;5;241m2\u001b[39m]:\u001b[38;5;124m\"\u001b[39m\u001b[38;5;124mtest\u001b[39m\u001b[38;5;124m\"\u001b[39m} \u001b[38;5;66;03m#tuple list set cannt be the keys\u001b[39;00m\n",
      "\u001b[1;31mTypeError\u001b[0m: unhashable type: 'list'"
     ]
    }
   ],
   "source": [
    "{[1,2]:\"test\"} #tuple list set cannt be the keys"
   ]
  },
  {
   "cell_type": "markdown",
   "id": "a29585ae",
   "metadata": {},
   "source": [
    "# creating empty dictionary"
   ]
  },
  {
   "cell_type": "code",
   "execution_count": 10,
   "id": "e0fbf309",
   "metadata": {},
   "outputs": [],
   "source": [
    "d={}"
   ]
  },
  {
   "cell_type": "code",
   "execution_count": 11,
   "id": "b881e9ff",
   "metadata": {},
   "outputs": [
    {
     "data": {
      "text/plain": [
       "dict"
      ]
     },
     "execution_count": 11,
     "metadata": {},
     "output_type": "execute_result"
    }
   ],
   "source": [
    "type(d)"
   ]
  },
  {
   "cell_type": "code",
   "execution_count": 13,
   "id": "97ef8a77",
   "metadata": {},
   "outputs": [],
   "source": [
    "d=dict()"
   ]
  },
  {
   "cell_type": "code",
   "execution_count": 14,
   "id": "b3eb3653",
   "metadata": {},
   "outputs": [
    {
     "data": {
      "text/plain": [
       "{}"
      ]
     },
     "execution_count": 14,
     "metadata": {},
     "output_type": "execute_result"
    }
   ],
   "source": [
    "d"
   ]
  },
  {
   "cell_type": "code",
   "execution_count": null,
   "id": "405ea16c",
   "metadata": {},
   "outputs": [],
   "source": []
  },
  {
   "cell_type": "code",
   "execution_count": null,
   "id": "799600bc",
   "metadata": {},
   "outputs": [],
   "source": []
  },
  {
   "cell_type": "code",
   "execution_count": 16,
   "id": "cf04b55c",
   "metadata": {},
   "outputs": [],
   "source": [
    "d={\n",
    "    'name':'Bikram Rokaya',\n",
    "    'age':21,\n",
    "    'Studies':['python','DBMS','java','AI']\n",
    "}"
   ]
  },
  {
   "cell_type": "code",
   "execution_count": 17,
   "id": "6264e385",
   "metadata": {},
   "outputs": [
    {
     "data": {
      "text/plain": [
       "{'name': 'Bikram Rokaya',\n",
       " 'age': 21,\n",
       " 'Studies': ['python', 'DBMS', 'java', 'AI']}"
      ]
     },
     "execution_count": 17,
     "metadata": {},
     "output_type": "execute_result"
    }
   ],
   "source": [
    "d"
   ]
  },
  {
   "cell_type": "code",
   "execution_count": 19,
   "id": "5492b3dc",
   "metadata": {},
   "outputs": [
    {
     "data": {
      "text/plain": [
       "'Bikram Rokaya'"
      ]
     },
     "execution_count": 19,
     "metadata": {},
     "output_type": "execute_result"
    }
   ],
   "source": [
    "d['name']   #access value using key in dict"
   ]
  },
  {
   "cell_type": "code",
   "execution_count": 21,
   "id": "1e49206e",
   "metadata": {},
   "outputs": [
    {
     "data": {
      "text/plain": [
       "'Bikram Rokaya'"
      ]
     },
     "execution_count": 21,
     "metadata": {},
     "output_type": "execute_result"
    }
   ],
   "source": [
    "d.get('name')    #access value using key in dict"
   ]
  },
  {
   "cell_type": "code",
   "execution_count": 22,
   "id": "4358dc4f",
   "metadata": {},
   "outputs": [
    {
     "data": {
      "text/plain": [
       "21"
      ]
     },
     "execution_count": 22,
     "metadata": {},
     "output_type": "execute_result"
    }
   ],
   "source": [
    "d.get('age')"
   ]
  },
  {
   "cell_type": "code",
   "execution_count": 24,
   "id": "0813ba58",
   "metadata": {},
   "outputs": [
    {
     "data": {
      "text/plain": [
       "21"
      ]
     },
     "execution_count": 24,
     "metadata": {},
     "output_type": "execute_result"
    }
   ],
   "source": [
    "d['age']"
   ]
  },
  {
   "cell_type": "code",
   "execution_count": null,
   "id": "4e895c1e",
   "metadata": {},
   "outputs": [],
   "source": []
  },
  {
   "cell_type": "markdown",
   "id": "af4e626f",
   "metadata": {},
   "source": [
    "# Update dictionary"
   ]
  },
  {
   "cell_type": "code",
   "execution_count": 25,
   "id": "45799886",
   "metadata": {},
   "outputs": [],
   "source": [
    "d={\n",
    "    'name':'Bikram rokaya',\n",
    "    'age':21,\n",
    "    'Studies':['python','DBMS','java','AI']\n",
    "}"
   ]
  },
  {
   "cell_type": "code",
   "execution_count": 26,
   "id": "257e3fd0",
   "metadata": {},
   "outputs": [
    {
     "data": {
      "text/plain": [
       "{'name': 'Bikram rokaya',\n",
       " 'age': 21,\n",
       " 'Studies': ['python', 'DBMS', 'java', 'AI']}"
      ]
     },
     "execution_count": 26,
     "metadata": {},
     "output_type": "execute_result"
    }
   ],
   "source": [
    "d"
   ]
  },
  {
   "cell_type": "code",
   "execution_count": 27,
   "id": "7678358a",
   "metadata": {},
   "outputs": [],
   "source": [
    "d['name']='Bikram Rokaya'"
   ]
  },
  {
   "cell_type": "code",
   "execution_count": 28,
   "id": "1efcb323",
   "metadata": {},
   "outputs": [
    {
     "data": {
      "text/plain": [
       "{'name': 'Bikram Rokaya',\n",
       " 'age': 21,\n",
       " 'Studies': ['python', 'DBMS', 'java', 'AI']}"
      ]
     },
     "execution_count": 28,
     "metadata": {},
     "output_type": "execute_result"
    }
   ],
   "source": [
    "d"
   ]
  },
  {
   "cell_type": "code",
   "execution_count": 29,
   "id": "14f2c4e3",
   "metadata": {},
   "outputs": [],
   "source": [
    "d.update({'name':'Bikram Rokaya'})"
   ]
  },
  {
   "cell_type": "code",
   "execution_count": 30,
   "id": "cb6b83a2",
   "metadata": {},
   "outputs": [
    {
     "data": {
      "text/plain": [
       "{'name': 'Bikram Rokaya',\n",
       " 'age': 21,\n",
       " 'Studies': ['python', 'DBMS', 'java', 'AI']}"
      ]
     },
     "execution_count": 30,
     "metadata": {},
     "output_type": "execute_result"
    }
   ],
   "source": [
    "d"
   ]
  },
  {
   "cell_type": "code",
   "execution_count": 31,
   "id": "c063310d",
   "metadata": {},
   "outputs": [],
   "source": [
    "d.update({'address':'Chabahil'})"
   ]
  },
  {
   "cell_type": "code",
   "execution_count": 32,
   "id": "c96cc0d1",
   "metadata": {},
   "outputs": [
    {
     "data": {
      "text/plain": [
       "{'name': 'Bikram Rokaya',\n",
       " 'age': 21,\n",
       " 'Studies': ['python', 'DBMS', 'java', 'AI'],\n",
       " 'address': 'Chabahil'}"
      ]
     },
     "execution_count": 32,
     "metadata": {},
     "output_type": "execute_result"
    }
   ],
   "source": [
    "d"
   ]
  },
  {
   "cell_type": "code",
   "execution_count": null,
   "id": "b56c077a",
   "metadata": {},
   "outputs": [],
   "source": []
  },
  {
   "cell_type": "markdown",
   "id": "e1c18331",
   "metadata": {},
   "source": [
    "# getting keys and values in dictionary"
   ]
  },
  {
   "cell_type": "code",
   "execution_count": 33,
   "id": "0ce754cb",
   "metadata": {},
   "outputs": [
    {
     "data": {
      "text/plain": [
       "dict_keys(['name', 'age', 'Studies', 'address'])"
      ]
     },
     "execution_count": 33,
     "metadata": {},
     "output_type": "execute_result"
    }
   ],
   "source": [
    "d.keys()"
   ]
  },
  {
   "cell_type": "code",
   "execution_count": 35,
   "id": "a26799c9",
   "metadata": {},
   "outputs": [
    {
     "data": {
      "text/plain": [
       "dict_values(['Bikram Rokaya', 21, ['python', 'DBMS', 'java', 'AI'], 'Chabahil'])"
      ]
     },
     "execution_count": 35,
     "metadata": {},
     "output_type": "execute_result"
    }
   ],
   "source": [
    "d.values()"
   ]
  },
  {
   "cell_type": "code",
   "execution_count": null,
   "id": "36392fa4",
   "metadata": {},
   "outputs": [],
   "source": []
  },
  {
   "cell_type": "code",
   "execution_count": null,
   "id": "27d2ff38",
   "metadata": {},
   "outputs": [],
   "source": [
    "\n"
   ]
  },
  {
   "cell_type": "markdown",
   "id": "bbf3c974",
   "metadata": {},
   "source": [
    "# pop in dictionary"
   ]
  },
  {
   "cell_type": "code",
   "execution_count": 36,
   "id": "5771681c",
   "metadata": {},
   "outputs": [
    {
     "data": {
      "text/plain": [
       "'Chabahil'"
      ]
     },
     "execution_count": 36,
     "metadata": {},
     "output_type": "execute_result"
    }
   ],
   "source": [
    "d.pop('address')"
   ]
  },
  {
   "cell_type": "code",
   "execution_count": 37,
   "id": "71b78c1d",
   "metadata": {},
   "outputs": [
    {
     "data": {
      "text/plain": [
       "{'name': 'Bikram Rokaya',\n",
       " 'age': 21,\n",
       " 'Studies': ['python', 'DBMS', 'java', 'AI']}"
      ]
     },
     "execution_count": 37,
     "metadata": {},
     "output_type": "execute_result"
    }
   ],
   "source": [
    "d"
   ]
  },
  {
   "cell_type": "code",
   "execution_count": null,
   "id": "57146ccb",
   "metadata": {},
   "outputs": [],
   "source": []
  },
  {
   "cell_type": "code",
   "execution_count": null,
   "id": "2188d696",
   "metadata": {},
   "outputs": [],
   "source": []
  },
  {
   "cell_type": "markdown",
   "id": "1b6d7c4d",
   "metadata": {},
   "source": [
    "# .items() method in dictionary"
   ]
  },
  {
   "cell_type": "code",
   "execution_count": 38,
   "id": "2075a440",
   "metadata": {},
   "outputs": [],
   "source": [
    "d={\n",
    "    'name':'Bikram rokaya',\n",
    "    'age':21,\n",
    "    'Studies':['python','DBMS','java','AI']\n",
    "}"
   ]
  },
  {
   "cell_type": "code",
   "execution_count": 39,
   "id": "3675e116",
   "metadata": {},
   "outputs": [
    {
     "data": {
      "text/plain": [
       "dict_items([('name', 'Bikram rokaya'), ('age', 21), ('Studies', ['python', 'DBMS', 'java', 'AI'])])"
      ]
     },
     "execution_count": 39,
     "metadata": {},
     "output_type": "execute_result"
    }
   ],
   "source": [
    "d.items()"
   ]
  },
  {
   "cell_type": "code",
   "execution_count": null,
   "id": "23dce7d9",
   "metadata": {},
   "outputs": [],
   "source": []
  },
  {
   "cell_type": "code",
   "execution_count": null,
   "id": "42ef147a",
   "metadata": {},
   "outputs": [],
   "source": []
  },
  {
   "cell_type": "code",
   "execution_count": 40,
   "id": "ba579b47",
   "metadata": {},
   "outputs": [
    {
     "data": {
      "text/plain": [
       "(36, 8)"
      ]
     },
     "execution_count": 40,
     "metadata": {},
     "output_type": "execute_result"
    }
   ],
   "source": [
    "(36,8)"
   ]
  },
  {
   "cell_type": "code",
   "execution_count": 44,
   "id": "90514c11",
   "metadata": {},
   "outputs": [],
   "source": [
    "a,b=(36,8)   #tuple unpacking"
   ]
  },
  {
   "cell_type": "code",
   "execution_count": 45,
   "id": "32748302",
   "metadata": {},
   "outputs": [
    {
     "data": {
      "text/plain": [
       "36"
      ]
     },
     "execution_count": 45,
     "metadata": {},
     "output_type": "execute_result"
    }
   ],
   "source": [
    "a"
   ]
  },
  {
   "cell_type": "code",
   "execution_count": 46,
   "id": "2ec10c36",
   "metadata": {},
   "outputs": [
    {
     "data": {
      "text/plain": [
       "8"
      ]
     },
     "execution_count": 46,
     "metadata": {},
     "output_type": "execute_result"
    }
   ],
   "source": [
    "b"
   ]
  },
  {
   "cell_type": "code",
   "execution_count": null,
   "id": "ac183811",
   "metadata": {},
   "outputs": [],
   "source": []
  },
  {
   "cell_type": "code",
   "execution_count": null,
   "id": "da358b02",
   "metadata": {},
   "outputs": [],
   "source": []
  },
  {
   "cell_type": "code",
   "execution_count": 48,
   "id": "c568bbeb",
   "metadata": {},
   "outputs": [
    {
     "data": {
      "text/plain": [
       "dict_items([('name', 'Bikram rokaya'), ('age', 21), ('Studies', ['python', 'DBMS', 'java', 'AI'])])"
      ]
     },
     "execution_count": 48,
     "metadata": {},
     "output_type": "execute_result"
    }
   ],
   "source": [
    "d.items()"
   ]
  },
  {
   "cell_type": "code",
   "execution_count": 50,
   "id": "6cb9656c",
   "metadata": {},
   "outputs": [
    {
     "name": "stdout",
     "output_type": "stream",
     "text": [
      "The key is name and value is Bikram rokaya\n",
      "The key is age and value is 21\n",
      "The key is Studies and value is ['python', 'DBMS', 'java', 'AI']\n"
     ]
    }
   ],
   "source": [
    "for key , value in d.items():\n",
    "    print(f\"The key is {key} and value is {value}\")"
   ]
  },
  {
   "cell_type": "code",
   "execution_count": null,
   "id": "867f201b",
   "metadata": {},
   "outputs": [],
   "source": []
  },
  {
   "cell_type": "code",
   "execution_count": null,
   "id": "531d25d9",
   "metadata": {},
   "outputs": [],
   "source": []
  },
  {
   "cell_type": "code",
   "execution_count": 51,
   "id": "69f0f1e3",
   "metadata": {},
   "outputs": [],
   "source": [
    "d={\n",
    "    'name':'Bikram rokaya',\n",
    "    'age':21,\n",
    "    'Studies':['python','DBMS','java','AI']\n",
    "}"
   ]
  },
  {
   "cell_type": "code",
   "execution_count": 52,
   "id": "4b8d0a63",
   "metadata": {},
   "outputs": [
    {
     "name": "stdout",
     "output_type": "stream",
     "text": [
      "name\n",
      "age\n",
      "Studies\n"
     ]
    }
   ],
   "source": [
    "for items in d:\n",
    "    print(items)"
   ]
  },
  {
   "cell_type": "code",
   "execution_count": null,
   "id": "0c591fd1",
   "metadata": {},
   "outputs": [],
   "source": []
  },
  {
   "cell_type": "code",
   "execution_count": null,
   "id": "d7527998",
   "metadata": {},
   "outputs": [],
   "source": []
  },
  {
   "cell_type": "markdown",
   "id": "747341e2",
   "metadata": {},
   "source": [
    "# dictionary Comprehension"
   ]
  },
  {
   "cell_type": "code",
   "execution_count": 53,
   "id": "06e87759",
   "metadata": {},
   "outputs": [],
   "source": [
    "data={1:'one',2:'two',3:'three'}"
   ]
  },
  {
   "cell_type": "code",
   "execution_count": 54,
   "id": "318993aa",
   "metadata": {},
   "outputs": [
    {
     "data": {
      "text/plain": [
       "{1: 'one', 2: 'two', 3: 'three'}"
      ]
     },
     "execution_count": 54,
     "metadata": {},
     "output_type": "execute_result"
    }
   ],
   "source": [
    "data"
   ]
  },
  {
   "cell_type": "code",
   "execution_count": 55,
   "id": "15159c85",
   "metadata": {},
   "outputs": [],
   "source": [
    "# swap the keys and values"
   ]
  },
  {
   "cell_type": "code",
   "execution_count": 56,
   "id": "c0c73d89",
   "metadata": {},
   "outputs": [
    {
     "data": {
      "text/plain": [
       "{'one': 1, 'two': 2, 'three': 3}"
      ]
     },
     "execution_count": 56,
     "metadata": {},
     "output_type": "execute_result"
    }
   ],
   "source": [
    "{value:key for key, value in data.items()}"
   ]
  },
  {
   "cell_type": "code",
   "execution_count": null,
   "id": "0545557a",
   "metadata": {},
   "outputs": [],
   "source": []
  },
  {
   "cell_type": "code",
   "execution_count": null,
   "id": "389ba4f4",
   "metadata": {},
   "outputs": [],
   "source": []
  },
  {
   "cell_type": "markdown",
   "id": "e707fb8a",
   "metadata": {},
   "source": [
    "# nested dictionary"
   ]
  },
  {
   "cell_type": "code",
   "execution_count": 57,
   "id": "218ab480",
   "metadata": {},
   "outputs": [],
   "source": [
    "child={\n",
    "    'child1':{'name':'Bikram','gender':'male','age':'6'},\n",
    "    'child2':{'name':'Sudip','gender':'male','age':'9'},\n",
    "    'child3':{'name':'Gita','gender':'female','age':'2'},\n",
    "}"
   ]
  },
  {
   "cell_type": "code",
   "execution_count": 58,
   "id": "4ae144b5",
   "metadata": {},
   "outputs": [
    {
     "data": {
      "text/plain": [
       "{'child1': {'name': 'Bikram', 'gender': 'male', 'age': '6'},\n",
       " 'child2': {'name': 'Sudip', 'gender': 'male', 'age': '9'},\n",
       " 'child3': {'name': 'Gita', 'gender': 'female', 'age': '2'}}"
      ]
     },
     "execution_count": 58,
     "metadata": {},
     "output_type": "execute_result"
    }
   ],
   "source": [
    "child"
   ]
  },
  {
   "cell_type": "code",
   "execution_count": 59,
   "id": "95a45e0e",
   "metadata": {},
   "outputs": [
    {
     "data": {
      "text/plain": [
       "'female'"
      ]
     },
     "execution_count": 59,
     "metadata": {},
     "output_type": "execute_result"
    }
   ],
   "source": [
    "child['child3']['gender']"
   ]
  },
  {
   "cell_type": "code",
   "execution_count": null,
   "id": "c569d69b",
   "metadata": {},
   "outputs": [],
   "source": []
  }
 ],
 "metadata": {
  "kernelspec": {
   "display_name": "Python 3 (ipykernel)",
   "language": "python",
   "name": "python3"
  },
  "language_info": {
   "codemirror_mode": {
    "name": "ipython",
    "version": 3
   },
   "file_extension": ".py",
   "mimetype": "text/x-python",
   "name": "python",
   "nbconvert_exporter": "python",
   "pygments_lexer": "ipython3",
   "version": "3.8.10"
  }
 },
 "nbformat": 4,
 "nbformat_minor": 5
}
