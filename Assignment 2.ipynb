{
 "cells": [
  {
   "cell_type": "markdown",
   "id": "e703c6d0",
   "metadata": {},
   "source": [
    "# WAP to check if the given input is 10 or not. if it is 10 print the number"
   ]
  },
  {
   "cell_type": "code",
   "execution_count": 1,
   "id": "f9e4da82",
   "metadata": {},
   "outputs": [
    {
     "name": "stdout",
     "output_type": "stream",
     "text": [
      "It is equals to 10\n"
     ]
    }
   ],
   "source": [
    "num = 10\n",
    "\n",
    "if num == 10:\n",
    "    print(\"It is equals to 10\")\n",
    "    \n",
    "else:\n",
    "    print(\"not matched\")"
   ]
  },
  {
   "cell_type": "code",
   "execution_count": null,
   "id": "b9a44416",
   "metadata": {},
   "outputs": [],
   "source": []
  },
  {
   "cell_type": "markdown",
   "id": "b77ff108",
   "metadata": {},
   "source": [
    "# WAP to check the user given input integer is positive or negative number.if it is positive print positive else print negative"
   ]
  },
  {
   "cell_type": "code",
   "execution_count": 6,
   "id": "ad374653",
   "metadata": {},
   "outputs": [
    {
     "name": "stdout",
     "output_type": "stream",
     "text": [
      "Enter a number : 0\n",
      "Positive\n"
     ]
    }
   ],
   "source": [
    "num =int(input(\"Enter a number : \"))\n",
    "\n",
    "if num < 0:\n",
    "    print(\"Negative\")\n",
    "    \n",
    "else:\n",
    "    print(\"Positive\")\n",
    "    "
   ]
  },
  {
   "cell_type": "code",
   "execution_count": 5,
   "id": "d1b78199",
   "metadata": {},
   "outputs": [
    {
     "name": "stdout",
     "output_type": "stream",
     "text": [
      "Enter a number : 9\n",
      "Positive\n"
     ]
    }
   ],
   "source": [
    "num =int(input(\"Enter a number : \"))\n",
    "\n",
    "if num > 0:\n",
    "    print(\"Positive\")\n",
    "    \n",
    "elif num == 0:\n",
    "        print(\"Zero\")\n",
    "    \n",
    "else:\n",
    "        print(\"Negative\")"
   ]
  },
  {
   "cell_type": "code",
   "execution_count": null,
   "id": "3b979c2a",
   "metadata": {},
   "outputs": [],
   "source": []
  },
  {
   "cell_type": "code",
   "execution_count": null,
   "id": "b9340041",
   "metadata": {},
   "outputs": [],
   "source": []
  },
  {
   "cell_type": "markdown",
   "id": "df04ad85",
   "metadata": {},
   "source": [
    "# WAP to display \"Hello\" if a number entered by user is a multiple of 5 ,otherwise print \"bye\"."
   ]
  },
  {
   "cell_type": "code",
   "execution_count": 7,
   "id": "27f96682",
   "metadata": {},
   "outputs": [
    {
     "name": "stdout",
     "output_type": "stream",
     "text": [
      "Enter a number :20\n",
      "Hello\n"
     ]
    }
   ],
   "source": [
    "num = int(input(\"Enter a number :\"))\n",
    "\n",
    "if num % 5 ==0:\n",
    "    print(\"Hello\")\n",
    "    \n",
    "else :\n",
    "    print(\"Bye\")"
   ]
  },
  {
   "cell_type": "code",
   "execution_count": null,
   "id": "be049e93",
   "metadata": {},
   "outputs": [],
   "source": []
  },
  {
   "cell_type": "code",
   "execution_count": null,
   "id": "6302cbd7",
   "metadata": {},
   "outputs": [],
   "source": []
  },
  {
   "cell_type": "markdown",
   "id": "84be5a63",
   "metadata": {},
   "source": [
    "# WAP to check whether a person is eligible for voting or not(accept age from user\n"
   ]
  },
  {
   "cell_type": "code",
   "execution_count": 9,
   "id": "0d6ef110",
   "metadata": {},
   "outputs": [
    {
     "name": "stdout",
     "output_type": "stream",
     "text": [
      "Enter a age :10\n",
      "Not elligible for voting\n"
     ]
    }
   ],
   "source": [
    "age =int(input(\"Enter a age :\"))\n",
    "\n",
    "if age >= 18:\n",
    "    print(\"elligible for voting\")\n",
    "    \n",
    "else:\n",
    "    print(\"Not elligible for voting\")"
   ]
  },
  {
   "cell_type": "code",
   "execution_count": null,
   "id": "d966d8a9",
   "metadata": {},
   "outputs": [],
   "source": []
  },
  {
   "cell_type": "code",
   "execution_count": null,
   "id": "37cd211a",
   "metadata": {},
   "outputs": [],
   "source": []
  },
  {
   "cell_type": "code",
   "execution_count": null,
   "id": "1da4ae5f",
   "metadata": {},
   "outputs": [],
   "source": []
  },
  {
   "cell_type": "markdown",
   "id": "f3355fb3",
   "metadata": {},
   "source": [
    "# WAP to check whether the last digit of a number (entered by user) is divisible by 3 or not"
   ]
  },
  {
   "cell_type": "code",
   "execution_count": 7,
   "id": "fefb352a",
   "metadata": {},
   "outputs": [
    {
     "name": "stdout",
     "output_type": "stream",
     "text": [
      "Enter a number :91\n",
      "last digit Not divisible by 3\n"
     ]
    }
   ],
   "source": [
    "num = int(input(\"Enter a number :\"))\n",
    "\n",
    "last_digit = num % 10\n",
    "\n",
    "\n",
    "if last_digit % 3==0:\n",
    "    print (\" lastdigiti divisible by 3\")\n",
    "    \n",
    "else:\n",
    "    print(\"last digit Not divisible by 3\")"
   ]
  },
  {
   "cell_type": "code",
   "execution_count": null,
   "id": "5cc85a87",
   "metadata": {},
   "outputs": [],
   "source": []
  }
 ],
 "metadata": {
  "kernelspec": {
   "display_name": "Python 3 (ipykernel)",
   "language": "python",
   "name": "python3"
  },
  "language_info": {
   "codemirror_mode": {
    "name": "ipython",
    "version": 3
   },
   "file_extension": ".py",
   "mimetype": "text/x-python",
   "name": "python",
   "nbconvert_exporter": "python",
   "pygments_lexer": "ipython3",
   "version": "3.8.10"
  }
 },
 "nbformat": 4,
 "nbformat_minor": 5
}
