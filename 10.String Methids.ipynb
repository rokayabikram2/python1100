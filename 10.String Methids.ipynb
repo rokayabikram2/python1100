{
 "cells": [
  {
   "cell_type": "code",
   "execution_count": 1,
   "id": "16eef309",
   "metadata": {},
   "outputs": [],
   "source": [
    "name='@ikram'\n"
   ]
  },
  {
   "cell_type": "code",
   "execution_count": 2,
   "id": "b15ae5a2",
   "metadata": {},
   "outputs": [
    {
     "data": {
      "text/plain": [
       "'@'"
      ]
     },
     "execution_count": 2,
     "metadata": {},
     "output_type": "execute_result"
    }
   ],
   "source": [
    "name[0]"
   ]
  },
  {
   "cell_type": "code",
   "execution_count": 3,
   "id": "54d21945",
   "metadata": {},
   "outputs": [
    {
     "ename": "TypeError",
     "evalue": "'str' object does not support item assignment",
     "output_type": "error",
     "traceback": [
      "\u001b[1;31m---------------------------------------------------------------------------\u001b[0m",
      "\u001b[1;31mTypeError\u001b[0m                                 Traceback (most recent call last)",
      "Cell \u001b[1;32mIn[3], line 1\u001b[0m\n\u001b[1;32m----> 1\u001b[0m \u001b[43mname\u001b[49m\u001b[43m[\u001b[49m\u001b[38;5;241;43m0\u001b[39;49m\u001b[43m]\u001b[49m\u001b[38;5;241m=\u001b[39m\u001b[38;5;124m'\u001b[39m\u001b[38;5;124mB\u001b[39m\u001b[38;5;124m'\u001b[39m\u001b[38;5;66;03m#Strings are immutable datatype\u001b[39;00m\n",
      "\u001b[1;31mTypeError\u001b[0m: 'str' object does not support item assignment"
     ]
    }
   ],
   "source": [
    "name[0]='B'#Strings are immutable datatype"
   ]
  },
  {
   "cell_type": "code",
   "execution_count": 4,
   "id": "5aee0e22",
   "metadata": {},
   "outputs": [
    {
     "data": {
      "text/plain": [
       "'Bikram'"
      ]
     },
     "execution_count": 4,
     "metadata": {},
     "output_type": "execute_result"
    }
   ],
   "source": [
    "name.replace('@',\"B\")"
   ]
  },
  {
   "cell_type": "code",
   "execution_count": 5,
   "id": "3509c19a",
   "metadata": {},
   "outputs": [
    {
     "data": {
      "text/plain": [
       "'@ikram'"
      ]
     },
     "execution_count": 5,
     "metadata": {},
     "output_type": "execute_result"
    }
   ],
   "source": [
    "name"
   ]
  },
  {
   "cell_type": "code",
   "execution_count": 6,
   "id": "d0bfab1d",
   "metadata": {},
   "outputs": [],
   "source": [
    "name=name.replace(\"@\",\"B\")"
   ]
  },
  {
   "cell_type": "code",
   "execution_count": 7,
   "id": "49823d9c",
   "metadata": {},
   "outputs": [
    {
     "data": {
      "text/plain": [
       "'Bikram'"
      ]
     },
     "execution_count": 7,
     "metadata": {},
     "output_type": "execute_result"
    }
   ],
   "source": [
    "name"
   ]
  },
  {
   "cell_type": "code",
   "execution_count": null,
   "id": "53be2a47",
   "metadata": {},
   "outputs": [],
   "source": []
  },
  {
   "cell_type": "code",
   "execution_count": null,
   "id": "2a7ab3ba",
   "metadata": {},
   "outputs": [],
   "source": []
  },
  {
   "cell_type": "code",
   "execution_count": 9,
   "id": "d788756b",
   "metadata": {},
   "outputs": [
    {
     "data": {
      "text/plain": [
       "'BBikram'"
      ]
     },
     "execution_count": 9,
     "metadata": {},
     "output_type": "execute_result"
    }
   ],
   "source": [
    "name=\"@@ikram\"\n",
    "name=name.replace(\"@\",\"B\") #REGERX\n",
    "name"
   ]
  },
  {
   "cell_type": "code",
   "execution_count": 10,
   "id": "9013aa59",
   "metadata": {},
   "outputs": [
    {
     "data": {
      "text/plain": [
       "'Fantastic new Year !'"
      ]
     },
     "execution_count": 10,
     "metadata": {},
     "output_type": "execute_result"
    }
   ],
   "source": [
    "greet='Happy new Year !'\n",
    "greet = greet.replace(\"Happy\",\"Fantastic\")\n",
    "greet"
   ]
  },
  {
   "cell_type": "code",
   "execution_count": 12,
   "id": "66c549d4",
   "metadata": {},
   "outputs": [
    {
     "data": {
      "text/plain": [
       "'Brilliant new Year!'"
      ]
     },
     "execution_count": 12,
     "metadata": {},
     "output_type": "execute_result"
    }
   ],
   "source": [
    "\"Happy new Year!\".replace(\"Happy\",\"Brilliant\")"
   ]
  },
  {
   "cell_type": "code",
   "execution_count": null,
   "id": "08ee61e0",
   "metadata": {},
   "outputs": [],
   "source": []
  },
  {
   "cell_type": "code",
   "execution_count": null,
   "id": "19b0e073",
   "metadata": {},
   "outputs": [],
   "source": []
  },
  {
   "cell_type": "markdown",
   "id": "0b66d4e7",
   "metadata": {},
   "source": [
    "# String Normalization Method"
   ]
  },
  {
   "cell_type": "code",
   "execution_count": 13,
   "id": "883ef230",
   "metadata": {},
   "outputs": [],
   "source": [
    "greet=\"HAPPY NEW YEAR\"\n"
   ]
  },
  {
   "cell_type": "code",
   "execution_count": 16,
   "id": "84ab132a",
   "metadata": {},
   "outputs": [
    {
     "data": {
      "text/plain": [
       "'happy new year'"
      ]
     },
     "execution_count": 16,
     "metadata": {},
     "output_type": "execute_result"
    }
   ],
   "source": [
    "greet.lower()"
   ]
  },
  {
   "cell_type": "code",
   "execution_count": 17,
   "id": "4822ff85",
   "metadata": {},
   "outputs": [
    {
     "data": {
      "text/plain": [
       "'HAPPY NEW YEAR'"
      ]
     },
     "execution_count": 17,
     "metadata": {},
     "output_type": "execute_result"
    }
   ],
   "source": [
    "greet"
   ]
  },
  {
   "cell_type": "code",
   "execution_count": 18,
   "id": "75f75dc8",
   "metadata": {},
   "outputs": [
    {
     "data": {
      "text/plain": [
       "'HAPPY NEW YEAR'"
      ]
     },
     "execution_count": 18,
     "metadata": {},
     "output_type": "execute_result"
    }
   ],
   "source": [
    "\"happy new year\".upper()"
   ]
  },
  {
   "cell_type": "code",
   "execution_count": 19,
   "id": "64f5ee27",
   "metadata": {},
   "outputs": [
    {
     "data": {
      "text/plain": [
       "'HAPPY NEW YEAR'"
      ]
     },
     "execution_count": 19,
     "metadata": {},
     "output_type": "execute_result"
    }
   ],
   "source": [
    "greet"
   ]
  },
  {
   "cell_type": "code",
   "execution_count": 21,
   "id": "139aa294",
   "metadata": {},
   "outputs": [
    {
     "data": {
      "text/plain": [
       "'happy new year'"
      ]
     },
     "execution_count": 21,
     "metadata": {},
     "output_type": "execute_result"
    }
   ],
   "source": [
    "\"HAPPY NEW YEAR\".lower()"
   ]
  },
  {
   "cell_type": "code",
   "execution_count": 22,
   "id": "0f97bb10",
   "metadata": {},
   "outputs": [
    {
     "data": {
      "text/plain": [
       "'HAPPY NEW YEAR'"
      ]
     },
     "execution_count": 22,
     "metadata": {},
     "output_type": "execute_result"
    }
   ],
   "source": [
    "greet"
   ]
  },
  {
   "cell_type": "code",
   "execution_count": null,
   "id": "be583361",
   "metadata": {},
   "outputs": [],
   "source": []
  },
  {
   "cell_type": "code",
   "execution_count": null,
   "id": "ac238696",
   "metadata": {},
   "outputs": [],
   "source": []
  },
  {
   "cell_type": "markdown",
   "id": "28eae476",
   "metadata": {},
   "source": [
    "# .Stripe(),.rstripe(),.lstripe()"
   ]
  },
  {
   "cell_type": "code",
   "execution_count": 25,
   "id": "9ab75681",
   "metadata": {},
   "outputs": [],
   "source": [
    "name =\"  Bikram   Rokaya   \""
   ]
  },
  {
   "cell_type": "code",
   "execution_count": 26,
   "id": "68a4cfd0",
   "metadata": {},
   "outputs": [
    {
     "data": {
      "text/plain": [
       "'Bikram   Rokaya'"
      ]
     },
     "execution_count": 26,
     "metadata": {},
     "output_type": "execute_result"
    }
   ],
   "source": [
    "name.strip()"
   ]
  },
  {
   "cell_type": "code",
   "execution_count": 27,
   "id": "a1f3ddf8",
   "metadata": {},
   "outputs": [
    {
     "data": {
      "text/plain": [
       "'  Bikram   Rokaya'"
      ]
     },
     "execution_count": 27,
     "metadata": {},
     "output_type": "execute_result"
    }
   ],
   "source": [
    "name.rstrip()"
   ]
  },
  {
   "cell_type": "code",
   "execution_count": 28,
   "id": "9ca682a8",
   "metadata": {},
   "outputs": [
    {
     "data": {
      "text/plain": [
       "'Bikram   Rokaya   '"
      ]
     },
     "execution_count": 28,
     "metadata": {},
     "output_type": "execute_result"
    }
   ],
   "source": [
    "name.lstrip()"
   ]
  },
  {
   "cell_type": "code",
   "execution_count": null,
   "id": "f88f233d",
   "metadata": {},
   "outputs": [],
   "source": []
  },
  {
   "cell_type": "code",
   "execution_count": null,
   "id": "acca7313",
   "metadata": {},
   "outputs": [],
   "source": []
  },
  {
   "cell_type": "markdown",
   "id": "2f4c5450",
   "metadata": {},
   "source": [
    "# .Split() and Join()"
   ]
  },
  {
   "cell_type": "code",
   "execution_count": 29,
   "id": "3c234b6d",
   "metadata": {},
   "outputs": [],
   "source": [
    "msg =\"Hi! Please reply.\""
   ]
  },
  {
   "cell_type": "code",
   "execution_count": 31,
   "id": "5b6114ed",
   "metadata": {},
   "outputs": [
    {
     "data": {
      "text/plain": [
       "['Hi!', 'Please', 'reply.']"
      ]
     },
     "execution_count": 31,
     "metadata": {},
     "output_type": "execute_result"
    }
   ],
   "source": [
    "msg.split(\" \")"
   ]
  },
  {
   "cell_type": "code",
   "execution_count": 32,
   "id": "19a876ed",
   "metadata": {},
   "outputs": [
    {
     "data": {
      "text/plain": [
       "['Hi', ' Please reply.']"
      ]
     },
     "execution_count": 32,
     "metadata": {},
     "output_type": "execute_result"
    }
   ],
   "source": [
    "msg.split(\"!\")"
   ]
  },
  {
   "cell_type": "code",
   "execution_count": 33,
   "id": "bceed0c5",
   "metadata": {},
   "outputs": [
    {
     "data": {
      "text/plain": [
       "list"
      ]
     },
     "execution_count": 33,
     "metadata": {},
     "output_type": "execute_result"
    }
   ],
   "source": [
    "type(msg.split(\" \"))"
   ]
  },
  {
   "cell_type": "code",
   "execution_count": null,
   "id": "223fd1f3",
   "metadata": {},
   "outputs": [],
   "source": []
  },
  {
   "cell_type": "markdown",
   "id": "1b43f863",
   "metadata": {},
   "source": [
    "# .join()\n"
   ]
  },
  {
   "cell_type": "code",
   "execution_count": 39,
   "id": "e09b8e1a",
   "metadata": {},
   "outputs": [
    {
     "data": {
      "text/plain": [
       "'Hi Please Reply.'"
      ]
     },
     "execution_count": 39,
     "metadata": {},
     "output_type": "execute_result"
    }
   ],
   "source": [
    "newmsg=[\"Hi\",\"Please Reply.\"]\n",
    "\" \".join(newmsg)"
   ]
  },
  {
   "cell_type": "code",
   "execution_count": 42,
   "id": "a2149166",
   "metadata": {},
   "outputs": [
    {
     "data": {
      "text/plain": [
       "'Hi Please Reply  I am Bikram'"
      ]
     },
     "execution_count": 42,
     "metadata": {},
     "output_type": "execute_result"
    }
   ],
   "source": [
    "newmsg=[\"Hi\",\"Please Reply \",\"I am Bikram\"]\n",
    "\" \".join(newmsg)"
   ]
  },
  {
   "cell_type": "code",
   "execution_count": 43,
   "id": "59e7ca31",
   "metadata": {},
   "outputs": [
    {
     "data": {
      "text/plain": [
       "'HI I am Bikram.'"
      ]
     },
     "execution_count": 43,
     "metadata": {},
     "output_type": "execute_result"
    }
   ],
   "source": [
    "mgs=[\"HI\",\"I am\",\"Bikram.\"]\n",
    "\" \".join(mgs)"
   ]
  },
  {
   "cell_type": "code",
   "execution_count": null,
   "id": "ff856f65",
   "metadata": {},
   "outputs": [],
   "source": []
  }
 ],
 "metadata": {
  "kernelspec": {
   "display_name": "Python 3 (ipykernel)",
   "language": "python",
   "name": "python3"
  },
  "language_info": {
   "codemirror_mode": {
    "name": "ipython",
    "version": 3
   },
   "file_extension": ".py",
   "mimetype": "text/x-python",
   "name": "python",
   "nbconvert_exporter": "python",
   "pygments_lexer": "ipython3",
   "version": "3.8.10"
  }
 },
 "nbformat": 4,
 "nbformat_minor": 5
}
