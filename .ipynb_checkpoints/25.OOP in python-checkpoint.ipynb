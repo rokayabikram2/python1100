{
 "cells": [
  {
   "cell_type": "code",
   "execution_count": 2,
   "id": "6580da89",
   "metadata": {},
   "outputs": [],
   "source": [
    "#creating empty class\n",
    "\n",
    "class Person:    #class is blueprint of object\n",
    "    pass"
   ]
  },
  {
   "cell_type": "code",
   "execution_count": 3,
   "id": "ac44f1b5",
   "metadata": {},
   "outputs": [],
   "source": [
    "obj=Person()   #object is instance of class\n",
    "              "
   ]
  },
  {
   "cell_type": "code",
   "execution_count": 4,
   "id": "662c97ee",
   "metadata": {},
   "outputs": [
    {
     "data": {
      "text/plain": [
       "__main__.Person"
      ]
     },
     "execution_count": 4,
     "metadata": {},
     "output_type": "execute_result"
    }
   ],
   "source": [
    "type(obj)"
   ]
  },
  {
   "cell_type": "code",
   "execution_count": 6,
   "id": "04aee172",
   "metadata": {},
   "outputs": [
    {
     "name": "stdout",
     "output_type": "stream",
     "text": [
      "<class '__main__.Person'>\n"
     ]
    }
   ],
   "source": [
    "if __name__==\"__main__\":\n",
    "    obj=Person()\n",
    "    print(type(obj))"
   ]
  },
  {
   "cell_type": "code",
   "execution_count": null,
   "id": "b92a58ed",
   "metadata": {},
   "outputs": [],
   "source": []
  },
  {
   "cell_type": "code",
   "execution_count": null,
   "id": "596841b1",
   "metadata": {},
   "outputs": [],
   "source": []
  },
  {
   "cell_type": "markdown",
   "id": "33d66ded",
   "metadata": {},
   "source": [
    "# class and object attribute"
   ]
  },
  {
   "cell_type": "code",
   "execution_count": 14,
   "id": "164894e5",
   "metadata": {},
   "outputs": [],
   "source": [
    "class Mammal:\n",
    "    has_hair=True  #class attribute"
   ]
  },
  {
   "cell_type": "code",
   "execution_count": 8,
   "id": "08049068",
   "metadata": {},
   "outputs": [],
   "source": [
    "human=Mammal()"
   ]
  },
  {
   "cell_type": "code",
   "execution_count": 9,
   "id": "458abf05",
   "metadata": {},
   "outputs": [
    {
     "data": {
      "text/plain": [
       "True"
      ]
     },
     "execution_count": 9,
     "metadata": {},
     "output_type": "execute_result"
    }
   ],
   "source": [
    "human.has_hair   #class attribute is same for all object\n"
   ]
  },
  {
   "cell_type": "code",
   "execution_count": 10,
   "id": "7b3b349d",
   "metadata": {},
   "outputs": [],
   "source": [
    "cow=Mammal()"
   ]
  },
  {
   "cell_type": "code",
   "execution_count": 15,
   "id": "10a579e7",
   "metadata": {},
   "outputs": [
    {
     "data": {
      "text/plain": [
       "True"
      ]
     },
     "execution_count": 15,
     "metadata": {},
     "output_type": "execute_result"
    }
   ],
   "source": [
    "cow.has_hair   #class attribute is same for all object"
   ]
  },
  {
   "cell_type": "code",
   "execution_count": null,
   "id": "4acda319",
   "metadata": {},
   "outputs": [],
   "source": []
  },
  {
   "cell_type": "markdown",
   "id": "6859ecc9",
   "metadata": {},
   "source": [
    "# object attribute"
   ]
  },
  {
   "cell_type": "code",
   "execution_count": 17,
   "id": "3427c778",
   "metadata": {},
   "outputs": [],
   "source": [
    "class Mammal:\n",
    "    has_hair=True\n",
    "    def __init__ (self,legs):\n",
    "        self.legs=legs  #initialize object attribute using initmethod"
   ]
  },
  {
   "cell_type": "code",
   "execution_count": 20,
   "id": "7bde5bda",
   "metadata": {},
   "outputs": [],
   "source": [
    "cow =Mammal(4)"
   ]
  },
  {
   "cell_type": "code",
   "execution_count": 22,
   "id": "04734eeb",
   "metadata": {},
   "outputs": [
    {
     "data": {
      "text/plain": [
       "True"
      ]
     },
     "execution_count": 22,
     "metadata": {},
     "output_type": "execute_result"
    }
   ],
   "source": [
    "cow.has_hair"
   ]
  },
  {
   "cell_type": "code",
   "execution_count": 24,
   "id": "9bea4e6c",
   "metadata": {},
   "outputs": [
    {
     "data": {
      "text/plain": [
       "4"
      ]
     },
     "execution_count": 24,
     "metadata": {},
     "output_type": "execute_result"
    }
   ],
   "source": [
    "cow.legs"
   ]
  },
  {
   "cell_type": "code",
   "execution_count": 25,
   "id": "7257f660",
   "metadata": {},
   "outputs": [],
   "source": [
    "Human=Mammal(2)"
   ]
  },
  {
   "cell_type": "code",
   "execution_count": 26,
   "id": "609c7aa2",
   "metadata": {},
   "outputs": [
    {
     "data": {
      "text/plain": [
       "True"
      ]
     },
     "execution_count": 26,
     "metadata": {},
     "output_type": "execute_result"
    }
   ],
   "source": [
    "Human.has_hair"
   ]
  },
  {
   "cell_type": "code",
   "execution_count": 29,
   "id": "9fbf060b",
   "metadata": {},
   "outputs": [
    {
     "data": {
      "text/plain": [
       "2"
      ]
     },
     "execution_count": 29,
     "metadata": {},
     "output_type": "execute_result"
    }
   ],
   "source": [
    "Human.legs"
   ]
  },
  {
   "cell_type": "code",
   "execution_count": 32,
   "id": "dd21ab78",
   "metadata": {},
   "outputs": [],
   "source": [
    "class Mammal:\n",
    "    has_hair=True\n",
    "    def __init__ (self,legs):  #init is attribute initializer\n",
    "        print(type(self))\n",
    "        self.legs=legs  #initialize object attribute using initmethod"
   ]
  },
  {
   "cell_type": "code",
   "execution_count": 31,
   "id": "08126699",
   "metadata": {},
   "outputs": [
    {
     "name": "stdout",
     "output_type": "stream",
     "text": [
      "<class '__main__.Mammal'>\n"
     ]
    }
   ],
   "source": [
    "cow=Mammal(4)"
   ]
  },
  {
   "cell_type": "code",
   "execution_count": 45,
   "id": "90173192",
   "metadata": {},
   "outputs": [],
   "source": [
    "class Reptile:\n",
    "    has_eyes=True\n",
    "    def __init__(self,legs):\n",
    "        self.legs=legs\n",
    "     \n",
    "    "
   ]
  },
  {
   "cell_type": "code",
   "execution_count": 46,
   "id": "de33c5a3",
   "metadata": {},
   "outputs": [],
   "source": [
    "corcodile=Reptile(4)"
   ]
  },
  {
   "cell_type": "code",
   "execution_count": 47,
   "id": "8d3f850e",
   "metadata": {},
   "outputs": [
    {
     "data": {
      "text/plain": [
       "True"
      ]
     },
     "execution_count": 47,
     "metadata": {},
     "output_type": "execute_result"
    }
   ],
   "source": [
    "corcodile.has_eyes"
   ]
  },
  {
   "cell_type": "code",
   "execution_count": 53,
   "id": "152eb966",
   "metadata": {},
   "outputs": [
    {
     "data": {
      "text/plain": [
       "4"
      ]
     },
     "execution_count": 53,
     "metadata": {},
     "output_type": "execute_result"
    }
   ],
   "source": [
    "corcodile.legs"
   ]
  },
  {
   "cell_type": "code",
   "execution_count": 50,
   "id": "ba41b4ba",
   "metadata": {},
   "outputs": [],
   "source": [
    "snake=Reptile(None)"
   ]
  },
  {
   "cell_type": "code",
   "execution_count": 51,
   "id": "1e8ec53e",
   "metadata": {},
   "outputs": [
    {
     "data": {
      "text/plain": [
       "True"
      ]
     },
     "execution_count": 51,
     "metadata": {},
     "output_type": "execute_result"
    }
   ],
   "source": [
    "snake.has_eyes"
   ]
  },
  {
   "cell_type": "code",
   "execution_count": 52,
   "id": "aac6ad42",
   "metadata": {},
   "outputs": [
    {
     "name": "stdout",
     "output_type": "stream",
     "text": [
      "None\n"
     ]
    }
   ],
   "source": [
    "print(snake.legs)"
   ]
  },
  {
   "cell_type": "code",
   "execution_count": null,
   "id": "eff964f9",
   "metadata": {},
   "outputs": [],
   "source": []
  },
  {
   "cell_type": "code",
   "execution_count": 54,
   "id": "5e820221",
   "metadata": {},
   "outputs": [],
   "source": [
    "# class method"
   ]
  },
  {
   "cell_type": "code",
   "execution_count": 81,
   "id": "f6112cea",
   "metadata": {},
   "outputs": [],
   "source": [
    "class Reptile:\n",
    "    def __init__ (self,lay_eggs,no_of_legs):\n",
    "        self.lay_eggs=lay_eggs\n",
    "        self.no_of_legs=no_of_legs\n",
    "        \n",
    "    def display (self):\n",
    "        if self.lay_eggs:\n",
    "            print(f\"The object lays eggs and has {self.no_of_legs}\")\n",
    "        else:\n",
    "            pass"
   ]
  },
  {
   "cell_type": "code",
   "execution_count": 59,
   "id": "916a6ab6",
   "metadata": {},
   "outputs": [],
   "source": [
    "snake=Reptile(True,None)"
   ]
  },
  {
   "cell_type": "code",
   "execution_count": 60,
   "id": "e9b6e060",
   "metadata": {},
   "outputs": [
    {
     "name": "stdout",
     "output_type": "stream",
     "text": [
      "The object lays eggs and has None\n"
     ]
    }
   ],
   "source": [
    "snake.display()"
   ]
  },
  {
   "cell_type": "code",
   "execution_count": 63,
   "id": "c6506cbb",
   "metadata": {},
   "outputs": [],
   "source": [
    "lizard=Reptile(True,4)"
   ]
  },
  {
   "cell_type": "code",
   "execution_count": 64,
   "id": "4acd086f",
   "metadata": {},
   "outputs": [
    {
     "name": "stdout",
     "output_type": "stream",
     "text": [
      "The object lays eggs and has 4\n"
     ]
    }
   ],
   "source": [
    "lizard.display()"
   ]
  },
  {
   "cell_type": "code",
   "execution_count": null,
   "id": "aeed15bd",
   "metadata": {},
   "outputs": [],
   "source": []
  },
  {
   "cell_type": "code",
   "execution_count": null,
   "id": "8190f531",
   "metadata": {},
   "outputs": [],
   "source": []
  },
  {
   "cell_type": "markdown",
   "id": "231f15a1",
   "metadata": {},
   "source": [
    "# object method in class"
   ]
  },
  {
   "cell_type": "code",
   "execution_count": 1,
   "id": "37338a94",
   "metadata": {},
   "outputs": [],
   "source": [
    "class Person:\n",
    "    def __init__(self,name,age):\n",
    "        self.name=name\n",
    "        self.age=age\n",
    "        \n",
    "    def mymethod(self):\n",
    "        print(f\"My name is {self.name} and I am {self.age} years old\")\n",
    "        \n",
    "        \n",
    "        "
   ]
  },
  {
   "cell_type": "code",
   "execution_count": 2,
   "id": "5151cda7",
   "metadata": {},
   "outputs": [
    {
     "name": "stdout",
     "output_type": "stream",
     "text": [
      "My name is Bikram and I am 21 years old\n"
     ]
    }
   ],
   "source": [
    "p2=Person(\"Bikram\",21)\n",
    "p2.name\n",
    "p2.mymethod()"
   ]
  },
  {
   "cell_type": "code",
   "execution_count": null,
   "id": "836a89b9",
   "metadata": {},
   "outputs": [],
   "source": []
  },
  {
   "cell_type": "code",
   "execution_count": null,
   "id": "0b742dfb",
   "metadata": {},
   "outputs": [],
   "source": []
  }
 ],
 "metadata": {
  "kernelspec": {
   "display_name": "Python 3 (ipykernel)",
   "language": "python",
   "name": "python3"
  },
  "language_info": {
   "codemirror_mode": {
    "name": "ipython",
    "version": 3
   },
   "file_extension": ".py",
   "mimetype": "text/x-python",
   "name": "python",
   "nbconvert_exporter": "python",
   "pygments_lexer": "ipython3",
   "version": "3.8.10"
  }
 },
 "nbformat": 4,
 "nbformat_minor": 5
}
