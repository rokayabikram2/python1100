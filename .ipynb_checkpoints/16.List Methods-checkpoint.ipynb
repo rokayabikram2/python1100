{
 "cells": [
  {
   "cell_type": "markdown",
   "id": "47a1b0e9",
   "metadata": {},
   "source": [
    "# Python list are mutable"
   ]
  },
  {
   "cell_type": "code",
   "execution_count": 1,
   "id": "ee0fd59b",
   "metadata": {},
   "outputs": [],
   "source": [
    "car=['Mercedes','BMW','Tesla','Mercedes','Bently']\n"
   ]
  },
  {
   "cell_type": "code",
   "execution_count": 2,
   "id": "b3d527be",
   "metadata": {},
   "outputs": [
    {
     "data": {
      "text/plain": [
       "'Mercedes'"
      ]
     },
     "execution_count": 2,
     "metadata": {},
     "output_type": "execute_result"
    }
   ],
   "source": [
    "car[0]"
   ]
  },
  {
   "cell_type": "code",
   "execution_count": 3,
   "id": "69fd60f7",
   "metadata": {},
   "outputs": [
    {
     "data": {
      "text/plain": [
       "'BMW'"
      ]
     },
     "execution_count": 3,
     "metadata": {},
     "output_type": "execute_result"
    }
   ],
   "source": [
    "car[1]"
   ]
  },
  {
   "cell_type": "code",
   "execution_count": 4,
   "id": "c153508f",
   "metadata": {},
   "outputs": [],
   "source": [
    "car[0]=\"Tata\""
   ]
  },
  {
   "cell_type": "code",
   "execution_count": 6,
   "id": "8a211f60",
   "metadata": {},
   "outputs": [
    {
     "data": {
      "text/plain": [
       "['Tata', 'BMW', 'Tesla', 'Mercedes', 'Bently']"
      ]
     },
     "execution_count": 6,
     "metadata": {},
     "output_type": "execute_result"
    }
   ],
   "source": [
    "car"
   ]
  },
  {
   "cell_type": "code",
   "execution_count": 8,
   "id": "cdda182e",
   "metadata": {},
   "outputs": [],
   "source": [
    "car[0:2]=(\"Toyota\",\"Bugati\")"
   ]
  },
  {
   "cell_type": "code",
   "execution_count": 9,
   "id": "7459a817",
   "metadata": {},
   "outputs": [
    {
     "data": {
      "text/plain": [
       "['Toyota', 'Bugati', 'Tesla', 'Mercedes', 'Bently']"
      ]
     },
     "execution_count": 9,
     "metadata": {},
     "output_type": "execute_result"
    }
   ],
   "source": [
    "car"
   ]
  },
  {
   "cell_type": "code",
   "execution_count": null,
   "id": "b8a37672",
   "metadata": {},
   "outputs": [],
   "source": []
  },
  {
   "cell_type": "code",
   "execution_count": null,
   "id": "43b78ee3",
   "metadata": {},
   "outputs": [],
   "source": []
  },
  {
   "cell_type": "markdown",
   "id": "9797e3bb",
   "metadata": {},
   "source": [
    "# .insert() method in python list"
   ]
  },
  {
   "cell_type": "code",
   "execution_count": 10,
   "id": "a72b8992",
   "metadata": {},
   "outputs": [],
   "source": [
    "car=['Mercedes','BMW','Tesla','Mercedes','Bently']\n",
    "car.insert(1,\"Tata\")\n"
   ]
  },
  {
   "cell_type": "code",
   "execution_count": 11,
   "id": "c35a4634",
   "metadata": {},
   "outputs": [
    {
     "data": {
      "text/plain": [
       "['Mercedes', 'Tata', 'BMW', 'Tesla', 'Mercedes', 'Bently']"
      ]
     },
     "execution_count": 11,
     "metadata": {},
     "output_type": "execute_result"
    }
   ],
   "source": [
    "car"
   ]
  },
  {
   "cell_type": "code",
   "execution_count": null,
   "id": "09673e88",
   "metadata": {},
   "outputs": [],
   "source": []
  },
  {
   "cell_type": "code",
   "execution_count": null,
   "id": "80ef4741",
   "metadata": {},
   "outputs": [],
   "source": []
  },
  {
   "cell_type": "markdown",
   "id": "f9519007",
   "metadata": {},
   "source": [
    "# .Append() method  in python list"
   ]
  },
  {
   "cell_type": "code",
   "execution_count": 12,
   "id": "2d058398",
   "metadata": {},
   "outputs": [],
   "source": [
    "num=list()"
   ]
  },
  {
   "cell_type": "code",
   "execution_count": 13,
   "id": "be0c520a",
   "metadata": {},
   "outputs": [
    {
     "data": {
      "text/plain": [
       "[]"
      ]
     },
     "execution_count": 13,
     "metadata": {},
     "output_type": "execute_result"
    }
   ],
   "source": [
    "num"
   ]
  },
  {
   "cell_type": "code",
   "execution_count": 14,
   "id": "c8b1f89e",
   "metadata": {},
   "outputs": [],
   "source": [
    "num.append(55)"
   ]
  },
  {
   "cell_type": "code",
   "execution_count": 15,
   "id": "e98400e5",
   "metadata": {},
   "outputs": [
    {
     "data": {
      "text/plain": [
       "[55]"
      ]
     },
     "execution_count": 15,
     "metadata": {},
     "output_type": "execute_result"
    }
   ],
   "source": [
    "num"
   ]
  },
  {
   "cell_type": "code",
   "execution_count": 16,
   "id": "b030dde7",
   "metadata": {},
   "outputs": [],
   "source": [
    "num.append(9)"
   ]
  },
  {
   "cell_type": "code",
   "execution_count": 17,
   "id": "2154988f",
   "metadata": {},
   "outputs": [
    {
     "data": {
      "text/plain": [
       "[55, 9]"
      ]
     },
     "execution_count": 17,
     "metadata": {},
     "output_type": "execute_result"
    }
   ],
   "source": [
    "num"
   ]
  },
  {
   "cell_type": "code",
   "execution_count": null,
   "id": "527c7a01",
   "metadata": {},
   "outputs": [],
   "source": []
  },
  {
   "cell_type": "code",
   "execution_count": null,
   "id": "ed112805",
   "metadata": {},
   "outputs": [],
   "source": []
  },
  {
   "cell_type": "markdown",
   "id": "4e31d087",
   "metadata": {},
   "source": [
    "# Pop() method in python list\n"
   ]
  },
  {
   "cell_type": "code",
   "execution_count": 18,
   "id": "167f9e4b",
   "metadata": {},
   "outputs": [
    {
     "data": {
      "text/plain": [
       "'Bently'"
      ]
     },
     "execution_count": 18,
     "metadata": {},
     "output_type": "execute_result"
    }
   ],
   "source": [
    "car=['Mercedes','BMW','Tesla','Mercedes','Bently']\n",
    "car.pop()    #in stack"
   ]
  },
  {
   "cell_type": "code",
   "execution_count": 19,
   "id": "3dddbca1",
   "metadata": {},
   "outputs": [
    {
     "data": {
      "text/plain": [
       "['Mercedes', 'BMW', 'Tesla', 'Mercedes']"
      ]
     },
     "execution_count": 19,
     "metadata": {},
     "output_type": "execute_result"
    }
   ],
   "source": [
    "car"
   ]
  },
  {
   "cell_type": "code",
   "execution_count": 21,
   "id": "64eee042",
   "metadata": {},
   "outputs": [
    {
     "data": {
      "text/plain": [
       "'BMW'"
      ]
     },
     "execution_count": 21,
     "metadata": {},
     "output_type": "execute_result"
    }
   ],
   "source": [
    "car.pop(1)  #in queue"
   ]
  },
  {
   "cell_type": "code",
   "execution_count": null,
   "id": "0e808ff8",
   "metadata": {},
   "outputs": [],
   "source": []
  },
  {
   "cell_type": "markdown",
   "id": "1b5654e7",
   "metadata": {},
   "source": [
    "# How to use python list as stack and queue"
   ]
  },
  {
   "cell_type": "code",
   "execution_count": null,
   "id": "8baee8bc",
   "metadata": {},
   "outputs": [],
   "source": []
  },
  {
   "cell_type": "code",
   "execution_count": null,
   "id": "579ac000",
   "metadata": {},
   "outputs": [],
   "source": []
  },
  {
   "cell_type": "code",
   "execution_count": null,
   "id": "1159ff9d",
   "metadata": {},
   "outputs": [],
   "source": []
  },
  {
   "cell_type": "markdown",
   "id": "9df617ec",
   "metadata": {},
   "source": [
    "# Extend() method in python list"
   ]
  },
  {
   "cell_type": "code",
   "execution_count": 22,
   "id": "3da70a21",
   "metadata": {},
   "outputs": [],
   "source": [
    "x=[88,9,0]\n",
    "y=[55,6,4,77]"
   ]
  },
  {
   "cell_type": "code",
   "execution_count": 23,
   "id": "13a4dc1d",
   "metadata": {},
   "outputs": [],
   "source": [
    "x.extend(y)"
   ]
  },
  {
   "cell_type": "code",
   "execution_count": 24,
   "id": "2a73f2f2",
   "metadata": {},
   "outputs": [
    {
     "data": {
      "text/plain": [
       "[88, 9, 0, 55, 6, 4, 77]"
      ]
     },
     "execution_count": 24,
     "metadata": {},
     "output_type": "execute_result"
    }
   ],
   "source": [
    "x"
   ]
  },
  {
   "cell_type": "code",
   "execution_count": 25,
   "id": "44a7ba19",
   "metadata": {},
   "outputs": [],
   "source": [
    "y.extend(x)"
   ]
  },
  {
   "cell_type": "code",
   "execution_count": 26,
   "id": "a9edf76f",
   "metadata": {},
   "outputs": [
    {
     "data": {
      "text/plain": [
       "[55, 6, 4, 77, 88, 9, 0, 55, 6, 4, 77]"
      ]
     },
     "execution_count": 26,
     "metadata": {},
     "output_type": "execute_result"
    }
   ],
   "source": [
    "y"
   ]
  },
  {
   "cell_type": "code",
   "execution_count": null,
   "id": "cd46cd21",
   "metadata": {},
   "outputs": [],
   "source": []
  },
  {
   "cell_type": "code",
   "execution_count": null,
   "id": "8638e027",
   "metadata": {},
   "outputs": [],
   "source": []
  },
  {
   "cell_type": "markdown",
   "id": "b020e463",
   "metadata": {},
   "source": [
    "# List Concatination()/concat()"
   ]
  },
  {
   "cell_type": "code",
   "execution_count": 27,
   "id": "d93f7e11",
   "metadata": {},
   "outputs": [],
   "source": [
    "x=[88,9,0]\n",
    "y=[55,6,4,77]\n"
   ]
  },
  {
   "cell_type": "code",
   "execution_count": 28,
   "id": "27a2cc3b",
   "metadata": {},
   "outputs": [
    {
     "data": {
      "text/plain": [
       "[88, 9, 0, 55, 6, 4, 77]"
      ]
     },
     "execution_count": 28,
     "metadata": {},
     "output_type": "execute_result"
    }
   ],
   "source": [
    "x + y"
   ]
  },
  {
   "cell_type": "code",
   "execution_count": null,
   "id": "8cdb609f",
   "metadata": {},
   "outputs": [],
   "source": []
  },
  {
   "cell_type": "code",
   "execution_count": null,
   "id": "e7a37957",
   "metadata": {},
   "outputs": [],
   "source": []
  },
  {
   "cell_type": "markdown",
   "id": "d5823caf",
   "metadata": {},
   "source": [
    "# .remove()"
   ]
  },
  {
   "cell_type": "code",
   "execution_count": 29,
   "id": "27340dc6",
   "metadata": {},
   "outputs": [],
   "source": [
    "car=['Mercedes','BMW','Tesla','Mercedes','Bently']\n"
   ]
  },
  {
   "cell_type": "code",
   "execution_count": 30,
   "id": "6f41cc68",
   "metadata": {},
   "outputs": [],
   "source": [
    "car.remove(\"Mercedes\")"
   ]
  },
  {
   "cell_type": "code",
   "execution_count": 31,
   "id": "75756d04",
   "metadata": {},
   "outputs": [
    {
     "data": {
      "text/plain": [
       "['BMW', 'Tesla', 'Mercedes', 'Bently']"
      ]
     },
     "execution_count": 31,
     "metadata": {},
     "output_type": "execute_result"
    }
   ],
   "source": [
    "car"
   ]
  },
  {
   "cell_type": "code",
   "execution_count": null,
   "id": "26b1626e",
   "metadata": {},
   "outputs": [],
   "source": []
  },
  {
   "cell_type": "code",
   "execution_count": null,
   "id": "d41de734",
   "metadata": {},
   "outputs": [],
   "source": []
  },
  {
   "cell_type": "markdown",
   "id": "a4663969",
   "metadata": {},
   "source": [
    "# .sort()"
   ]
  },
  {
   "cell_type": "code",
   "execution_count": 35,
   "id": "9bf0ae1b",
   "metadata": {},
   "outputs": [],
   "source": [
    "nums=[0,-3,35,12,82,5,6]"
   ]
  },
  {
   "cell_type": "code",
   "execution_count": 36,
   "id": "cd9410f0",
   "metadata": {},
   "outputs": [],
   "source": [
    "nums.sort()"
   ]
  },
  {
   "cell_type": "code",
   "execution_count": 38,
   "id": "a7d69a6a",
   "metadata": {},
   "outputs": [
    {
     "data": {
      "text/plain": [
       "[-3, 0, 5, 6, 12, 35, 82]"
      ]
     },
     "execution_count": 38,
     "metadata": {},
     "output_type": "execute_result"
    }
   ],
   "source": [
    "nums"
   ]
  },
  {
   "cell_type": "code",
   "execution_count": 39,
   "id": "b603f739",
   "metadata": {},
   "outputs": [],
   "source": [
    "nums.sort(reverse=True)"
   ]
  },
  {
   "cell_type": "code",
   "execution_count": 40,
   "id": "57ea9f08",
   "metadata": {},
   "outputs": [
    {
     "data": {
      "text/plain": [
       "[82, 35, 12, 6, 5, 0, -3]"
      ]
     },
     "execution_count": 40,
     "metadata": {},
     "output_type": "execute_result"
    }
   ],
   "source": [
    "nums"
   ]
  },
  {
   "cell_type": "code",
   "execution_count": 41,
   "id": "9b42c241",
   "metadata": {},
   "outputs": [
    {
     "data": {
      "text/plain": [
       "[-3, 0, 5, 6, 12, 35, 82]"
      ]
     },
     "execution_count": 41,
     "metadata": {},
     "output_type": "execute_result"
    }
   ],
   "source": [
    "sorted(nums)"
   ]
  },
  {
   "cell_type": "code",
   "execution_count": 42,
   "id": "f6e523a7",
   "metadata": {},
   "outputs": [
    {
     "data": {
      "text/plain": [
       "[82, 35, 12, 6, 5, 0, -3]"
      ]
     },
     "execution_count": 42,
     "metadata": {},
     "output_type": "execute_result"
    }
   ],
   "source": [
    "sorted(nums,reverse=True)"
   ]
  },
  {
   "cell_type": "code",
   "execution_count": 43,
   "id": "54249c2e",
   "metadata": {},
   "outputs": [
    {
     "data": {
      "text/plain": [
       "[82, 35, 12, 6, 5, 0, -3]"
      ]
     },
     "execution_count": 43,
     "metadata": {},
     "output_type": "execute_result"
    }
   ],
   "source": [
    "nums\n"
   ]
  },
  {
   "cell_type": "code",
   "execution_count": 44,
   "id": "3e49bce2",
   "metadata": {},
   "outputs": [],
   "source": [
    "car=['Mercedes','BMW','Tesla','Mercedes','Bently']\n",
    "car.sort()"
   ]
  },
  {
   "cell_type": "code",
   "execution_count": 45,
   "id": "ae29ede1",
   "metadata": {},
   "outputs": [
    {
     "data": {
      "text/plain": [
       "['BMW', 'Bently', 'Mercedes', 'Mercedes', 'Tesla']"
      ]
     },
     "execution_count": 45,
     "metadata": {},
     "output_type": "execute_result"
    }
   ],
   "source": [
    "car"
   ]
  },
  {
   "cell_type": "code",
   "execution_count": null,
   "id": "36dedf63",
   "metadata": {},
   "outputs": [],
   "source": []
  }
 ],
 "metadata": {
  "kernelspec": {
   "display_name": "Python 3 (ipykernel)",
   "language": "python",
   "name": "python3"
  },
  "language_info": {
   "codemirror_mode": {
    "name": "ipython",
    "version": 3
   },
   "file_extension": ".py",
   "mimetype": "text/x-python",
   "name": "python",
   "nbconvert_exporter": "python",
   "pygments_lexer": "ipython3",
   "version": "3.8.10"
  }
 },
 "nbformat": 4,
 "nbformat_minor": 5
}
