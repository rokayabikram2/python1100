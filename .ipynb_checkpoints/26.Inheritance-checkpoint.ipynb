{
 "cells": [
  {
   "cell_type": "code",
   "execution_count": 2,
   "id": "7dbab0b5",
   "metadata": {},
   "outputs": [],
   "source": [
    "# base ,super and parent class are same"
   ]
  },
  {
   "cell_type": "markdown",
   "id": "0463659e",
   "metadata": {},
   "source": [
    "# Single Inheritance"
   ]
  },
  {
   "cell_type": "code",
   "execution_count": 3,
   "id": "c1990cec",
   "metadata": {},
   "outputs": [],
   "source": [
    "class Computer:\n",
    "    \n",
    "    def __init__(self,model):\n",
    "        self.model=model\n",
    "        "
   ]
  },
  {
   "cell_type": "code",
   "execution_count": 10,
   "id": "a84e1e9a",
   "metadata": {},
   "outputs": [],
   "source": [
    "class Mobile:\n",
    "    \n",
    "    def __init__(self,model):\n",
    "        self.model=model\n",
    "        "
   ]
  },
  {
   "cell_type": "code",
   "execution_count": 11,
   "id": "3a1d63fc",
   "metadata": {},
   "outputs": [
    {
     "ename": "TypeError",
     "evalue": "__init__() got an unexpected keyword argument 'flash'",
     "output_type": "error",
     "traceback": [
      "\u001b[1;31m---------------------------------------------------------------------------\u001b[0m",
      "\u001b[1;31mTypeError\u001b[0m                                 Traceback (most recent call last)",
      "Cell \u001b[1;32mIn[11], line 1\u001b[0m\n\u001b[1;32m----> 1\u001b[0m m \u001b[38;5;241m=\u001b[39m \u001b[43mMobile\u001b[49m\u001b[43m(\u001b[49m\u001b[43mflash\u001b[49m\u001b[38;5;241;43m=\u001b[39;49m\u001b[38;5;28;43;01mTrue\u001b[39;49;00m\u001b[43m)\u001b[49m\n",
      "\u001b[1;31mTypeError\u001b[0m: __init__() got an unexpected keyword argument 'flash'"
     ]
    }
   ],
   "source": [
    "m = Mobile(flash=True)\n"
   ]
  },
  {
   "cell_type": "code",
   "execution_count": 12,
   "id": "ac7e67ff",
   "metadata": {},
   "outputs": [
    {
     "ename": "AttributeError",
     "evalue": "'Mobile' object has no attribute 'model'",
     "output_type": "error",
     "traceback": [
      "\u001b[1;31m---------------------------------------------------------------------------\u001b[0m",
      "\u001b[1;31mAttributeError\u001b[0m                            Traceback (most recent call last)",
      "Cell \u001b[1;32mIn[12], line 1\u001b[0m\n\u001b[1;32m----> 1\u001b[0m \u001b[43mm\u001b[49m\u001b[38;5;241;43m.\u001b[39;49m\u001b[43mmodel\u001b[49m\n",
      "\u001b[1;31mAttributeError\u001b[0m: 'Mobile' object has no attribute 'model'"
     ]
    }
   ],
   "source": [
    "m.model"
   ]
  },
  {
   "cell_type": "code",
   "execution_count": 19,
   "id": "50c48f0e",
   "metadata": {},
   "outputs": [],
   "source": [
    "class Computer:\n",
    "    \n",
    "    def __init__(self,model):\n",
    "        self.model=model\n",
    "        \n",
    "class Mobile( Computer):\n",
    "    \n",
    "    \n",
    "    def __init__(self,flash,model):\n",
    "        self.flash=flash\n",
    "        super().__init__(model) #super() method ley inherit garni ho\n",
    "\n",
    "        "
   ]
  },
  {
   "cell_type": "code",
   "execution_count": 20,
   "id": "9a749f6e",
   "metadata": {},
   "outputs": [],
   "source": [
    "m= Mobile(flash=True,model=\"Iphone\")"
   ]
  },
  {
   "cell_type": "code",
   "execution_count": 21,
   "id": "5a97e9fb",
   "metadata": {},
   "outputs": [
    {
     "data": {
      "text/plain": [
       "'Iphone'"
      ]
     },
     "execution_count": 21,
     "metadata": {},
     "output_type": "execute_result"
    }
   ],
   "source": [
    "m.model"
   ]
  },
  {
   "cell_type": "code",
   "execution_count": 22,
   "id": "6cd45f2c",
   "metadata": {},
   "outputs": [
    {
     "data": {
      "text/plain": [
       "True"
      ]
     },
     "execution_count": 22,
     "metadata": {},
     "output_type": "execute_result"
    }
   ],
   "source": [
    "m.flash"
   ]
  },
  {
   "cell_type": "code",
   "execution_count": null,
   "id": "23240f25",
   "metadata": {},
   "outputs": [],
   "source": []
  },
  {
   "cell_type": "code",
   "execution_count": null,
   "id": "e15576d0",
   "metadata": {},
   "outputs": [],
   "source": []
  },
  {
   "cell_type": "markdown",
   "id": "abff005d",
   "metadata": {},
   "source": [
    "# Multiple Inheritance"
   ]
  },
  {
   "cell_type": "code",
   "execution_count": 24,
   "id": "d9707f03",
   "metadata": {},
   "outputs": [],
   "source": [
    "class Father:\n",
    "    def __init__(self,fname):\n",
    "        self.fname=fname\n",
    "    \n",
    "class Mother:\n",
    "    def __init__(self,Mname):\n",
    "        self.Mname=Mname\n",
    "        \n",
    "class child(Father,Mother):\n",
    "    def __init__(self,name,fname,Mname):\n",
    "        self.name=name\n",
    "        Father.__init__(self,fname)\n",
    "        Mother.__init__(self,Mname)\n",
    "        \n",
    "        "
   ]
  },
  {
   "cell_type": "code",
   "execution_count": 25,
   "id": "eb079588",
   "metadata": {},
   "outputs": [],
   "source": [
    "Ch=child(name=\"Bikram Rokaya\",fname=\"Ram lala Rokaya\",Mname=\"Sarita Rokaya\")"
   ]
  },
  {
   "cell_type": "code",
   "execution_count": 28,
   "id": "cd465846",
   "metadata": {},
   "outputs": [
    {
     "data": {
      "text/plain": [
       "'Ram lala Rokaya'"
      ]
     },
     "execution_count": 28,
     "metadata": {},
     "output_type": "execute_result"
    }
   ],
   "source": [
    "Ch.fname"
   ]
  },
  {
   "cell_type": "code",
   "execution_count": 29,
   "id": "7c2a09fe",
   "metadata": {},
   "outputs": [
    {
     "data": {
      "text/plain": [
       "'Sarita Rokaya'"
      ]
     },
     "execution_count": 29,
     "metadata": {},
     "output_type": "execute_result"
    }
   ],
   "source": [
    "Ch.Mname"
   ]
  },
  {
   "cell_type": "code",
   "execution_count": null,
   "id": "41cb7cee",
   "metadata": {},
   "outputs": [],
   "source": []
  },
  {
   "cell_type": "code",
   "execution_count": null,
   "id": "2f158916",
   "metadata": {},
   "outputs": [],
   "source": []
  },
  {
   "cell_type": "markdown",
   "id": "9d9d3a3b",
   "metadata": {},
   "source": [
    "# Multilevel Inheritence"
   ]
  },
  {
   "cell_type": "code",
   "execution_count": 67,
   "id": "4c3a0fef",
   "metadata": {},
   "outputs": [],
   "source": [
    "class A:\n",
    "    def __init__(self,grandfather):\n",
    "        self.grandfather =grandfather\n",
    "        \n",
    "class B:\n",
    "    def __init__(self,father,grandfatherr):\n",
    "        self.father =father\n",
    "        \n",
    "       \n",
    "        \n",
    "class C(B):\n",
    "    def __init__(self,me,father,grandfather):\n",
    "        self.me =me\n",
    "        B.__init__(self,father,grandfather)\n",
    "        \n",
    "        \n",
    "        "
   ]
  },
  {
   "cell_type": "code",
   "execution_count": 65,
   "id": "795bc691",
   "metadata": {},
   "outputs": [],
   "source": [
    "obj=C(\"Bikram\",\"Ram\",\"Chandraman\")"
   ]
  },
  {
   "cell_type": "code",
   "execution_count": 61,
   "id": "d83168c4",
   "metadata": {},
   "outputs": [
    {
     "data": {
      "text/plain": [
       "'Bikram'"
      ]
     },
     "execution_count": 61,
     "metadata": {},
     "output_type": "execute_result"
    }
   ],
   "source": [
    "obj.me"
   ]
  },
  {
   "cell_type": "code",
   "execution_count": 62,
   "id": "46e1fd33",
   "metadata": {},
   "outputs": [
    {
     "data": {
      "text/plain": [
       "'Ram'"
      ]
     },
     "execution_count": 62,
     "metadata": {},
     "output_type": "execute_result"
    }
   ],
   "source": [
    "obj.father"
   ]
  },
  {
   "cell_type": "code",
   "execution_count": 63,
   "id": "7de29850",
   "metadata": {},
   "outputs": [
    {
     "ename": "AttributeError",
     "evalue": "'C' object has no attribute 'grandfather'",
     "output_type": "error",
     "traceback": [
      "\u001b[1;31m---------------------------------------------------------------------------\u001b[0m",
      "\u001b[1;31mAttributeError\u001b[0m                            Traceback (most recent call last)",
      "Cell \u001b[1;32mIn[63], line 1\u001b[0m\n\u001b[1;32m----> 1\u001b[0m \u001b[43mobj\u001b[49m\u001b[38;5;241;43m.\u001b[39;49m\u001b[43mgrandfather\u001b[49m\n",
      "\u001b[1;31mAttributeError\u001b[0m: 'C' object has no attribute 'grandfather'"
     ]
    }
   ],
   "source": [
    "obj.grandfather"
   ]
  },
  {
   "cell_type": "code",
   "execution_count": null,
   "id": "4891593f",
   "metadata": {},
   "outputs": [],
   "source": []
  },
  {
   "cell_type": "code",
   "execution_count": null,
   "id": "db35443b",
   "metadata": {},
   "outputs": [],
   "source": []
  }
 ],
 "metadata": {
  "kernelspec": {
   "display_name": "Python 3 (ipykernel)",
   "language": "python",
   "name": "python3"
  },
  "language_info": {
   "codemirror_mode": {
    "name": "ipython",
    "version": 3
   },
   "file_extension": ".py",
   "mimetype": "text/x-python",
   "name": "python",
   "nbconvert_exporter": "python",
   "pygments_lexer": "ipython3",
   "version": "3.8.10"
  }
 },
 "nbformat": 4,
 "nbformat_minor": 5
}
