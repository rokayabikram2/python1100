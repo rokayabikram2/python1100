{
 "cells": [
  {
   "cell_type": "code",
   "execution_count": 1,
   "id": "cc479046",
   "metadata": {},
   "outputs": [
    {
     "data": {
      "text/plain": [
       "7"
      ]
     },
     "execution_count": 1,
     "metadata": {},
     "output_type": "execute_result"
    }
   ],
   "source": [
    "2 + 5\n"
   ]
  },
  {
   "cell_type": "code",
   "execution_count": 3,
   "id": "d6bc4bbf",
   "metadata": {},
   "outputs": [
    {
     "data": {
      "text/plain": [
       "'hi please reply'"
      ]
     },
     "execution_count": 3,
     "metadata": {},
     "output_type": "execute_result"
    }
   ],
   "source": [
    "'hi'+' please reply'"
   ]
  },
  {
   "cell_type": "code",
   "execution_count": 4,
   "id": "72c69d62",
   "metadata": {},
   "outputs": [
    {
     "data": {
      "text/plain": [
       "[1, 2, 4, 4, 2, 1]"
      ]
     },
     "execution_count": 4,
     "metadata": {},
     "output_type": "execute_result"
    }
   ],
   "source": [
    "[1,2,4]+[4,2,1]"
   ]
  },
  {
   "cell_type": "code",
   "execution_count": 5,
   "id": "83329bcc",
   "metadata": {},
   "outputs": [],
   "source": [
    "class Account:\n",
    "    def __init__(self,name,balance):\n",
    "        self.name=name\n",
    "        self.balance=balance\n",
    "        "
   ]
  },
  {
   "cell_type": "code",
   "execution_count": 7,
   "id": "a42dc6e4",
   "metadata": {},
   "outputs": [],
   "source": [
    "Bikram=Account(\"Bikram\",20000000000000000000000)\n",
    "sudip=Account(\"sudip\",10000)"
   ]
  },
  {
   "cell_type": "code",
   "execution_count": null,
   "id": "a7e235bb",
   "metadata": {},
   "outputs": [],
   "source": []
  },
  {
   "cell_type": "code",
   "execution_count": 8,
   "id": "bc2fea29",
   "metadata": {},
   "outputs": [
    {
     "ename": "TypeError",
     "evalue": "unsupported operand type(s) for +: 'Account' and 'Account'",
     "output_type": "error",
     "traceback": [
      "\u001b[1;31m---------------------------------------------------------------------------\u001b[0m",
      "\u001b[1;31mTypeError\u001b[0m                                 Traceback (most recent call last)",
      "Cell \u001b[1;32mIn[8], line 1\u001b[0m\n\u001b[1;32m----> 1\u001b[0m \u001b[43mBikram\u001b[49m\u001b[43m \u001b[49m\u001b[38;5;241;43m+\u001b[39;49m\u001b[43m \u001b[49m\u001b[43msudip\u001b[49m\n",
      "\u001b[1;31mTypeError\u001b[0m: unsupported operand type(s) for +: 'Account' and 'Account'"
     ]
    }
   ],
   "source": [
    "Bikram + sudip"
   ]
  },
  {
   "cell_type": "code",
   "execution_count": 12,
   "id": "fe73b928",
   "metadata": {},
   "outputs": [],
   "source": [
    "class Account:\n",
    "    def __init__(self,name,balance):\n",
    "        self.name=name\n",
    "        self.balance=balance\n",
    "    def __add__(self,otherobject):\n",
    "        return self.balance + otherobject.balance\n",
    "        "
   ]
  },
  {
   "cell_type": "code",
   "execution_count": 19,
   "id": "b795cb4e",
   "metadata": {},
   "outputs": [],
   "source": [
    "Bikram=Account(\"Bikram\",20000000000000000000000)\n",
    "sudip=Account(\"sudip\",2679370000)"
   ]
  },
  {
   "cell_type": "code",
   "execution_count": 20,
   "id": "52fb02c4",
   "metadata": {},
   "outputs": [
    {
     "data": {
      "text/plain": [
       "20000000000002679370000"
      ]
     },
     "execution_count": 20,
     "metadata": {},
     "output_type": "execute_result"
    }
   ],
   "source": [
    "Bikram + sudip"
   ]
  },
  {
   "cell_type": "code",
   "execution_count": 28,
   "id": "308e723b",
   "metadata": {},
   "outputs": [],
   "source": [
    "class Account:\n",
    "    def __init__(self,name,balance):\n",
    "        self.name=name\n",
    "        self.balance=balance\n",
    "    def __add__(self,otherobject):\n",
    "        return self.balance + otherobject.balance\n",
    "        \n",
    "\n",
    "acl1=Account(\"Bikram\",20000000000000000000000)\n",
    "acl2=Account(\"sudip\",2679370000)"
   ]
  },
  {
   "cell_type": "code",
   "execution_count": 29,
   "id": "42b9872e",
   "metadata": {},
   "outputs": [
    {
     "data": {
      "text/plain": [
       "20000000000002679370000"
      ]
     },
     "execution_count": 29,
     "metadata": {},
     "output_type": "execute_result"
    }
   ],
   "source": [
    "acl1 + acl2"
   ]
  },
  {
   "cell_type": "code",
   "execution_count": 30,
   "id": "1c14018f",
   "metadata": {},
   "outputs": [
    {
     "ename": "NameError",
     "evalue": "name 'acl' is not defined",
     "output_type": "error",
     "traceback": [
      "\u001b[1;31m---------------------------------------------------------------------------\u001b[0m",
      "\u001b[1;31mNameError\u001b[0m                                 Traceback (most recent call last)",
      "Cell \u001b[1;32mIn[30], line 1\u001b[0m\n\u001b[1;32m----> 1\u001b[0m \u001b[43macl\u001b[49m \u001b[38;5;241m+\u001b[39m \u001b[38;5;241m5\u001b[39m\n",
      "\u001b[1;31mNameError\u001b[0m: name 'acl' is not defined"
     ]
    }
   ],
   "source": [
    "acl + 5"
   ]
  },
  {
   "cell_type": "code",
   "execution_count": null,
   "id": "3a581c02",
   "metadata": {},
   "outputs": [],
   "source": []
  },
  {
   "cell_type": "code",
   "execution_count": null,
   "id": "19639e4f",
   "metadata": {},
   "outputs": [],
   "source": []
  },
  {
   "cell_type": "markdown",
   "id": "5c7e0bbe",
   "metadata": {},
   "source": [
    "# function overriding"
   ]
  },
  {
   "cell_type": "code",
   "execution_count": 38,
   "id": "9f71f86e",
   "metadata": {},
   "outputs": [],
   "source": [
    "class Parent:\n",
    "    def display(self):\n",
    "        print(\"Yo parent ko display ho hai guys\")\n",
    "        \n",
    "class child(Parent):\n",
    "    def __init__(self):\n",
    "        super().__init__()\n",
    "    "
   ]
  },
  {
   "cell_type": "code",
   "execution_count": 39,
   "id": "23e9b409",
   "metadata": {},
   "outputs": [],
   "source": [
    "c= child()"
   ]
  },
  {
   "cell_type": "code",
   "execution_count": 40,
   "id": "e6560fae",
   "metadata": {},
   "outputs": [
    {
     "name": "stdout",
     "output_type": "stream",
     "text": [
      "Yo parent ko display ho hai guys\n"
     ]
    }
   ],
   "source": [
    "c.display()"
   ]
  },
  {
   "cell_type": "code",
   "execution_count": null,
   "id": "ac2fba05",
   "metadata": {},
   "outputs": [],
   "source": []
  },
  {
   "cell_type": "code",
   "execution_count": null,
   "id": "3a97d702",
   "metadata": {},
   "outputs": [],
   "source": []
  },
  {
   "cell_type": "code",
   "execution_count": 41,
   "id": "481d02dc",
   "metadata": {},
   "outputs": [],
   "source": [
    "class Parent:\n",
    "    def display(self):\n",
    "        print(\"Yo parent ko display ho hai guys\")\n",
    "        \n",
    "class child(Parent):\n",
    "    def __init__(self):\n",
    "        super().__init__()\n",
    "    def display(self):\n",
    "        print(\"yo chai child ko display ho\")"
   ]
  },
  {
   "cell_type": "code",
   "execution_count": 42,
   "id": "cf3ed2a5",
   "metadata": {},
   "outputs": [],
   "source": [
    "d=child()"
   ]
  },
  {
   "cell_type": "code",
   "execution_count": 43,
   "id": "513c8767",
   "metadata": {},
   "outputs": [
    {
     "name": "stdout",
     "output_type": "stream",
     "text": [
      "yo chai child ko display ho\n"
     ]
    }
   ],
   "source": [
    "d.display()"
   ]
  },
  {
   "cell_type": "code",
   "execution_count": null,
   "id": "40c9c54a",
   "metadata": {},
   "outputs": [],
   "source": []
  }
 ],
 "metadata": {
  "kernelspec": {
   "display_name": "Python 3 (ipykernel)",
   "language": "python",
   "name": "python3"
  },
  "language_info": {
   "codemirror_mode": {
    "name": "ipython",
    "version": 3
   },
   "file_extension": ".py",
   "mimetype": "text/x-python",
   "name": "python",
   "nbconvert_exporter": "python",
   "pygments_lexer": "ipython3",
   "version": "3.8.10"
  }
 },
 "nbformat": 4,
 "nbformat_minor": 5
}
