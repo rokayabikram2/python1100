{
 "cells": [
  {
   "cell_type": "code",
   "execution_count": 1,
   "id": "3dc206ff",
   "metadata": {},
   "outputs": [],
   "source": [
    "fruits =['orange','apple','kiwi']"
   ]
  },
  {
   "cell_type": "code",
   "execution_count": 2,
   "id": "74e50e10",
   "metadata": {},
   "outputs": [
    {
     "data": {
      "text/plain": [
       "['orange', 'apple', 'kiwi']"
      ]
     },
     "execution_count": 2,
     "metadata": {},
     "output_type": "execute_result"
    }
   ],
   "source": [
    "fruits"
   ]
  },
  {
   "cell_type": "code",
   "execution_count": 3,
   "id": "8d9c660f",
   "metadata": {},
   "outputs": [
    {
     "data": {
      "text/plain": [
       "list"
      ]
     },
     "execution_count": 3,
     "metadata": {},
     "output_type": "execute_result"
    }
   ],
   "source": [
    "type(fruits)"
   ]
  },
  {
   "cell_type": "code",
   "execution_count": 4,
   "id": "c2622938",
   "metadata": {},
   "outputs": [],
   "source": [
    "list1=['apple',True,1.5,5,'banana']"
   ]
  },
  {
   "cell_type": "code",
   "execution_count": 5,
   "id": "64f1438f",
   "metadata": {},
   "outputs": [
    {
     "data": {
      "text/plain": [
       "['apple', True, 1.5, 5, 'banana']"
      ]
     },
     "execution_count": 5,
     "metadata": {},
     "output_type": "execute_result"
    }
   ],
   "source": [
    "list1"
   ]
  },
  {
   "cell_type": "code",
   "execution_count": null,
   "id": "7d257afa",
   "metadata": {},
   "outputs": [],
   "source": []
  },
  {
   "cell_type": "code",
   "execution_count": null,
   "id": "db7a5a12",
   "metadata": {},
   "outputs": [],
   "source": []
  },
  {
   "cell_type": "markdown",
   "id": "ba2d2366",
   "metadata": {},
   "source": [
    "# Indexing and slicing"
   ]
  },
  {
   "cell_type": "code",
   "execution_count": 10,
   "id": "69b3e09c",
   "metadata": {},
   "outputs": [],
   "source": [
    "car=['Mercedes','BMW','Tesla','Jagaur','Bently']"
   ]
  },
  {
   "cell_type": "code",
   "execution_count": 11,
   "id": "f24d6584",
   "metadata": {},
   "outputs": [
    {
     "data": {
      "text/plain": [
       "'Mercedes'"
      ]
     },
     "execution_count": 11,
     "metadata": {},
     "output_type": "execute_result"
    }
   ],
   "source": [
    "car[0]  #indexing"
   ]
  },
  {
   "cell_type": "code",
   "execution_count": 12,
   "id": "199ec99b",
   "metadata": {},
   "outputs": [
    {
     "data": {
      "text/plain": [
       "'BMW'"
      ]
     },
     "execution_count": 12,
     "metadata": {},
     "output_type": "execute_result"
    }
   ],
   "source": [
    "car[1] #indexing"
   ]
  },
  {
   "cell_type": "code",
   "execution_count": 13,
   "id": "d75a1e04",
   "metadata": {},
   "outputs": [
    {
     "data": {
      "text/plain": [
       "5"
      ]
     },
     "execution_count": 13,
     "metadata": {},
     "output_type": "execute_result"
    }
   ],
   "source": [
    "len(car) #length"
   ]
  },
  {
   "cell_type": "code",
   "execution_count": 14,
   "id": "839a3b42",
   "metadata": {},
   "outputs": [
    {
     "data": {
      "text/plain": [
       "['Mercedes', 'BMW', 'Tesla']"
      ]
     },
     "execution_count": 14,
     "metadata": {},
     "output_type": "execute_result"
    }
   ],
   "source": [
    "car[0:3]  #slicing"
   ]
  },
  {
   "cell_type": "code",
   "execution_count": 15,
   "id": "f565da09",
   "metadata": {},
   "outputs": [
    {
     "data": {
      "text/plain": [
       "['BMW', 'Tesla', 'Jagaur', 'Bently']"
      ]
     },
     "execution_count": 15,
     "metadata": {},
     "output_type": "execute_result"
    }
   ],
   "source": [
    "car[1:]  #Slicing"
   ]
  },
  {
   "cell_type": "code",
   "execution_count": 16,
   "id": "775df9f5",
   "metadata": {},
   "outputs": [
    {
     "data": {
      "text/plain": [
       "['Mercedes', 'BMW', 'Tesla', 'Jagaur']"
      ]
     },
     "execution_count": 16,
     "metadata": {},
     "output_type": "execute_result"
    }
   ],
   "source": [
    "car[:4]"
   ]
  },
  {
   "cell_type": "code",
   "execution_count": 17,
   "id": "bee28580",
   "metadata": {},
   "outputs": [
    {
     "data": {
      "text/plain": [
       "['Tesla', 'Jagaur', 'Bently']"
      ]
     },
     "execution_count": 17,
     "metadata": {},
     "output_type": "execute_result"
    }
   ],
   "source": [
    "car[2:5]"
   ]
  },
  {
   "cell_type": "code",
   "execution_count": 22,
   "id": "51232e25",
   "metadata": {},
   "outputs": [
    {
     "data": {
      "text/plain": [
       "['Jagaur', 'Bently']"
      ]
     },
     "execution_count": 22,
     "metadata": {},
     "output_type": "execute_result"
    }
   ],
   "source": [
    "car[3:6]"
   ]
  },
  {
   "cell_type": "code",
   "execution_count": 20,
   "id": "f2cb3118",
   "metadata": {},
   "outputs": [
    {
     "data": {
      "text/plain": [
       "['BMW', 'Jagaur']"
      ]
     },
     "execution_count": 20,
     "metadata": {},
     "output_type": "execute_result"
    }
   ],
   "source": [
    "car[1:6:2]"
   ]
  },
  {
   "cell_type": "code",
   "execution_count": null,
   "id": "43de4325",
   "metadata": {},
   "outputs": [],
   "source": []
  },
  {
   "cell_type": "code",
   "execution_count": null,
   "id": "b8caef57",
   "metadata": {},
   "outputs": [],
   "source": []
  },
  {
   "cell_type": "markdown",
   "id": "d41b5053",
   "metadata": {},
   "source": [
    "# loops in list"
   ]
  },
  {
   "cell_type": "code",
   "execution_count": 24,
   "id": "c83b60a7",
   "metadata": {},
   "outputs": [
    {
     "name": "stdout",
     "output_type": "stream",
     "text": [
      "0 Mercedes\n",
      "1 BMW\n",
      "2 Tesla\n",
      "3 Jagaur\n",
      "4 Bently\n"
     ]
    }
   ],
   "source": [
    "car=['Mercedes','BMW','Tesla','Jagaur','Bently']\n",
    "\n",
    "for index in range(len(car)):\n",
    "    item=car[index]\n",
    "    \n",
    "    print(index,item)\n"
   ]
  },
  {
   "cell_type": "code",
   "execution_count": 27,
   "id": "01e108d8",
   "metadata": {},
   "outputs": [
    {
     "name": "stdout",
     "output_type": "stream",
     "text": [
      "index is 0 and item is Mercedes\n",
      "index is 1 and item is BMW\n",
      "index is 2 and item is Tesla\n",
      "index is 3 and item is Jagaur\n",
      "index is 4 and item is Bently\n"
     ]
    }
   ],
   "source": [
    "car=['Mercedes','BMW','Tesla','Jagaur','Bently']\n",
    "\n",
    "for index in range(len(car)):\n",
    "    print(f\"index is {index} and item is {car[index]}\" )"
   ]
  },
  {
   "cell_type": "code",
   "execution_count": 28,
   "id": "ccef537a",
   "metadata": {},
   "outputs": [
    {
     "name": "stdout",
     "output_type": "stream",
     "text": [
      "Index is 0 and number is 2\n",
      "Index is 1 and number is 4\n",
      "Index is 2 and number is 6\n",
      "Index is 3 and number is 8\n",
      "Index is 4 and number is 10\n"
     ]
    }
   ],
   "source": [
    "num=[2,4,6,8,10]\n",
    "\n",
    "for index in range(len(num)):\n",
    "    print(f\"Index is {index} and number is {num[index]}\")"
   ]
  },
  {
   "cell_type": "markdown",
   "id": "932a30d5",
   "metadata": {},
   "source": [
    "# for loop ko aarko type"
   ]
  },
  {
   "cell_type": "code",
   "execution_count": 30,
   "id": "01f40779",
   "metadata": {},
   "outputs": [],
   "source": [
    "car=['Mercedes','BMW','Tesla','Jagaur','Bently']\n"
   ]
  },
  {
   "cell_type": "code",
   "execution_count": 32,
   "id": "01064027",
   "metadata": {},
   "outputs": [
    {
     "name": "stdout",
     "output_type": "stream",
     "text": [
      "Mercedes\n",
      "BMW\n",
      "Tesla\n",
      "Jagaur\n",
      "Bently\n"
     ]
    }
   ],
   "source": [
    "for item in car:\n",
    "    print(item)"
   ]
  },
  {
   "cell_type": "code",
   "execution_count": null,
   "id": "a7e512a6",
   "metadata": {},
   "outputs": [],
   "source": []
  },
  {
   "cell_type": "markdown",
   "id": "e060b677",
   "metadata": {},
   "source": [
    "# Calculate mean of the following list"
   ]
  },
  {
   "cell_type": "code",
   "execution_count": 42,
   "id": "a4b40403",
   "metadata": {},
   "outputs": [
    {
     "name": "stdout",
     "output_type": "stream",
     "text": [
      "85\n",
      "14.166666666666666\n"
     ]
    }
   ],
   "source": [
    "nums =[22,23,24,11,0,5]\n",
    "total=0\n",
    "\n",
    "\n",
    "for item in nums:\n",
    "    total=total + item\n",
    "    \n",
    "print(total)\n",
    "mean=total/len(nums)  \n",
    "print(mean)\n",
    "\n",
    "    \n"
   ]
  },
  {
   "cell_type": "code",
   "execution_count": 43,
   "id": "3a99350a",
   "metadata": {},
   "outputs": [
    {
     "data": {
      "text/plain": [
       "14.17"
      ]
     },
     "execution_count": 43,
     "metadata": {},
     "output_type": "execute_result"
    }
   ],
   "source": [
    "round(mean,2)"
   ]
  },
  {
   "cell_type": "code",
   "execution_count": 45,
   "id": "a7acc24d",
   "metadata": {},
   "outputs": [
    {
     "name": "stdout",
     "output_type": "stream",
     "text": [
      "14.166666666666666\n"
     ]
    }
   ],
   "source": [
    "nums =[22,23,24,11,0,5]\n",
    "Total=0\n",
    "\n",
    "for index in range(len(nums)):\n",
    "    Total=Total +nums[index]\n",
    "\n",
    "mean=Total/len(nums)\n",
    "print(mean)"
   ]
  },
  {
   "cell_type": "code",
   "execution_count": null,
   "id": "9b838e63",
   "metadata": {},
   "outputs": [],
   "source": []
  },
  {
   "cell_type": "code",
   "execution_count": null,
   "id": "15be8066",
   "metadata": {},
   "outputs": [],
   "source": []
  },
  {
   "cell_type": "markdown",
   "id": "e6a6cefb",
   "metadata": {},
   "source": [
    "# Negative indexing"
   ]
  },
  {
   "cell_type": "code",
   "execution_count": 46,
   "id": "397cf7c3",
   "metadata": {},
   "outputs": [],
   "source": [
    "car=['Mercedes','BMW','Tesla','Jagaur','Bently']\n"
   ]
  },
  {
   "cell_type": "code",
   "execution_count": 47,
   "id": "f33cef05",
   "metadata": {},
   "outputs": [
    {
     "data": {
      "text/plain": [
       "'Bently'"
      ]
     },
     "execution_count": 47,
     "metadata": {},
     "output_type": "execute_result"
    }
   ],
   "source": [
    "car[-1]"
   ]
  },
  {
   "cell_type": "code",
   "execution_count": 48,
   "id": "43f81063",
   "metadata": {},
   "outputs": [
    {
     "data": {
      "text/plain": [
       "'Jagaur'"
      ]
     },
     "execution_count": 48,
     "metadata": {},
     "output_type": "execute_result"
    }
   ],
   "source": [
    "car[-2]"
   ]
  },
  {
   "cell_type": "code",
   "execution_count": 49,
   "id": "04cc5119",
   "metadata": {},
   "outputs": [
    {
     "data": {
      "text/plain": [
       "'Mercedes'"
      ]
     },
     "execution_count": 49,
     "metadata": {},
     "output_type": "execute_result"
    }
   ],
   "source": [
    "car[-5]"
   ]
  },
  {
   "cell_type": "code",
   "execution_count": null,
   "id": "b3a4ca0f",
   "metadata": {},
   "outputs": [],
   "source": []
  }
 ],
 "metadata": {
  "kernelspec": {
   "display_name": "Python 3 (ipykernel)",
   "language": "python",
   "name": "python3"
  },
  "language_info": {
   "codemirror_mode": {
    "name": "ipython",
    "version": 3
   },
   "file_extension": ".py",
   "mimetype": "text/x-python",
   "name": "python",
   "nbconvert_exporter": "python",
   "pygments_lexer": "ipython3",
   "version": "3.8.10"
  }
 },
 "nbformat": 4,
 "nbformat_minor": 5
}
