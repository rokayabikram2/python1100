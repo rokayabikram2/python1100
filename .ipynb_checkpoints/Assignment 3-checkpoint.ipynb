{
 "cells": [
  {
   "cell_type": "markdown",
   "id": "b718e49f",
   "metadata": {},
   "source": [
    "# Project : Full form Quiz game"
   ]
  },
  {
   "cell_type": "code",
   "execution_count": 1,
   "id": "95370eb2",
   "metadata": {},
   "outputs": [
    {
     "name": "stdout",
     "output_type": "stream",
     "text": [
      "welcome to my computer quiz!\n",
      "Do you want to play?central processing unit \n"
     ]
    }
   ],
   "source": [
    "print(\"welcome to my computer quiz!\")\n",
    "\n",
    "playing=input(\"Do you want to play?\")\n",
    "\n",
    "if playing.lower() !=\"yes\":\n",
    "    exit()\n",
    "    \n",
    "else:\n",
    "    print(\"Okay! Let's play :\")\n",
    "    score = 0\n",
    "    \n",
    "    answer = input(\"What does CPU stands for?\")\n",
    "    if answer.lower()== \"central processing unit\":\n",
    "        print(\"correct !\")\n",
    "        score +=1   #score=score+1\n",
    "        \n",
    "    else:\n",
    "        print(\"Incorrect!\")\n",
    "    "
   ]
  },
  {
   "cell_type": "code",
   "execution_count": null,
   "id": "299c8c87",
   "metadata": {},
   "outputs": [],
   "source": []
  },
  {
   "cell_type": "code",
   "execution_count": null,
   "id": "d2062de6",
   "metadata": {},
   "outputs": [],
   "source": [
    "\n"
   ]
  },
  {
   "cell_type": "markdown",
   "id": "29beb4d9",
   "metadata": {},
   "source": [
    "# WAP to check if string2 is the rotation of string1 or not"
   ]
  },
  {
   "cell_type": "code",
   "execution_count": 1,
   "id": "d0f1b4f3",
   "metadata": {},
   "outputs": [],
   "source": [
    "string1 = \"NEPALINDIACHINA\"\n",
    "string2 = \"indiachinanepal\""
   ]
  },
  {
   "cell_type": "code",
   "execution_count": null,
   "id": "9608aca5",
   "metadata": {},
   "outputs": [],
   "source": []
  },
  {
   "cell_type": "markdown",
   "id": "17024ed7",
   "metadata": {},
   "source": [
    "# WAP to extract fruits name from txt"
   ]
  },
  {
   "cell_type": "code",
   "execution_count": 46,
   "id": "e1116586",
   "metadata": {},
   "outputs": [
    {
     "data": {
      "text/plain": [
       "['I', 'Like', 'Orange', 'Apple', 'Banana', 'and', 'kiwi.']"
      ]
     },
     "execution_count": 46,
     "metadata": {},
     "output_type": "execute_result"
    }
   ],
   "source": [
    "txt = \"I Like Orange Apple Banana and kiwi.\"  #spliting the txt\n",
    "txt.split(\" \")"
   ]
  },
  {
   "cell_type": "code",
   "execution_count": 47,
   "id": "528ca64d",
   "metadata": {},
   "outputs": [
    {
     "data": {
      "text/plain": [
       "('Orange', 'Apple', 'Banana', 'kiwi')"
      ]
     },
     "execution_count": 47,
     "metadata": {},
     "output_type": "execute_result"
    }
   ],
   "source": [
    "txt =\"I Like Orange Apple Banana and kiwi\"\n",
    "txt[7:13],txt[14:19],txt[20:26],txt[31:35]\n",
    "\n",
    "\n"
   ]
  },
  {
   "cell_type": "code",
   "execution_count": 49,
   "id": "a3656a72",
   "metadata": {},
   "outputs": [
    {
     "data": {
      "text/plain": [
       "['orange', 'apple', 'banana', 'kiwi']"
      ]
     },
     "execution_count": 49,
     "metadata": {},
     "output_type": "execute_result"
    }
   ],
   "source": [
    "txt =\"I Like Orange Apple Banana and kiwi.\"\n",
    "\n",
    "txt=txt.lower()\n",
    "txt=txt.replace(\"i like\",\" \").replace(\"and\",\" \").replace(\".\",\" \")\n",
    "txt.split()\n"
   ]
  },
  {
   "cell_type": "code",
   "execution_count": null,
   "id": "15f98675",
   "metadata": {},
   "outputs": [],
   "source": []
  },
  {
   "cell_type": "markdown",
   "id": "df10d534",
   "metadata": {},
   "source": [
    "# WAP to count vowel and consonants on the given string:s=\"HELLO\""
   ]
  },
  {
   "cell_type": "code",
   "execution_count": 21,
   "id": "39f15987",
   "metadata": {},
   "outputs": [
    {
     "name": "stdout",
     "output_type": "stream",
     "text": [
      "consonant=H 0\n",
      "vowel=E 1\n",
      "consonant=L 2\n",
      "consonant=L 3\n",
      "vowel=O 4\n"
     ]
    }
   ],
   "source": [
    "s= \"HELLO\"\n",
    "\n",
    "for index in range(0,len(s),1):\n",
    "    letter=s[index]\n",
    "    if letter==\"A\" or letter==\"E\" or letter==\"I\" or letter==\"O\" or letter==\"U\":\n",
    "        print(f\"vowel={letter}\",index)\n",
    "        \n",
    "        \n",
    "    else:\n",
    "        print(f\"consonant={letter}\",index)\n",
    "        \n"
   ]
  },
  {
   "cell_type": "code",
   "execution_count": 18,
   "id": "6c50171e",
   "metadata": {},
   "outputs": [
    {
     "name": "stdout",
     "output_type": "stream",
     "text": [
      "Enter any Thing : Hello\n"
     ]
    }
   ],
   "source": [
    "msg=input(\"Enter any Thing : \").lower()\n",
    "\n",
    "v_count=0\n",
    "c_count=0\n",
    "for index in range(len(msg)):\n",
    "    letter=msg[index]\n",
    "   # print(letter)\n",
    "    \n",
    "    if letter=='a' or letter=='e' or letter=='i' or letter=='u':\n",
    "        v_count=v_count + 1\n",
    "        \n",
    "    else:\n",
    "        c_count=c_count + 1\n",
    "\n",
    "\n"
   ]
  },
  {
   "cell_type": "code",
   "execution_count": 31,
   "id": "00c15dd7",
   "metadata": {},
   "outputs": [
    {
     "data": {
      "text/plain": [
       "5"
      ]
     },
     "execution_count": 31,
     "metadata": {},
     "output_type": "execute_result"
    }
   ],
   "source": [
    "v_count"
   ]
  },
  {
   "cell_type": "code",
   "execution_count": 32,
   "id": "491f23e9",
   "metadata": {},
   "outputs": [
    {
     "data": {
      "text/plain": [
       "8"
      ]
     },
     "execution_count": 32,
     "metadata": {},
     "output_type": "execute_result"
    }
   ],
   "source": [
    "c_count"
   ]
  },
  {
   "cell_type": "code",
   "execution_count": 24,
   "id": "ef9db21c",
   "metadata": {},
   "outputs": [],
   "source": [
    "msg=\"Hi Please Reply\".lower()\n",
    "\n",
    "v_count=0\n",
    "c_count=0\n",
    "for index in range(len(msg)):\n",
    "    letter=msg[index]\n",
    "   # print(letter)\n",
    "    \n",
    "    if letter=='a' or letter=='e' or letter=='i' or letter=='u':\n",
    "        v_count=v_count + 1\n",
    "        \n",
    "    elif letter==\" \":\n",
    "        continue  #Skip the logic  if condition is True\n",
    "        print(\"This is after continue it won't get executed\")\n",
    "        \n",
    "    else:\n",
    "        c_count=c_count + 1"
   ]
  },
  {
   "cell_type": "code",
   "execution_count": 25,
   "id": "ef03a9ef",
   "metadata": {},
   "outputs": [
    {
     "data": {
      "text/plain": [
       "5"
      ]
     },
     "execution_count": 25,
     "metadata": {},
     "output_type": "execute_result"
    }
   ],
   "source": [
    "v_count"
   ]
  },
  {
   "cell_type": "code",
   "execution_count": 26,
   "id": "75e363ac",
   "metadata": {},
   "outputs": [
    {
     "data": {
      "text/plain": [
       "8"
      ]
     },
     "execution_count": 26,
     "metadata": {},
     "output_type": "execute_result"
    }
   ],
   "source": [
    "c_count"
   ]
  },
  {
   "cell_type": "markdown",
   "id": "3ec15545",
   "metadata": {},
   "source": [
    "# Continue ,Break, pass"
   ]
  },
  {
   "cell_type": "code",
   "execution_count": 28,
   "id": "8abb7dfe",
   "metadata": {},
   "outputs": [
    {
     "name": "stdout",
     "output_type": "stream",
     "text": [
      "0\n",
      "1\n",
      "2\n",
      "4\n"
     ]
    }
   ],
   "source": [
    "for index in range(5):\n",
    "    if index ==3:\n",
    "        continue #skips the logic if condition is true\n",
    "    print(index)# Continue ,Break, pass"
   ]
  },
  {
   "cell_type": "code",
   "execution_count": null,
   "id": "33e3d9b5",
   "metadata": {},
   "outputs": [],
   "source": []
  },
  {
   "cell_type": "code",
   "execution_count": 35,
   "id": "37beb6c3",
   "metadata": {},
   "outputs": [
    {
     "name": "stdout",
     "output_type": "stream",
     "text": [
      "0\n",
      "1\n",
      "2\n",
      "something\n"
     ]
    }
   ],
   "source": [
    "for index in range(5):\n",
    "    if index ==3:\n",
    "        break\n",
    "    print(index)\n",
    "print(\"something\")"
   ]
  },
  {
   "cell_type": "code",
   "execution_count": null,
   "id": "d5f3d13a",
   "metadata": {},
   "outputs": [],
   "source": []
  },
  {
   "cell_type": "code",
   "execution_count": 37,
   "id": "dec3f844",
   "metadata": {},
   "outputs": [
    {
     "name": "stdout",
     "output_type": "stream",
     "text": [
      "a\n"
     ]
    }
   ],
   "source": [
    "txt=\"apple\"\n",
    "for index in range(len(txt)):\n",
    "    letter=txt[index]\n",
    "    if letter==\"p\":\n",
    "        break\n",
    "    print(letter)\n"
   ]
  },
  {
   "cell_type": "code",
   "execution_count": null,
   "id": "9a78f81b",
   "metadata": {},
   "outputs": [],
   "source": []
  },
  {
   "cell_type": "markdown",
   "id": "0781567b",
   "metadata": {},
   "source": [
    "# Pass = Pass is a placeholder to write future code\n"
   ]
  },
  {
   "cell_type": "code",
   "execution_count": 38,
   "id": "aca45003",
   "metadata": {},
   "outputs": [],
   "source": [
    "if 10 == 10:\n",
    "    pass\n"
   ]
  },
  {
   "cell_type": "code",
   "execution_count": 43,
   "id": "50fa11e4",
   "metadata": {},
   "outputs": [
    {
     "name": "stdout",
     "output_type": "stream",
     "text": [
      "this code executed\n"
     ]
    }
   ],
   "source": [
    "if 10 == 19:\n",
    "    pass \n",
    "print(\"this code executed\")\n"
   ]
  },
  {
   "cell_type": "code",
   "execution_count": 44,
   "id": "7c88c60c",
   "metadata": {},
   "outputs": [],
   "source": [
    "for index in range(5):\n",
    "    pass"
   ]
  },
  {
   "cell_type": "code",
   "execution_count": null,
   "id": "81ba8bdf",
   "metadata": {},
   "outputs": [],
   "source": []
  }
 ],
 "metadata": {
  "kernelspec": {
   "display_name": "Python 3 (ipykernel)",
   "language": "python",
   "name": "python3"
  },
  "language_info": {
   "codemirror_mode": {
    "name": "ipython",
    "version": 3
   },
   "file_extension": ".py",
   "mimetype": "text/x-python",
   "name": "python",
   "nbconvert_exporter": "python",
   "pygments_lexer": "ipython3",
   "version": "3.8.10"
  }
 },
 "nbformat": 4,
 "nbformat_minor": 5
}
