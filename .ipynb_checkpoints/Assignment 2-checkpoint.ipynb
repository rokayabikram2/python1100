{
 "cells": [
  {
   "cell_type": "markdown",
   "id": "68537b4c",
   "metadata": {},
   "source": [
    "# WAP to check if the given input is 10 or not. if it is 10 print the number"
   ]
  },
  {
   "cell_type": "code",
   "execution_count": 1,
   "id": "f44779da",
   "metadata": {},
   "outputs": [
    {
     "name": "stdout",
     "output_type": "stream",
     "text": [
      "It is equals to 10\n"
     ]
    }
   ],
   "source": [
    "num = 10\n",
    "\n",
    "if num == 10:\n",
    "    print(\"It is equals to 10\")\n",
    "    \n",
    "else:\n",
    "    print(\"not matched\")"
   ]
  },
  {
   "cell_type": "code",
   "execution_count": null,
   "id": "ccd5f274",
   "metadata": {},
   "outputs": [],
   "source": []
  },
  {
   "cell_type": "markdown",
   "id": "2ac5f798",
   "metadata": {},
   "source": [
    "# WAP to check the user given input integer is positive or negative number.if it is positive print positive else print negative"
   ]
  },
  {
   "cell_type": "code",
   "execution_count": 4,
   "id": "6f355fe2",
   "metadata": {},
   "outputs": [
    {
     "name": "stdout",
     "output_type": "stream",
     "text": [
      "Enter a number : -5\n",
      "Negative\n"
     ]
    }
   ],
   "source": [
    "num =int(input(\"Enter a number : \"))\n",
    "\n",
    "if num > 0:\n",
    "    print(\"Positive\")\n",
    "    \n",
    "else:\n",
    "    if num == 0:\n",
    "        print(\"Zero\")\n",
    "    \n",
    "    else:\n",
    "        print(\"Negative\")\n",
    "    "
   ]
  },
  {
   "cell_type": "code",
   "execution_count": 5,
   "id": "6538834e",
   "metadata": {},
   "outputs": [
    {
     "name": "stdout",
     "output_type": "stream",
     "text": [
      "Enter a number : 9\n",
      "Positive\n"
     ]
    }
   ],
   "source": [
    "num =int(input(\"Enter a number : \"))\n",
    "\n",
    "if num > 0:\n",
    "    print(\"Positive\")\n",
    "    \n",
    "elif num == 0:\n",
    "        print(\"Zero\")\n",
    "    \n",
    "else:\n",
    "        print(\"Negative\")"
   ]
  },
  {
   "cell_type": "code",
   "execution_count": null,
   "id": "c5c1da7f",
   "metadata": {},
   "outputs": [],
   "source": []
  },
  {
   "cell_type": "code",
   "execution_count": null,
   "id": "cb116fa7",
   "metadata": {},
   "outputs": [],
   "source": []
  },
  {
   "cell_type": "markdown",
   "id": "9f4e6b2d",
   "metadata": {},
   "source": [
    "# WAP to display \"Hello\" if a number entered by user is a multiple of 5 ,otherwise print \"bye\"."
   ]
  },
  {
   "cell_type": "code",
   "execution_count": null,
   "id": "ccae97ed",
   "metadata": {},
   "outputs": [],
   "source": []
  }
 ],
 "metadata": {
  "kernelspec": {
   "display_name": "Python 3 (ipykernel)",
   "language": "python",
   "name": "python3"
  },
  "language_info": {
   "codemirror_mode": {
    "name": "ipython",
    "version": 3
   },
   "file_extension": ".py",
   "mimetype": "text/x-python",
   "name": "python",
   "nbconvert_exporter": "python",
   "pygments_lexer": "ipython3",
   "version": "3.8.10"
  }
 },
 "nbformat": 4,
 "nbformat_minor": 5
}
