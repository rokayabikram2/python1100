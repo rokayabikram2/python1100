{
 "cells": [
  {
   "cell_type": "code",
   "execution_count": 1,
   "id": "4e6316a3",
   "metadata": {},
   "outputs": [],
   "source": [
    "#WAP to swap the value of two variable"
   ]
  },
  {
   "cell_type": "code",
   "execution_count": 5,
   "id": "dcca5c4e",
   "metadata": {},
   "outputs": [
    {
     "name": "stdout",
     "output_type": "stream",
     "text": [
      "num1 is0.36 and num2 is 2.5\n"
     ]
    }
   ],
   "source": [
    "num1=2.5\n",
    "num2=0.36\n",
    "temp=num1\n",
    "num1=num2\n",
    "num2=temp\n",
    "print(f\"num1 is{num1} and num2 is {num2}\")"
   ]
  },
  {
   "cell_type": "code",
   "execution_count": null,
   "id": "9142311c",
   "metadata": {},
   "outputs": [],
   "source": []
  },
  {
   "cell_type": "code",
   "execution_count": null,
   "id": "405287d7",
   "metadata": {},
   "outputs": [],
   "source": []
  },
  {
   "cell_type": "markdown",
   "id": "a8d76f04",
   "metadata": {},
   "source": [
    "# WAP to find the volume of sphere having radius 5"
   ]
  },
  {
   "cell_type": "code",
   "execution_count": null,
   "id": "d8537627",
   "metadata": {},
   "outputs": [],
   "source": [
    "r=int(input(\"enter the radius = \"))\n",
    "PI=3.14\n",
    "def volume_sphere(r,PI):\n",
    "    volume =(4/3)*PI*r**3\n",
    "print(f\"volume of sphere is {volume}\")"
   ]
  },
  {
   "cell_type": "code",
   "execution_count": null,
   "id": "6febc64d",
   "metadata": {},
   "outputs": [],
   "source": [
    "def volume_sphere(r=5,PI=3.14):\n",
    "    volume =(4/3)*PI*5**3\n",
    "print(f\"volume of sphere is {volume}\")\n"
   ]
  },
  {
   "cell_type": "code",
   "execution_count": null,
   "id": "dffd65d3",
   "metadata": {},
   "outputs": [],
   "source": []
  },
  {
   "cell_type": "code",
   "execution_count": null,
   "id": "5af4f7c7",
   "metadata": {},
   "outputs": [],
   "source": []
  }
 ],
 "metadata": {
  "kernelspec": {
   "display_name": "Python 3 (ipykernel)",
   "language": "python",
   "name": "python3"
  },
  "language_info": {
   "codemirror_mode": {
    "name": "ipython",
    "version": 3
   },
   "file_extension": ".py",
   "mimetype": "text/x-python",
   "name": "python",
   "nbconvert_exporter": "python",
   "pygments_lexer": "ipython3",
   "version": "3.8.10"
  }
 },
 "nbformat": 4,
 "nbformat_minor": 5
}
