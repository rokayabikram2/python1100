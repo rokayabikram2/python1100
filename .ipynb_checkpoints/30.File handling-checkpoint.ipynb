{
 "cells": [
  {
   "cell_type": "code",
   "execution_count": 17,
   "id": "78c480ac",
   "metadata": {},
   "outputs": [],
   "source": [
    "f =open('richdadpoordad.txt','r')"
   ]
  },
  {
   "cell_type": "markdown",
   "id": "11d326ab",
   "metadata": {},
   "source": [
    "# syntax if file opening\n",
    "\n",
    "```python\n",
    "open(filename,mode)\n",
    "```"
   ]
  },
  {
   "cell_type": "code",
   "execution_count": 18,
   "id": "63447217",
   "metadata": {},
   "outputs": [],
   "source": [
    "# read file using read method\n",
    "\n",
    "text=f.read()"
   ]
  },
  {
   "cell_type": "code",
   "execution_count": 19,
   "id": "042d53f1",
   "metadata": {},
   "outputs": [
    {
     "data": {
      "text/plain": [
       "'This is Rich dad poor dad book,Malai yo book ekdam man parxa.\\nYo class ma ek jana le bahek kasaile padyaxaina tara Bikram ley matrai padeko xa rey.\\nyo book kasailai padna man xaina rey.\\nmobile chalauna matrai garxan rey.'"
      ]
     },
     "execution_count": 19,
     "metadata": {},
     "output_type": "execute_result"
    }
   ],
   "source": [
    "text"
   ]
  },
  {
   "cell_type": "code",
   "execution_count": null,
   "id": "7f459ce7",
   "metadata": {},
   "outputs": [],
   "source": []
  },
  {
   "cell_type": "code",
   "execution_count": 20,
   "id": "1fce9b67",
   "metadata": {},
   "outputs": [
    {
     "name": "stdout",
     "output_type": "stream",
     "text": [
      "This is Rich dad poor dad book,Malai yo book ekdam man parxa.\n",
      "\n"
     ]
    }
   ],
   "source": [
    "f =open('richdadpoordad.txt','r')\n",
    "first_paragraph=f.readline()   # first paragraph matrai padni ho\n",
    "\n",
    "print(first_paragraph)"
   ]
  },
  {
   "cell_type": "code",
   "execution_count": 23,
   "id": "220b43da",
   "metadata": {},
   "outputs": [
    {
     "name": "stdout",
     "output_type": "stream",
     "text": [
      "['This is Rich dad poor dad book,Malai yo book ekdam man parxa.\\n', 'Yo class ma ek jana le bahek kasaile padyaxaina tara Bikram ley matrai padeko xa rey.\\n', 'yo book kasailai padna man xaina rey.\\n', 'mobile chalauna matrai garxan rey.']\n"
     ]
    }
   ],
   "source": [
    "f =open('richdadpoordad.txt','r')\n",
    "lines=f.readlines()   #readlines le paragraph paragraph padni raxa\n",
    "\n",
    "print(lines)"
   ]
  },
  {
   "cell_type": "code",
   "execution_count": 25,
   "id": "107daed2",
   "metadata": {},
   "outputs": [
    {
     "data": {
      "text/plain": [
       "4"
      ]
     },
     "execution_count": 25,
     "metadata": {},
     "output_type": "execute_result"
    }
   ],
   "source": [
    "len(lines)"
   ]
  },
  {
   "cell_type": "code",
   "execution_count": null,
   "id": "d36817e2",
   "metadata": {},
   "outputs": [],
   "source": []
  },
  {
   "cell_type": "code",
   "execution_count": 26,
   "id": "bfb1840e",
   "metadata": {},
   "outputs": [
    {
     "data": {
      "text/plain": [
       "'yo book kasailai padna man xaina rey.\\n'"
      ]
     },
     "execution_count": 26,
     "metadata": {},
     "output_type": "execute_result"
    }
   ],
   "source": [
    "lines[2]"
   ]
  },
  {
   "cell_type": "code",
   "execution_count": null,
   "id": "788e2800",
   "metadata": {},
   "outputs": [],
   "source": []
  },
  {
   "cell_type": "code",
   "execution_count": 27,
   "id": "0aaf04ed",
   "metadata": {},
   "outputs": [],
   "source": [
    "f.close()  # file open garepaxi close garna parxa"
   ]
  },
  {
   "cell_type": "code",
   "execution_count": 28,
   "id": "10c47af9",
   "metadata": {},
   "outputs": [],
   "source": [
    "# Alternative syntax=yo use garni"
   ]
  },
  {
   "cell_type": "code",
   "execution_count": 29,
   "id": "47a96045",
   "metadata": {},
   "outputs": [
    {
     "name": "stdout",
     "output_type": "stream",
     "text": [
      "This is Rich dad poor dad book,Malai yo book ekdam man parxa.\n",
      "Yo class ma ek jana le bahek kasaile padyaxaina tara Bikram ley matrai padeko xa rey.\n",
      "yo book kasailai padna man xaina rey.\n",
      "mobile chalauna matrai garxan rey.\n"
     ]
    }
   ],
   "source": [
    "with open('richdadpoordad.txt','r')as f:\n",
    "    txt=f.read()\n",
    "print(text)"
   ]
  },
  {
   "cell_type": "code",
   "execution_count": null,
   "id": "06803c8d",
   "metadata": {},
   "outputs": [],
   "source": []
  },
  {
   "cell_type": "code",
   "execution_count": null,
   "id": "977255f2",
   "metadata": {},
   "outputs": [],
   "source": []
  },
  {
   "cell_type": "markdown",
   "id": "6f9c49b8",
   "metadata": {},
   "source": [
    "# write in file"
   ]
  },
  {
   "cell_type": "code",
   "execution_count": 45,
   "id": "2bc362ca",
   "metadata": {},
   "outputs": [],
   "source": [
    "# write mode le file xaina vani new banauxa\n",
    "\n",
    "with open ('hipleasereply.txt','w') as f:\n",
    "    f.write('Yo hamro favourite message ho')"
   ]
  },
  {
   "cell_type": "code",
   "execution_count": 40,
   "id": "0f93c6e4",
   "metadata": {},
   "outputs": [
    {
     "name": "stdout",
     "output_type": "stream",
     "text": [
      "Yo hamro favourite message ho\n"
     ]
    }
   ],
   "source": [
    "with open('hipleasereply.txt','r') as f:\n",
    "    print(f.read())\n",
    "    "
   ]
  },
  {
   "cell_type": "code",
   "execution_count": 43,
   "id": "2cace1b3",
   "metadata": {},
   "outputs": [],
   "source": [
    "#write mode ma file open garda if file already exist garxa vane\n",
    "#new file create gareko hunaley purano file replace hunxa\n",
    "\n",
    "with open('hipleasereply.txt','w') as f:\n",
    "    f.write(\"yo kai navako message ho.yo meme kai xaina\")"
   ]
  },
  {
   "cell_type": "code",
   "execution_count": 44,
   "id": "4cbd3fa5",
   "metadata": {},
   "outputs": [
    {
     "name": "stdout",
     "output_type": "stream",
     "text": [
      "yo kai navako message ho.yo meme kai xaina\n"
     ]
    }
   ],
   "source": [
    "with open('hipleasereply.txt','r') as f:\n",
    "    print(f.read())\n",
    "    "
   ]
  },
  {
   "cell_type": "code",
   "execution_count": null,
   "id": "64c8c305",
   "metadata": {},
   "outputs": [],
   "source": []
  },
  {
   "cell_type": "code",
   "execution_count": null,
   "id": "d883e208",
   "metadata": {},
   "outputs": [],
   "source": []
  },
  {
   "cell_type": "markdown",
   "id": "fb91fe54",
   "metadata": {},
   "source": [
    "# Append mode in file handling\n",
    "* if file exist gardaina vani naya banauxa\n",
    "* if exist xa vani purano ma appendgarxa/thapxa "
   ]
  },
  {
   "cell_type": "code",
   "execution_count": 52,
   "id": "3a59053c",
   "metadata": {},
   "outputs": [],
   "source": [
    "with open('broadway.txt','a') as f:\n",
    "    f.write(\"Yo file exist maile naya banaye..\")"
   ]
  },
  {
   "cell_type": "code",
   "execution_count": 53,
   "id": "a73eb10f",
   "metadata": {},
   "outputs": [
    {
     "name": "stdout",
     "output_type": "stream",
     "text": [
      "Yo file exist maile naya banaye..yo file paile exist garxa purano data delete nagare aako hoYo file exist maile naya banaye..\n"
     ]
    }
   ],
   "source": [
    "with open('broadway.txt','r') as f:\n",
    "    print(f.read())"
   ]
  },
  {
   "cell_type": "code",
   "execution_count": 54,
   "id": "b56aa898",
   "metadata": {},
   "outputs": [],
   "source": [
    "with open('broadway.txt','a') as f:\n",
    "    f.write(\"yo file paile exist garxa purano data delete nagare aako ho\")"
   ]
  },
  {
   "cell_type": "code",
   "execution_count": 57,
   "id": "78ec0891",
   "metadata": {},
   "outputs": [
    {
     "name": "stdout",
     "output_type": "stream",
     "text": [
      "Yo file exist maile naya banaye..yo file paile exist garxa purano data delete nagare aako hoYo file exist maile naya banaye..yo file paile exist garxa purano data delete nagare aako ho\n"
     ]
    }
   ],
   "source": [
    "with open('broadway.txt','r') as f:\n",
    "    print(f.read())\n",
    "    "
   ]
  },
  {
   "cell_type": "code",
   "execution_count": null,
   "id": "7dc32566",
   "metadata": {},
   "outputs": [],
   "source": []
  },
  {
   "cell_type": "markdown",
   "id": "2e3c72bb",
   "metadata": {},
   "source": [
    "# create mode"
   ]
  },
  {
   "cell_type": "code",
   "execution_count": null,
   "id": "c266f65a",
   "metadata": {},
   "outputs": [],
   "source": []
  },
  {
   "cell_type": "code",
   "execution_count": null,
   "id": "745318c1",
   "metadata": {},
   "outputs": [],
   "source": []
  },
  {
   "cell_type": "code",
   "execution_count": null,
   "id": "99e31a01",
   "metadata": {},
   "outputs": [],
   "source": []
  },
  {
   "cell_type": "markdown",
   "id": "04f8f390",
   "metadata": {},
   "source": [
    "# introduction to OS library"
   ]
  },
  {
   "cell_type": "code",
   "execution_count": 59,
   "id": "1f4b666c",
   "metadata": {},
   "outputs": [],
   "source": [
    "import os"
   ]
  },
  {
   "cell_type": "code",
   "execution_count": 61,
   "id": "78ff3b4a",
   "metadata": {},
   "outputs": [
    {
     "data": {
      "text/plain": [
       "['.ipynb_checkpoints',\n",
       " '1.intro to python.ipynb',\n",
       " '10.String Methids.ipynb',\n",
       " '11.Continue ,Break ,Pass.ipynb',\n",
       " '12.Membership operator in python.ipynb',\n",
       " '13.Loop and strings.ipynb',\n",
       " '14.List Methods.ipynb',\n",
       " '15.list in python.ipynb',\n",
       " '16.List Methods.ipynb',\n",
       " '17.List Comprehension.ipynb',\n",
       " '18.Tuples in python.ipynb',\n",
       " '19.Set in python.ipynb',\n",
       " '2.Calculator in python.ipynb',\n",
       " '20.None.ipynb',\n",
       " '21.Identity Operator.ipynb',\n",
       " '22.Dictionary.ipynb',\n",
       " '23.Function.ipynb',\n",
       " '25.OOP in python.ipynb',\n",
       " '26.Inheritance.ipynb',\n",
       " '27.Access Specifier.ipynb',\n",
       " '28.Polymorphism.ipynb',\n",
       " '29.exception handling .ipynb',\n",
       " '3.Arithmatic operator.ipynb',\n",
       " '30.File handling.ipynb',\n",
       " '4.variable name.ipynb',\n",
       " '5.Dynamic Typing.ipynb',\n",
       " '6.User_Input.ipynb',\n",
       " '7.String in python.ipynb',\n",
       " '8.Conditional in python.ipynb',\n",
       " '9.logical operator in python.ipynb',\n",
       " 'Assignment 1.ipynb',\n",
       " 'Assignment 2.ipynb',\n",
       " 'Assignment 3.ipynb',\n",
       " 'Assignment 4.ipynb',\n",
       " 'boradway.txt',\n",
       " 'broadway.txt',\n",
       " 'hipleasereply.txt',\n",
       " 'Recap.ipynb',\n",
       " 'richdadpoordad.txt']"
      ]
     },
     "execution_count": 61,
     "metadata": {},
     "output_type": "execute_result"
    }
   ],
   "source": [
    "os.listdir()  # lists all file in current dictionary"
   ]
  },
  {
   "cell_type": "code",
   "execution_count": null,
   "id": "33caa156",
   "metadata": {},
   "outputs": [],
   "source": []
  },
  {
   "cell_type": "code",
   "execution_count": 62,
   "id": "58aadc32",
   "metadata": {},
   "outputs": [],
   "source": [
    "\n",
    "# ma kun directory ma xu vanera tha pauna lai"
   ]
  },
  {
   "cell_type": "code",
   "execution_count": 65,
   "id": "7ef5b6af",
   "metadata": {},
   "outputs": [],
   "source": [
    "BASEPATH=os.getcwd() #get current directory"
   ]
  },
  {
   "cell_type": "code",
   "execution_count": 66,
   "id": "4cb65752",
   "metadata": {},
   "outputs": [
    {
     "data": {
      "text/plain": [
       "'C:\\\\Users\\\\hp\\\\Desktop\\\\Python1100'"
      ]
     },
     "execution_count": 66,
     "metadata": {},
     "output_type": "execute_result"
    }
   ],
   "source": [
    "BASEPATH"
   ]
  },
  {
   "cell_type": "code",
   "execution_count": null,
   "id": "03ae6fcc",
   "metadata": {},
   "outputs": [],
   "source": []
  },
  {
   "cell_type": "code",
   "execution_count": 67,
   "id": "189bedab",
   "metadata": {},
   "outputs": [],
   "source": [
    "# find if file exist on current dictionary or not"
   ]
  },
  {
   "cell_type": "code",
   "execution_count": 69,
   "id": "99404367",
   "metadata": {},
   "outputs": [
    {
     "data": {
      "text/plain": [
       "True"
      ]
     },
     "execution_count": 69,
     "metadata": {},
     "output_type": "execute_result"
    }
   ],
   "source": [
    "os.path.exists('broadway.txt')"
   ]
  },
  {
   "cell_type": "code",
   "execution_count": 70,
   "id": "bfe0ada7",
   "metadata": {},
   "outputs": [
    {
     "data": {
      "text/plain": [
       "False"
      ]
     },
     "execution_count": 70,
     "metadata": {},
     "output_type": "execute_result"
    }
   ],
   "source": [
    "os.path.exists('no.txt')"
   ]
  },
  {
   "cell_type": "code",
   "execution_count": null,
   "id": "a263a776",
   "metadata": {},
   "outputs": [],
   "source": []
  },
  {
   "cell_type": "code",
   "execution_count": 71,
   "id": "deb2c53b",
   "metadata": {},
   "outputs": [],
   "source": [
    "#if file exists delet it"
   ]
  },
  {
   "cell_type": "code",
   "execution_count": 74,
   "id": "0c87bda2",
   "metadata": {},
   "outputs": [
    {
     "name": "stdout",
     "output_type": "stream",
     "text": [
      "file removed..\n"
     ]
    }
   ],
   "source": [
    "if os.path.exists('broadway.txt'):\n",
    "    os.remove('broadway.txt')\n",
    "    print('file removed..')"
   ]
  },
  {
   "cell_type": "code",
   "execution_count": 75,
   "id": "77de13cb",
   "metadata": {},
   "outputs": [
    {
     "data": {
      "text/plain": [
       "False"
      ]
     },
     "execution_count": 75,
     "metadata": {},
     "output_type": "execute_result"
    }
   ],
   "source": [
    "os.path.exists('broadway.txt')"
   ]
  },
  {
   "cell_type": "code",
   "execution_count": null,
   "id": "72fa012c",
   "metadata": {},
   "outputs": [],
   "source": []
  }
 ],
 "metadata": {
  "kernelspec": {
   "display_name": "Python 3 (ipykernel)",
   "language": "python",
   "name": "python3"
  },
  "language_info": {
   "codemirror_mode": {
    "name": "ipython",
    "version": 3
   },
   "file_extension": ".py",
   "mimetype": "text/x-python",
   "name": "python",
   "nbconvert_exporter": "python",
   "pygments_lexer": "ipython3",
   "version": "3.8.10"
  }
 },
 "nbformat": 4,
 "nbformat_minor": 5
}
