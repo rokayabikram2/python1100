{
 "cells": [
  {
   "cell_type": "code",
   "execution_count": 1,
   "id": "8461839a",
   "metadata": {},
   "outputs": [],
   "source": [
    "a = 5\n",
    "b = 2\n",
    "c = a+b"
   ]
  },
  {
   "cell_type": "code",
   "execution_count": 2,
   "id": "4363b1d9",
   "metadata": {},
   "outputs": [
    {
     "data": {
      "text/plain": [
       "7"
      ]
     },
     "execution_count": 2,
     "metadata": {},
     "output_type": "execute_result"
    }
   ],
   "source": [
    "c"
   ]
  },
  {
   "cell_type": "code",
   "execution_count": 5,
   "id": "96bc9e48",
   "metadata": {},
   "outputs": [],
   "source": [
    "def add():\n",
    "    a = 5\n",
    "    b = 2\n",
    "    c = a + b\n",
    "    print(c)\n",
    "    "
   ]
  },
  {
   "cell_type": "code",
   "execution_count": 7,
   "id": "862eadab",
   "metadata": {},
   "outputs": [
    {
     "name": "stdout",
     "output_type": "stream",
     "text": [
      "7\n"
     ]
    }
   ],
   "source": [
    "add()"
   ]
  },
  {
   "cell_type": "code",
   "execution_count": 15,
   "id": "8777c0a6",
   "metadata": {},
   "outputs": [],
   "source": [
    "def add(a,b):  # a and b are arguments or parameter to the function\n",
    "    c= a+b\n",
    "    print(c)"
   ]
  },
  {
   "cell_type": "code",
   "execution_count": 16,
   "id": "1942daae",
   "metadata": {},
   "outputs": [
    {
     "name": "stdout",
     "output_type": "stream",
     "text": [
      "11\n"
     ]
    }
   ],
   "source": [
    "add(a = 2, b= 9)"
   ]
  },
  {
   "cell_type": "code",
   "execution_count": 17,
   "id": "c022984c",
   "metadata": {},
   "outputs": [
    {
     "name": "stdout",
     "output_type": "stream",
     "text": [
      "-6\n"
     ]
    }
   ],
   "source": [
    "add(a= -9, b= 3)"
   ]
  },
  {
   "cell_type": "code",
   "execution_count": null,
   "id": "a582505d",
   "metadata": {},
   "outputs": [],
   "source": []
  },
  {
   "cell_type": "code",
   "execution_count": null,
   "id": "a8023a19",
   "metadata": {},
   "outputs": [],
   "source": []
  },
  {
   "cell_type": "code",
   "execution_count": 18,
   "id": "97faf2c1",
   "metadata": {},
   "outputs": [],
   "source": [
    "# WAF to add two numbers use that number and square it"
   ]
  },
  {
   "cell_type": "code",
   "execution_count": 20,
   "id": "76236e27",
   "metadata": {},
   "outputs": [],
   "source": [
    "def add(a,b):\n",
    "    c = a + b\n",
    "    print(c)"
   ]
  },
  {
   "cell_type": "code",
   "execution_count": 22,
   "id": "6cbf8a54",
   "metadata": {},
   "outputs": [
    {
     "name": "stdout",
     "output_type": "stream",
     "text": [
      "11\n"
     ]
    }
   ],
   "source": [
    "total=add(a= 5, b= 6)"
   ]
  },
  {
   "cell_type": "code",
   "execution_count": 24,
   "id": "32115315",
   "metadata": {},
   "outputs": [],
   "source": [
    "total"
   ]
  },
  {
   "cell_type": "code",
   "execution_count": 25,
   "id": "16bd4d68",
   "metadata": {},
   "outputs": [
    {
     "data": {
      "text/plain": [
       "NoneType"
      ]
     },
     "execution_count": 25,
     "metadata": {},
     "output_type": "execute_result"
    }
   ],
   "source": [
    "type(total)"
   ]
  },
  {
   "cell_type": "code",
   "execution_count": 26,
   "id": "9712bc19",
   "metadata": {},
   "outputs": [],
   "source": [
    "def add(a,b):\n",
    "    c = a + b\n",
    "    return c"
   ]
  },
  {
   "cell_type": "code",
   "execution_count": 27,
   "id": "8b45be1d",
   "metadata": {},
   "outputs": [],
   "source": [
    "total= add(a=6, b=8)"
   ]
  },
  {
   "cell_type": "code",
   "execution_count": 28,
   "id": "2148246c",
   "metadata": {},
   "outputs": [
    {
     "data": {
      "text/plain": [
       "14"
      ]
     },
     "execution_count": 28,
     "metadata": {},
     "output_type": "execute_result"
    }
   ],
   "source": [
    "total"
   ]
  },
  {
   "cell_type": "code",
   "execution_count": 29,
   "id": "ddd3966e",
   "metadata": {},
   "outputs": [],
   "source": [
    "sq_total=total **2"
   ]
  },
  {
   "cell_type": "code",
   "execution_count": 30,
   "id": "2a2d0783",
   "metadata": {},
   "outputs": [
    {
     "data": {
      "text/plain": [
       "196"
      ]
     },
     "execution_count": 30,
     "metadata": {},
     "output_type": "execute_result"
    }
   ],
   "source": [
    "sq_total"
   ]
  },
  {
   "cell_type": "code",
   "execution_count": null,
   "id": "a84a9541",
   "metadata": {},
   "outputs": [],
   "source": []
  },
  {
   "cell_type": "code",
   "execution_count": null,
   "id": "02838229",
   "metadata": {},
   "outputs": [],
   "source": []
  },
  {
   "cell_type": "markdown",
   "id": "0a28f01d",
   "metadata": {},
   "source": [
    "# default and Non-default arguments"
   ]
  },
  {
   "cell_type": "code",
   "execution_count": 44,
   "id": "9ad8609d",
   "metadata": {},
   "outputs": [],
   "source": [
    "def greet(name,msg):\n",
    "    print(f\"Hello,{name},{msg}\")"
   ]
  },
  {
   "cell_type": "code",
   "execution_count": 45,
   "id": "00f26b70",
   "metadata": {},
   "outputs": [
    {
     "name": "stdout",
     "output_type": "stream",
     "text": [
      "Hello,kshitiz,Good morning\n"
     ]
    }
   ],
   "source": [
    "greet(\"kshitiz\",\"Good morning\")"
   ]
  },
  {
   "cell_type": "code",
   "execution_count": 46,
   "id": "90321ee3",
   "metadata": {},
   "outputs": [],
   "source": [
    "def greet(name,msg =\"Good Morning\"):  #msg is a default argument\n",
    "    print(f\"Hello,{name},{msg}\")"
   ]
  },
  {
   "cell_type": "code",
   "execution_count": 47,
   "id": "370b982e",
   "metadata": {},
   "outputs": [
    {
     "name": "stdout",
     "output_type": "stream",
     "text": [
      "Hello,Bikram,Good Morning\n"
     ]
    }
   ],
   "source": [
    "greet('Bikram')"
   ]
  },
  {
   "cell_type": "code",
   "execution_count": 48,
   "id": "31036919",
   "metadata": {},
   "outputs": [
    {
     "name": "stdout",
     "output_type": "stream",
     "text": [
      "Hello,Bishal,Good Morning\n"
     ]
    }
   ],
   "source": [
    "greet('Bishal')"
   ]
  },
  {
   "cell_type": "code",
   "execution_count": 50,
   "id": "3c5793c5",
   "metadata": {},
   "outputs": [
    {
     "name": "stdout",
     "output_type": "stream",
     "text": [
      "Hello,Ram chandra poudel,good afternoon\n"
     ]
    }
   ],
   "source": [
    "greet(\"Ram chandra poudel\",\"good afternoon\")  #good morning is overwrite by good afternoon"
   ]
  },
  {
   "cell_type": "code",
   "execution_count": 52,
   "id": "6ac74b05",
   "metadata": {},
   "outputs": [
    {
     "ename": "SyntaxError",
     "evalue": "non-default argument follows default argument (2656749207.py, line 1)",
     "output_type": "error",
     "traceback": [
      "\u001b[1;36m  Cell \u001b[1;32mIn[52], line 1\u001b[1;36m\u001b[0m\n\u001b[1;33m    def greet(msg =\"Good Morning\",name):  #non default argument doesn't follow default argument #msg is degault argument and name is non default ragument\u001b[0m\n\u001b[1;37m              ^\u001b[0m\n\u001b[1;31mSyntaxError\u001b[0m\u001b[1;31m:\u001b[0m non-default argument follows default argument\n"
     ]
    }
   ],
   "source": [
    "def greet(msg =\"Good Morning\",name):  #default argument doesn't follow non-default argument\n",
    "    #msg is degault argument and name is non default ragument\n",
    "    print(f\"Hello,{name},{msg}\")"
   ]
  },
  {
   "cell_type": "code",
   "execution_count": null,
   "id": "091e63ec",
   "metadata": {},
   "outputs": [],
   "source": []
  },
  {
   "cell_type": "markdown",
   "id": "d76e4d3a",
   "metadata": {},
   "source": [
    "# docstring"
   ]
  },
  {
   "cell_type": "code",
   "execution_count": 57,
   "id": "5bfbf95f",
   "metadata": {},
   "outputs": [],
   "source": [
    "def add(a,b):\n",
    "    \"\"\"\n",
    "    parameters:\n",
    "    ----------\n",
    "    a : int\n",
    "       -first number\n",
    "    b : int\n",
    "       -second number\n",
    "    returns\n",
    "    ---------\n",
    "    c: int\n",
    "       -total of a + b\n",
    "    \n",
    "    \"\"\"\n",
    "    c= a+b\n",
    "    return c"
   ]
  },
  {
   "cell_type": "code",
   "execution_count": 58,
   "id": "bef404e9",
   "metadata": {},
   "outputs": [
    {
     "data": {
      "text/plain": [
       "8"
      ]
     },
     "execution_count": 58,
     "metadata": {},
     "output_type": "execute_result"
    }
   ],
   "source": [
    "add(2,6)"
   ]
  },
  {
   "cell_type": "code",
   "execution_count": null,
   "id": "db55b941",
   "metadata": {},
   "outputs": [],
   "source": []
  }
 ],
 "metadata": {
  "kernelspec": {
   "display_name": "Python 3 (ipykernel)",
   "language": "python",
   "name": "python3"
  },
  "language_info": {
   "codemirror_mode": {
    "name": "ipython",
    "version": 3
   },
   "file_extension": ".py",
   "mimetype": "text/x-python",
   "name": "python",
   "nbconvert_exporter": "python",
   "pygments_lexer": "ipython3",
   "version": "3.8.10"
  }
 },
 "nbformat": 4,
 "nbformat_minor": 5
}
