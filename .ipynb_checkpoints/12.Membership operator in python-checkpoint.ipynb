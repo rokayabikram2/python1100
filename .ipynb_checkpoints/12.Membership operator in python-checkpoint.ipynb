{
 "cells": [
  {
   "cell_type": "code",
   "execution_count": 1,
   "id": "ede9652e",
   "metadata": {},
   "outputs": [],
   "source": [
    "car=['Mercedes','BMW','Tesla','Jagaur','Bently']\n"
   ]
  },
  {
   "cell_type": "code",
   "execution_count": 2,
   "id": "2f2f6491",
   "metadata": {},
   "outputs": [
    {
     "data": {
      "text/plain": [
       "True"
      ]
     },
     "execution_count": 2,
     "metadata": {},
     "output_type": "execute_result"
    }
   ],
   "source": [
    "\"BMW\" in car"
   ]
  },
  {
   "cell_type": "code",
   "execution_count": 3,
   "id": "51e1e199",
   "metadata": {},
   "outputs": [
    {
     "data": {
      "text/plain": [
       "False"
      ]
     },
     "execution_count": 3,
     "metadata": {},
     "output_type": "execute_result"
    }
   ],
   "source": [
    "\"tata\" in car\n"
   ]
  },
  {
   "cell_type": "code",
   "execution_count": 4,
   "id": "ecde9f77",
   "metadata": {},
   "outputs": [
    {
     "data": {
      "text/plain": [
       "False"
      ]
     },
     "execution_count": 4,
     "metadata": {},
     "output_type": "execute_result"
    }
   ],
   "source": [
    "\"BMW\" not in car"
   ]
  },
  {
   "cell_type": "code",
   "execution_count": 5,
   "id": "fff21748",
   "metadata": {},
   "outputs": [
    {
     "data": {
      "text/plain": [
       "True"
      ]
     },
     "execution_count": 5,
     "metadata": {},
     "output_type": "execute_result"
    }
   ],
   "source": [
    "\"Tata\" not in car "
   ]
  },
  {
   "cell_type": "code",
   "execution_count": 6,
   "id": "a37a320a",
   "metadata": {},
   "outputs": [],
   "source": [
    "# in and not in are membership operator"
   ]
  },
  {
   "cell_type": "code",
   "execution_count": null,
   "id": "d8a5bc37",
   "metadata": {},
   "outputs": [],
   "source": []
  },
  {
   "cell_type": "code",
   "execution_count": null,
   "id": "c58c34fb",
   "metadata": {},
   "outputs": [],
   "source": []
  },
  {
   "cell_type": "markdown",
   "id": "0babc291",
   "metadata": {},
   "source": [
    "# List are mutable data types"
   ]
  },
  {
   "cell_type": "code",
   "execution_count": 7,
   "id": "6d4c391b",
   "metadata": {},
   "outputs": [],
   "source": [
    "car=['Mercedes','BMW','Tesla','Jagaur','Bently']\n"
   ]
  },
  {
   "cell_type": "code",
   "execution_count": 8,
   "id": "29ddeb94",
   "metadata": {},
   "outputs": [
    {
     "data": {
      "text/plain": [
       "'Tesla'"
      ]
     },
     "execution_count": 8,
     "metadata": {},
     "output_type": "execute_result"
    }
   ],
   "source": [
    "car[2]"
   ]
  },
  {
   "cell_type": "code",
   "execution_count": 9,
   "id": "cd429daa",
   "metadata": {},
   "outputs": [],
   "source": [
    "car[2]=\"Bugati\""
   ]
  },
  {
   "cell_type": "code",
   "execution_count": 10,
   "id": "ca51ace1",
   "metadata": {},
   "outputs": [
    {
     "data": {
      "text/plain": [
       "['Mercedes', 'BMW', 'Bugati', 'Jagaur', 'Bently']"
      ]
     },
     "execution_count": 10,
     "metadata": {},
     "output_type": "execute_result"
    }
   ],
   "source": [
    "car"
   ]
  },
  {
   "cell_type": "code",
   "execution_count": null,
   "id": "70280ba7",
   "metadata": {},
   "outputs": [],
   "source": []
  },
  {
   "cell_type": "code",
   "execution_count": 11,
   "id": "6f48194a",
   "metadata": {},
   "outputs": [],
   "source": [
    "fruits=[\"Banana\",\"apple\",\"grapes\",\"Mango\"]\n"
   ]
  },
  {
   "cell_type": "code",
   "execution_count": 12,
   "id": "41926efc",
   "metadata": {},
   "outputs": [],
   "source": [
    "fruits[3]=\"Orange\""
   ]
  },
  {
   "cell_type": "code",
   "execution_count": 13,
   "id": "824acec4",
   "metadata": {},
   "outputs": [
    {
     "data": {
      "text/plain": [
       "['Banana', 'apple', 'grapes', 'Orange']"
      ]
     },
     "execution_count": 13,
     "metadata": {},
     "output_type": "execute_result"
    }
   ],
   "source": [
    "fruits"
   ]
  },
  {
   "cell_type": "code",
   "execution_count": null,
   "id": "6f29437f",
   "metadata": {},
   "outputs": [],
   "source": []
  },
  {
   "cell_type": "code",
   "execution_count": null,
   "id": "2cb4d058",
   "metadata": {},
   "outputs": [],
   "source": []
  }
 ],
 "metadata": {
  "kernelspec": {
   "display_name": "Python 3 (ipykernel)",
   "language": "python",
   "name": "python3"
  },
  "language_info": {
   "codemirror_mode": {
    "name": "ipython",
    "version": 3
   },
   "file_extension": ".py",
   "mimetype": "text/x-python",
   "name": "python",
   "nbconvert_exporter": "python",
   "pygments_lexer": "ipython3",
   "version": "3.8.10"
  }
 },
 "nbformat": 4,
 "nbformat_minor": 5
}
