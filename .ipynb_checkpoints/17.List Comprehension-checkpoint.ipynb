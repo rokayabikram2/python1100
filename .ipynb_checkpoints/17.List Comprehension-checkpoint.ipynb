{
 "cells": [
  {
   "cell_type": "code",
   "execution_count": 1,
   "id": "2787d2c8",
   "metadata": {},
   "outputs": [],
   "source": [
    "nums=[2,4,6,8]"
   ]
  },
  {
   "cell_type": "code",
   "execution_count": 4,
   "id": "fe86a594",
   "metadata": {},
   "outputs": [],
   "source": [
    "sq=[]\n",
    "for item in nums:\n",
    "    sq.append(item**2)\n"
   ]
  },
  {
   "cell_type": "code",
   "execution_count": 5,
   "id": "dccde5a8",
   "metadata": {},
   "outputs": [
    {
     "data": {
      "text/plain": [
       "[4, 16, 36, 64]"
      ]
     },
     "execution_count": 5,
     "metadata": {},
     "output_type": "execute_result"
    }
   ],
   "source": [
    "sq"
   ]
  },
  {
   "cell_type": "code",
   "execution_count": null,
   "id": "2e27b88f",
   "metadata": {},
   "outputs": [],
   "source": [
    "nums=[2,4,6,8]"
   ]
  },
  {
   "cell_type": "code",
   "execution_count": 6,
   "id": "67857bc5",
   "metadata": {},
   "outputs": [
    {
     "data": {
      "text/plain": [
       "[4, 16, 36, 64]"
      ]
     },
     "execution_count": 6,
     "metadata": {},
     "output_type": "execute_result"
    }
   ],
   "source": [
    "[item**2 for item in nums]"
   ]
  },
  {
   "cell_type": "code",
   "execution_count": 7,
   "id": "b1f00078",
   "metadata": {},
   "outputs": [],
   "source": [
    "#[expression for item in iterable]\n",
    "#[expression for item in iterable if true]\n",
    "#[expression if true else expression for item in iterable ]\n",
    "\n"
   ]
  },
  {
   "cell_type": "code",
   "execution_count": null,
   "id": "65032081",
   "metadata": {},
   "outputs": [],
   "source": []
  },
  {
   "cell_type": "code",
   "execution_count": 8,
   "id": "745e6f77",
   "metadata": {},
   "outputs": [],
   "source": [
    "words=['HI','PLEASE','REPLY']"
   ]
  },
  {
   "cell_type": "code",
   "execution_count": 13,
   "id": "db6d4c5f",
   "metadata": {},
   "outputs": [
    {
     "data": {
      "text/plain": [
       "['hi', 'please', 'reply']"
      ]
     },
     "execution_count": 13,
     "metadata": {},
     "output_type": "execute_result"
    }
   ],
   "source": [
    "[item.lower() for item in words]"
   ]
  },
  {
   "cell_type": "code",
   "execution_count": null,
   "id": "5e3aae16",
   "metadata": {},
   "outputs": [],
   "source": []
  },
  {
   "cell_type": "code",
   "execution_count": null,
   "id": "b383e43e",
   "metadata": {},
   "outputs": [],
   "source": []
  },
  {
   "cell_type": "markdown",
   "id": "faa4a61c",
   "metadata": {},
   "source": [
    "# Accept only number lower than 5 from range -5 to 10"
   ]
  },
  {
   "cell_type": "code",
   "execution_count": 14,
   "id": "8d788a98",
   "metadata": {},
   "outputs": [
    {
     "data": {
      "text/plain": [
       "[-5, -4, -3, -2, -1, 0, 1, 2, 3, 4, 5]"
      ]
     },
     "execution_count": 14,
     "metadata": {},
     "output_type": "execute_result"
    }
   ],
   "source": [
    "[index for index in range(-5,10,1) if index <=5]"
   ]
  },
  {
   "cell_type": "code",
   "execution_count": null,
   "id": "668000a2",
   "metadata": {},
   "outputs": [],
   "source": []
  },
  {
   "cell_type": "markdown",
   "id": "94088d22",
   "metadata": {},
   "source": [
    "# If else Comprehension"
   ]
  },
  {
   "cell_type": "code",
   "execution_count": 17,
   "id": "8145d326",
   "metadata": {},
   "outputs": [
    {
     "data": {
      "text/plain": [
       "[-5, -4, -3, -2, -1, 0, 1, 2, 3, 4, 5, 6, 7, 8, 9]"
      ]
     },
     "execution_count": 17,
     "metadata": {},
     "output_type": "execute_result"
    }
   ],
   "source": [
    "[item for item in range(-5,10)]"
   ]
  },
  {
   "cell_type": "code",
   "execution_count": 16,
   "id": "2828f0b2",
   "metadata": {},
   "outputs": [
    {
     "data": {
      "text/plain": [
       "[0, 0, 0, 0, 0, 0, 1, 2, 3, 4, 5, 6, 7, 8, 9]"
      ]
     },
     "execution_count": 16,
     "metadata": {},
     "output_type": "execute_result"
    }
   ],
   "source": [
    "[item if item >0 else 0 for item in range(-5,10)]"
   ]
  },
  {
   "cell_type": "code",
   "execution_count": null,
   "id": "a2a77d61",
   "metadata": {},
   "outputs": [],
   "source": []
  },
  {
   "cell_type": "code",
   "execution_count": null,
   "id": "8f762571",
   "metadata": {},
   "outputs": [],
   "source": []
  },
  {
   "cell_type": "markdown",
   "id": "a22adf98",
   "metadata": {},
   "source": [
    "# Only accept the item that are not apple from fruits list"
   ]
  },
  {
   "cell_type": "code",
   "execution_count": 18,
   "id": "b4bfafa0",
   "metadata": {},
   "outputs": [],
   "source": [
    "fruits=['apple','banana','apple','mango']"
   ]
  },
  {
   "cell_type": "code",
   "execution_count": 20,
   "id": "993fae0a",
   "metadata": {},
   "outputs": [
    {
     "data": {
      "text/plain": [
       "['banana', 'mango']"
      ]
     },
     "execution_count": 20,
     "metadata": {},
     "output_type": "execute_result"
    }
   ],
   "source": [
    "[item for item in fruits if item!=\"apple\"]"
   ]
  },
  {
   "cell_type": "code",
   "execution_count": 23,
   "id": "7d2c491a",
   "metadata": {},
   "outputs": [],
   "source": [
    "# WAP that replaces everything with orange and keep banana as banana"
   ]
  },
  {
   "cell_type": "code",
   "execution_count": 22,
   "id": "2006803c",
   "metadata": {},
   "outputs": [
    {
     "name": "stdout",
     "output_type": "stream",
     "text": [
      "['orange', 'banana', 'orange', 'orange', 'orange']\n"
     ]
    }
   ],
   "source": [
    "fruits=['apple','banana','cherry','kiwi','mango']\n",
    "newlist=[x if x=='banana' else 'orange' for x in fruits]\n",
    "print(newlist)"
   ]
  },
  {
   "cell_type": "code",
   "execution_count": null,
   "id": "6be8fe1d",
   "metadata": {},
   "outputs": [],
   "source": []
  }
 ],
 "metadata": {
  "kernelspec": {
   "display_name": "Python 3 (ipykernel)",
   "language": "python",
   "name": "python3"
  },
  "language_info": {
   "codemirror_mode": {
    "name": "ipython",
    "version": 3
   },
   "file_extension": ".py",
   "mimetype": "text/x-python",
   "name": "python",
   "nbconvert_exporter": "python",
   "pygments_lexer": "ipython3",
   "version": "3.8.10"
  }
 },
 "nbformat": 4,
 "nbformat_minor": 5
}
