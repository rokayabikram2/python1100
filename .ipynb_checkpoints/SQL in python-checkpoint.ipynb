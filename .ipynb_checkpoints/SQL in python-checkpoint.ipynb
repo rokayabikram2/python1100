{
 "cells": [
  {
   "cell_type": "code",
   "execution_count": 1,
   "id": "2f690ea4",
   "metadata": {},
   "outputs": [],
   "source": [
    "import sqlite3"
   ]
  },
  {
   "cell_type": "code",
   "execution_count": null,
   "id": "3b19dca1",
   "metadata": {},
   "outputs": [],
   "source": []
  },
  {
   "cell_type": "markdown",
   "id": "ab01d988",
   "metadata": {},
   "source": [
    "# Creating and connecting to database"
   ]
  },
  {
   "cell_type": "code",
   "execution_count": 2,
   "id": "7714cf39",
   "metadata": {},
   "outputs": [],
   "source": [
    "con=sqlite3.connect ('std.db')"
   ]
  },
  {
   "cell_type": "markdown",
   "id": "b88fd141",
   "metadata": {},
   "source": []
  },
  {
   "cell_type": "code",
   "execution_count": null,
   "id": "b99b3df3",
   "metadata": {},
   "outputs": [],
   "source": []
  },
  {
   "cell_type": "code",
   "execution_count": null,
   "id": "0bfae7de",
   "metadata": {},
   "outputs": [],
   "source": []
  },
  {
   "cell_type": "markdown",
   "id": "d27c5298",
   "metadata": {},
   "source": [
    "# creating table in sql"
   ]
  },
  {
   "cell_type": "markdown",
   "id": "415f68f8",
   "metadata": {},
   "source": [
    "```sql\n",
    "create table table_name(\n",
    "roll_no int not null,\n",
    "name varchar(50),\n",
    "gender varchar(10)\n",
    ")\n",
    "\n",
    "```"
   ]
  },
  {
   "cell_type": "code",
   "execution_count": 3,
   "id": "3f88dc91",
   "metadata": {},
   "outputs": [],
   "source": [
    "create_table_query=\"\"\"\n",
    "create table student(\n",
    "roll_no int not null,\n",
    "name varchar(50),\n",
    "gender varchar(8))\n",
    "\n",
    "\"\"\""
   ]
  },
  {
   "cell_type": "code",
   "execution_count": 5,
   "id": "744f9ec4",
   "metadata": {},
   "outputs": [],
   "source": [
    "cur=con.cursor()    # cursor executes sql query"
   ]
  },
  {
   "cell_type": "code",
   "execution_count": 7,
   "id": "fc458a03",
   "metadata": {},
   "outputs": [
    {
     "data": {
      "text/plain": [
       "<sqlite3.Cursor at 0x280ac5622d0>"
      ]
     },
     "execution_count": 7,
     "metadata": {},
     "output_type": "execute_result"
    }
   ],
   "source": [
    "cur.execute(create_table_query)"
   ]
  },
  {
   "cell_type": "markdown",
   "id": "d7c7d846",
   "metadata": {},
   "source": [
    "# Insert data into table/insert statement in SQl\n",
    "\n",
    "```sql\n",
    "Insert into table_name(col1,col2,....coln)\n",
    "values\n",
    "(val1,val2....valn)\n",
    "```"
   ]
  },
  {
   "cell_type": "code",
   "execution_count": 9,
   "id": "6767e549",
   "metadata": {},
   "outputs": [],
   "source": [
    "insert_query=\"\"\"\n",
    "insert into student(roll_no,name,gender)\n",
    "values\n",
    "(1,'Kshitiz regmi','M'),\n",
    "(2,'Bikram Rokaya','M'),\n",
    "(3,'Sudip Sapkota','M')\n",
    "\"\"\""
   ]
  },
  {
   "cell_type": "code",
   "execution_count": 10,
   "id": "d30c4554",
   "metadata": {},
   "outputs": [
    {
     "data": {
      "text/plain": [
       "<sqlite3.Cursor at 0x280ac5622d0>"
      ]
     },
     "execution_count": 10,
     "metadata": {},
     "output_type": "execute_result"
    }
   ],
   "source": [
    "cur.execute(insert_query)"
   ]
  },
  {
   "cell_type": "markdown",
   "id": "fdadf34f",
   "metadata": {},
   "source": [
    "# Read data in Sql/select Statement\n",
    "```sql\n",
    "Select *from student\n",
    "```"
   ]
  },
  {
   "cell_type": "code",
   "execution_count": 11,
   "id": "edd97052",
   "metadata": {},
   "outputs": [],
   "source": [
    "read_query=\"\"\"\n",
    "Select * from Student\"\"\""
   ]
  },
  {
   "cell_type": "code",
   "execution_count": 13,
   "id": "675517bd",
   "metadata": {},
   "outputs": [
    {
     "data": {
      "text/plain": [
       "<sqlite3.Cursor at 0x280ac5622d0>"
      ]
     },
     "execution_count": 13,
     "metadata": {},
     "output_type": "execute_result"
    }
   ],
   "source": [
    "cur.execute(read_query)"
   ]
  },
  {
   "cell_type": "code",
   "execution_count": 14,
   "id": "2f58ece8",
   "metadata": {},
   "outputs": [
    {
     "data": {
      "text/plain": [
       "[(1, 'Kshitiz regmi', 'M'),\n",
       " (2, 'Bikram Rokaya', 'M'),\n",
       " (3, 'Sudip Sapkota', 'M')]"
      ]
     },
     "execution_count": 14,
     "metadata": {},
     "output_type": "execute_result"
    }
   ],
   "source": [
    "cur.execute(read_query).fetchall()"
   ]
  },
  {
   "cell_type": "code",
   "execution_count": null,
   "id": "939c2ea4",
   "metadata": {},
   "outputs": [],
   "source": []
  },
  {
   "cell_type": "code",
   "execution_count": 15,
   "id": "098e90ed",
   "metadata": {},
   "outputs": [
    {
     "data": {
      "text/plain": [
       "[('Kshitiz regmi',), ('Bikram Rokaya',), ('Sudip Sapkota',)]"
      ]
     },
     "execution_count": 15,
     "metadata": {},
     "output_type": "execute_result"
    }
   ],
   "source": [
    "cur.execute(\"select name from student\").fetchall()"
   ]
  },
  {
   "cell_type": "code",
   "execution_count": 16,
   "id": "e6daf1a2",
   "metadata": {},
   "outputs": [
    {
     "data": {
      "text/plain": [
       "[(1,), (2,), (3,)]"
      ]
     },
     "execution_count": 16,
     "metadata": {},
     "output_type": "execute_result"
    }
   ],
   "source": [
    "cur.execute(\"select roll_no from student\").fetchall()"
   ]
  },
  {
   "cell_type": "code",
   "execution_count": 17,
   "id": "1cdc63e4",
   "metadata": {},
   "outputs": [
    {
     "data": {
      "text/plain": [
       "[('Kshitiz regmi',)]"
      ]
     },
     "execution_count": 17,
     "metadata": {},
     "output_type": "execute_result"
    }
   ],
   "source": [
    "cur.execute(\"Select name from student where roll_no=1\").fetchall()"
   ]
  },
  {
   "cell_type": "code",
   "execution_count": 22,
   "id": "5faa751f",
   "metadata": {},
   "outputs": [
    {
     "data": {
      "text/plain": [
       "[(3,)]"
      ]
     },
     "execution_count": 22,
     "metadata": {},
     "output_type": "execute_result"
    }
   ],
   "source": [
    "cur.execute(\"Select roll_no from student where name='Sudip Sapkota'\" ).fetchall()"
   ]
  },
  {
   "cell_type": "code",
   "execution_count": null,
   "id": "fa2479e0",
   "metadata": {},
   "outputs": [],
   "source": []
  },
  {
   "cell_type": "markdown",
   "id": "8da6effb",
   "metadata": {},
   "source": [
    "# update\n",
    "```sql\n",
    "update table_name\n",
    "set col = val\n",
    "where\n",
    "condition\n",
    "```"
   ]
  },
  {
   "cell_type": "code",
   "execution_count": 23,
   "id": "ac19fd76",
   "metadata": {},
   "outputs": [],
   "source": [
    "update_name=\"\"\"\n",
    "update student\n",
    "set name='Kshitiz Regmi'\n",
    "where \n",
    "roll_no=1\n",
    "\"\"\""
   ]
  },
  {
   "cell_type": "code",
   "execution_count": 24,
   "id": "b5f726dc",
   "metadata": {},
   "outputs": [
    {
     "data": {
      "text/plain": [
       "<sqlite3.Cursor at 0x280ac5622d0>"
      ]
     },
     "execution_count": 24,
     "metadata": {},
     "output_type": "execute_result"
    }
   ],
   "source": [
    "cur.execute(update_name)"
   ]
  },
  {
   "cell_type": "code",
   "execution_count": 25,
   "id": "1413c89a",
   "metadata": {},
   "outputs": [
    {
     "data": {
      "text/plain": [
       "[(1, 'Kshitiz Regmi', 'M'),\n",
       " (2, 'Bikram Rokaya', 'M'),\n",
       " (3, 'Sudip Sapkota', 'M')]"
      ]
     },
     "execution_count": 25,
     "metadata": {},
     "output_type": "execute_result"
    }
   ],
   "source": [
    "cur.execute(\"Select * from Student\").fetchall()"
   ]
  },
  {
   "cell_type": "code",
   "execution_count": null,
   "id": "b38c23da",
   "metadata": {},
   "outputs": [],
   "source": []
  },
  {
   "cell_type": "markdown",
   "id": "0006a790",
   "metadata": {},
   "source": [
    "# Delete statement in sql\n",
    "```sql\n",
    "delete from table_name\n",
    "where\n",
    "condition\n",
    "```"
   ]
  },
  {
   "cell_type": "code",
   "execution_count": 29,
   "id": "b8779d1b",
   "metadata": {},
   "outputs": [
    {
     "data": {
      "text/plain": [
       "<sqlite3.Cursor at 0x280ac5622d0>"
      ]
     },
     "execution_count": 29,
     "metadata": {},
     "output_type": "execute_result"
    }
   ],
   "source": [
    "cur.execute(\"delete from student where roll_no=1\")"
   ]
  },
  {
   "cell_type": "code",
   "execution_count": 30,
   "id": "c9b39fd0",
   "metadata": {},
   "outputs": [
    {
     "data": {
      "text/plain": [
       "[(2, 'Bikram Rokaya', 'M'), (3, 'Sudip Sapkota', 'M')]"
      ]
     },
     "execution_count": 30,
     "metadata": {},
     "output_type": "execute_result"
    }
   ],
   "source": [
    "cur.execute(\"select * from Student\").fetchall()"
   ]
  },
  {
   "cell_type": "markdown",
   "id": "3a512ef5",
   "metadata": {},
   "source": [
    "# insert"
   ]
  },
  {
   "cell_type": "code",
   "execution_count": 33,
   "id": "c742934b",
   "metadata": {},
   "outputs": [
    {
     "data": {
      "text/plain": [
       "<sqlite3.Cursor at 0x280ac5622d0>"
      ]
     },
     "execution_count": 33,
     "metadata": {},
     "output_type": "execute_result"
    }
   ],
   "source": [
    "cur.execute(\"insert into student(roll_no,name,gender) values(1,'Anisha Shrestha','F')\")"
   ]
  },
  {
   "cell_type": "code",
   "execution_count": 34,
   "id": "903307f1",
   "metadata": {},
   "outputs": [
    {
     "data": {
      "text/plain": [
       "[(2, 'Bikram Rokaya', 'M'),\n",
       " (3, 'Sudip Sapkota', 'M'),\n",
       " (1, 'Anisha Shrestha', 'F')]"
      ]
     },
     "execution_count": 34,
     "metadata": {},
     "output_type": "execute_result"
    }
   ],
   "source": [
    "cur.execute(\"select * from student\").fetchall()"
   ]
  },
  {
   "cell_type": "code",
   "execution_count": 37,
   "id": "f38ea1a7",
   "metadata": {},
   "outputs": [
    {
     "data": {
      "text/plain": [
       "[(1, 'Anisha Shrestha', 'F'),\n",
       " (2, 'Bikram Rokaya', 'M'),\n",
       " (3, 'Sudip Sapkota', 'M')]"
      ]
     },
     "execution_count": 37,
     "metadata": {},
     "output_type": "execute_result"
    }
   ],
   "source": [
    "cur.execute(\"Select * from student order by name \").fetchall()"
   ]
  },
  {
   "cell_type": "code",
   "execution_count": null,
   "id": "5d967dde",
   "metadata": {},
   "outputs": [],
   "source": []
  }
 ],
 "metadata": {
  "kernelspec": {
   "display_name": "Python 3 (ipykernel)",
   "language": "python",
   "name": "python3"
  },
  "language_info": {
   "codemirror_mode": {
    "name": "ipython",
    "version": 3
   },
   "file_extension": ".py",
   "mimetype": "text/x-python",
   "name": "python",
   "nbconvert_exporter": "python",
   "pygments_lexer": "ipython3",
   "version": "3.8.10"
  }
 },
 "nbformat": 4,
 "nbformat_minor": 5
}
