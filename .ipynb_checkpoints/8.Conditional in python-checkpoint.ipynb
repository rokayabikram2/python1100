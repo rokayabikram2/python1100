{
 "cells": [
  {
   "cell_type": "code",
   "execution_count": 1,
   "id": "982d6c9a",
   "metadata": {},
   "outputs": [
    {
     "name": "stdout",
     "output_type": "stream",
     "text": [
      "Enter a number :5\n"
     ]
    }
   ],
   "source": [
    "num = int(input(\"Enter a number :\")) \n"
   ]
  },
  {
   "cell_type": "code",
   "execution_count": 2,
   "id": "82f912d8",
   "metadata": {},
   "outputs": [
    {
     "data": {
      "text/plain": [
       "5"
      ]
     },
     "execution_count": 2,
     "metadata": {},
     "output_type": "execute_result"
    }
   ],
   "source": [
    "num"
   ]
  },
  {
   "cell_type": "code",
   "execution_count": 5,
   "id": "1a1c56fc",
   "metadata": {},
   "outputs": [],
   "source": [
    "rem = 4 % 2"
   ]
  },
  {
   "cell_type": "code",
   "execution_count": 6,
   "id": "31506d75",
   "metadata": {},
   "outputs": [
    {
     "data": {
      "text/plain": [
       "0"
      ]
     },
     "execution_count": 6,
     "metadata": {},
     "output_type": "execute_result"
    }
   ],
   "source": [
    "rem"
   ]
  },
  {
   "cell_type": "code",
   "execution_count": 7,
   "id": "afd6ce0a",
   "metadata": {},
   "outputs": [
    {
     "data": {
      "text/plain": [
       "True"
      ]
     },
     "execution_count": 7,
     "metadata": {},
     "output_type": "execute_result"
    }
   ],
   "source": [
    "rem == 0"
   ]
  },
  {
   "cell_type": "code",
   "execution_count": 9,
   "id": "b4420322",
   "metadata": {},
   "outputs": [
    {
     "name": "stdout",
     "output_type": "stream",
     "text": [
      "number is even\n"
     ]
    }
   ],
   "source": [
    "if rem ==0 :\n",
    "    print(\"number is even\")\n",
    "else :\n",
    "    print(\"number is odd\")"
   ]
  },
  {
   "cell_type": "code",
   "execution_count": 13,
   "id": "10b77069",
   "metadata": {},
   "outputs": [
    {
     "name": "stdout",
     "output_type": "stream",
     "text": [
      "Enter a number :89\n",
      "It is odd\n"
     ]
    }
   ],
   "source": [
    "num = int(input(\"Enter a number :\")) \n",
    "rem = num % 2\n",
    "if rem == 0:\n",
    "    print(\"It is even\")\n",
    "else:\n",
    "    print(\"It is odd\")"
   ]
  },
  {
   "cell_type": "code",
   "execution_count": 15,
   "id": "05ce97e3",
   "metadata": {},
   "outputs": [
    {
     "name": "stdout",
     "output_type": "stream",
     "text": [
      "Enter a number :67\n",
      "It is odd\n"
     ]
    }
   ],
   "source": [
    "num = int(input(\"Enter a number :\")) \n",
    "\n",
    "if num % 2 == 0:\n",
    "    print(\"It is even\")\n",
    "else:\n",
    "    print(\"It is odd\")"
   ]
  },
  {
   "cell_type": "markdown",
   "id": "b9cd7eb3",
   "metadata": {},
   "source": [
    "# Comparision Operator"
   ]
  },
  {
   "cell_type": "code",
   "execution_count": 16,
   "id": "30665878",
   "metadata": {},
   "outputs": [
    {
     "name": "stdout",
     "output_type": "stream",
     "text": [
      "True\n"
     ]
    }
   ],
   "source": [
    "if 10==10:\n",
    "    print(\"True\")"
   ]
  },
  {
   "cell_type": "code",
   "execution_count": 17,
   "id": "9a37f1fb",
   "metadata": {},
   "outputs": [
    {
     "data": {
      "text/plain": [
       "True"
      ]
     },
     "execution_count": 17,
     "metadata": {},
     "output_type": "execute_result"
    }
   ],
   "source": [
    "2 == 2 # equals to"
   ]
  },
  {
   "cell_type": "code",
   "execution_count": 18,
   "id": "682ed576",
   "metadata": {},
   "outputs": [
    {
     "data": {
      "text/plain": [
       "False"
      ]
     },
     "execution_count": 18,
     "metadata": {},
     "output_type": "execute_result"
    }
   ],
   "source": [
    "2 > 2 # less than"
   ]
  },
  {
   "cell_type": "code",
   "execution_count": 19,
   "id": "28e39d39",
   "metadata": {},
   "outputs": [
    {
     "data": {
      "text/plain": [
       "True"
      ]
     },
     "execution_count": 19,
     "metadata": {},
     "output_type": "execute_result"
    }
   ],
   "source": [
    "3 > 1 #greater than"
   ]
  },
  {
   "cell_type": "code",
   "execution_count": 20,
   "id": "15587818",
   "metadata": {},
   "outputs": [
    {
     "data": {
      "text/plain": [
       "True"
      ]
     },
     "execution_count": 20,
     "metadata": {},
     "output_type": "execute_result"
    }
   ],
   "source": [
    "3<=3 # less than or equals to"
   ]
  },
  {
   "cell_type": "code",
   "execution_count": 22,
   "id": "63547b2b",
   "metadata": {},
   "outputs": [
    {
     "data": {
      "text/plain": [
       "True"
      ]
     },
     "execution_count": 22,
     "metadata": {},
     "output_type": "execute_result"
    }
   ],
   "source": [
    "5>=3 # greater than or equals to"
   ]
  },
  {
   "cell_type": "code",
   "execution_count": 23,
   "id": "acb6d1f0",
   "metadata": {},
   "outputs": [
    {
     "data": {
      "text/plain": [
       "True"
      ]
     },
     "execution_count": 23,
     "metadata": {},
     "output_type": "execute_result"
    }
   ],
   "source": [
    "9 !=8 # not equals to "
   ]
  },
  {
   "cell_type": "code",
   "execution_count": 25,
   "id": "f43b5db0",
   "metadata": {},
   "outputs": [
    {
     "data": {
      "text/plain": [
       "bool"
      ]
     },
     "execution_count": 25,
     "metadata": {},
     "output_type": "execute_result"
    }
   ],
   "source": [
    "type(9 !=8)  # boolean Type"
   ]
  },
  {
   "cell_type": "code",
   "execution_count": null,
   "id": "8c19722d",
   "metadata": {},
   "outputs": [],
   "source": []
  },
  {
   "cell_type": "code",
   "execution_count": null,
   "id": "8f84bce3",
   "metadata": {},
   "outputs": [],
   "source": []
  },
  {
   "cell_type": "markdown",
   "id": "d81157f1",
   "metadata": {},
   "source": [
    "# Nesting and channing of conditional"
   ]
  },
  {
   "cell_type": "markdown",
   "id": "13e946dc",
   "metadata": {},
   "source": [
    "# Nesting"
   ]
  },
  {
   "cell_type": "markdown",
   "id": "86410a09",
   "metadata": {},
   "source": [
    " WAP to check whether  a user given input is positive or zero"
   ]
  },
  {
   "cell_type": "code",
   "execution_count": 27,
   "id": "8f7eb646",
   "metadata": {},
   "outputs": [
    {
     "name": "stdout",
     "output_type": "stream",
     "text": [
      "Enter a number :0\n",
      "Zero\n",
      "positive\n"
     ]
    }
   ],
   "source": [
    "num =int(input(\"Enter a number :\"))\n",
    "\n",
    "if num < 0:\n",
    "    print(\"negative\")\n",
    "\n",
    "if num == 0:\n",
    "    print(\"Zero\")\n",
    "    \n",
    "if num >= 0:\n",
    "    print(\"positive\")"
   ]
  },
  {
   "cell_type": "code",
   "execution_count": 30,
   "id": "0a17fb5b",
   "metadata": {},
   "outputs": [
    {
     "name": "stdout",
     "output_type": "stream",
     "text": [
      "Enter a number :7\n",
      "Positive\n"
     ]
    }
   ],
   "source": [
    "num =int(input(\"Enter a number :\")) #nesting of conditional\n",
    "if num < 0:\n",
    "    print(\"negative\")\n",
    "    \n",
    "else:\n",
    "    if num == 0:\n",
    "        print(\"Zero\")\n",
    "    else:\n",
    "        print(\"Positive\")"
   ]
  },
  {
   "cell_type": "markdown",
   "id": "bf16f553",
   "metadata": {},
   "source": [
    "# Chain condition : if , elif ,else"
   ]
  },
  {
   "cell_type": "code",
   "execution_count": 32,
   "id": "824e315d",
   "metadata": {},
   "outputs": [
    {
     "name": "stdout",
     "output_type": "stream",
     "text": [
      "Enter a number :9\n",
      "positive\n"
     ]
    }
   ],
   "source": [
    "num = int(input(\"Enter a number :\"))\n",
    "\n",
    "if num < 0:\n",
    "    print(\"negative\")\n",
    "    \n",
    "elif num ==0:\n",
    "    print(\"Zero\")\n",
    "    \n",
    "else:\n",
    "    print(\"positive\")"
   ]
  },
  {
   "cell_type": "code",
   "execution_count": 34,
   "id": "afa88a5c",
   "metadata": {},
   "outputs": [
    {
     "name": "stdout",
     "output_type": "stream",
     "text": [
      "first Match\n"
     ]
    }
   ],
   "source": [
    "num = 5\n",
    "if num==0:\n",
    "    print(\"zero\")\n",
    "    \n",
    "elif num == 5:\n",
    "    print(\"first Match\")\n",
    "    \n",
    "elif num >= 5:\n",
    "    print(\"This match is not executed\")\n",
    "   "
   ]
  },
  {
   "cell_type": "code",
   "execution_count": null,
   "id": "07bd31db",
   "metadata": {},
   "outputs": [],
   "source": []
  }
 ],
 "metadata": {
  "kernelspec": {
   "display_name": "Python 3 (ipykernel)",
   "language": "python",
   "name": "python3"
  },
  "language_info": {
   "codemirror_mode": {
    "name": "ipython",
    "version": 3
   },
   "file_extension": ".py",
   "mimetype": "text/x-python",
   "name": "python",
   "nbconvert_exporter": "python",
   "pygments_lexer": "ipython3",
   "version": "3.8.10"
  }
 },
 "nbformat": 4,
 "nbformat_minor": 5
}
