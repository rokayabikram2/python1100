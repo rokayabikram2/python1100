{
 "cells": [
  {
   "cell_type": "code",
   "execution_count": 4,
   "id": "fe9dcb6b",
   "metadata": {},
   "outputs": [
    {
     "name": "stdout",
     "output_type": "stream",
     "text": [
      "7.571428571428571\n"
     ]
    }
   ],
   "source": [
    "num=[9,3,2,1,0,5,33]\n",
    "\n",
    "total =0\n",
    "\n",
    "for index in range(len(num)):\n",
    "   \n",
    "    total=total +num[index]\n",
    "    \n",
    "mean=total/len(num)\n",
    "print(mean)"
   ]
  },
  {
   "cell_type": "code",
   "execution_count": 10,
   "id": "0306df3b",
   "metadata": {},
   "outputs": [
    {
     "name": "stdout",
     "output_type": "stream",
     "text": [
      "7.571428571428571\n"
     ]
    }
   ],
   "source": [
    "num=[9,3,2,1,0,5,33]\n",
    "\n",
    "total = 0\n",
    "\n",
    "for item in num:\n",
    "    total = total +item\n",
    "mean= total/len(num)\n",
    "print(mean)"
   ]
  },
  {
   "cell_type": "code",
   "execution_count": null,
   "id": "810c04af",
   "metadata": {},
   "outputs": [],
   "source": []
  },
  {
   "cell_type": "code",
   "execution_count": null,
   "id": "9dffabe6",
   "metadata": {},
   "outputs": [],
   "source": []
  },
  {
   "cell_type": "markdown",
   "id": "f46345ba",
   "metadata": {},
   "source": [
    "# While loop\n",
    "\n",
    "```python\n",
    "while True:\n",
    "    # while block\n",
    "```\n"
   ]
  },
  {
   "cell_type": "code",
   "execution_count": 2,
   "id": "e654c02c",
   "metadata": {},
   "outputs": [
    {
     "name": "stdout",
     "output_type": "stream",
     "text": [
      "7.571428571428571\n"
     ]
    }
   ],
   "source": [
    "num=[9,3,2,1,0,5,33]\n",
    "\n",
    "total = 0\n",
    "index = 0\n",
    "\n",
    "while index < len(num):\n",
    "    items=num[index]\n",
    "    total = total + items \n",
    "    index = index + 1\n",
    "        \n",
    "mean = total/len(num)\n",
    "print(mean)    \n",
    "\n",
    "\n",
    "    "
   ]
  },
  {
   "cell_type": "code",
   "execution_count": null,
   "id": "bad3aba6",
   "metadata": {},
   "outputs": [],
   "source": [
    "\n"
   ]
  },
  {
   "cell_type": "code",
   "execution_count": null,
   "id": "07172619",
   "metadata": {},
   "outputs": [],
   "source": []
  },
  {
   "cell_type": "code",
   "execution_count": null,
   "id": "956d9664",
   "metadata": {},
   "outputs": [],
   "source": []
  },
  {
   "cell_type": "markdown",
   "id": "4592db6e",
   "metadata": {},
   "source": [
    "# nested for loop\n"
   ]
  },
  {
   "cell_type": "code",
   "execution_count": 22,
   "id": "01312dc3",
   "metadata": {},
   "outputs": [
    {
     "name": "stdout",
     "output_type": "stream",
     "text": [
      "..........\n",
      "i =0\n",
      ".........\n",
      " j = 0\n",
      " j = 1\n",
      " j = 2\n",
      "..........\n",
      "i =1\n",
      ".........\n",
      " j = 0\n",
      " j = 1\n",
      " j = 2\n",
      "..........\n",
      "i =2\n",
      ".........\n",
      " j = 0\n",
      " j = 1\n",
      " j = 2\n",
      "..........\n",
      "i =3\n",
      ".........\n",
      " j = 0\n",
      " j = 1\n",
      " j = 2\n",
      "..........\n",
      "i =4\n",
      ".........\n",
      " j = 0\n",
      " j = 1\n",
      " j = 2\n"
     ]
    }
   ],
   "source": [
    "for i in range(5):\n",
    "    print(\"..........\")\n",
    "    print(f\"i ={i}\")\n",
    "    print(\".........\")\n",
    "    \n",
    "    for j in range(3):\n",
    "        print(f\" j = {j}\")\n",
    "    "
   ]
  },
  {
   "cell_type": "code",
   "execution_count": 23,
   "id": "7934f253",
   "metadata": {},
   "outputs": [],
   "source": [
    "nums =[[2,3,6],[8,5,7,7],[2,4]]\n"
   ]
  },
  {
   "cell_type": "code",
   "execution_count": 24,
   "id": "43b068e0",
   "metadata": {},
   "outputs": [],
   "source": [
    "all_mean=list()\n",
    "\n",
    "for item in nums:\n",
    "    total = 0\n",
    "    for dp in item:\n",
    "        total = total + dp\n",
    "        \n",
    "    mean = total /len(item)\n",
    "    all_mean.append(mean)"
   ]
  },
  {
   "cell_type": "code",
   "execution_count": 25,
   "id": "c20d85bb",
   "metadata": {},
   "outputs": [
    {
     "data": {
      "text/plain": [
       "[3.6666666666666665, 6.75, 3.0]"
      ]
     },
     "execution_count": 25,
     "metadata": {},
     "output_type": "execute_result"
    }
   ],
   "source": [
    "all_mean"
   ]
  },
  {
   "cell_type": "code",
   "execution_count": null,
   "id": "0c12dc28",
   "metadata": {},
   "outputs": [],
   "source": []
  },
  {
   "cell_type": "code",
   "execution_count": null,
   "id": "1c23242c",
   "metadata": {},
   "outputs": [],
   "source": []
  },
  {
   "cell_type": "markdown",
   "id": "767cfbb6",
   "metadata": {},
   "source": [
    "# iteration and generators[padne]\n",
    "# Dataclass,decorators"
   ]
  },
  {
   "cell_type": "code",
   "execution_count": null,
   "id": "6538aae5",
   "metadata": {},
   "outputs": [],
   "source": []
  },
  {
   "cell_type": "code",
   "execution_count": null,
   "id": "a83e9507",
   "metadata": {},
   "outputs": [],
   "source": []
  },
  {
   "cell_type": "markdown",
   "id": "b65e2947",
   "metadata": {},
   "source": [
    "# anonymous function/lambda function"
   ]
  },
  {
   "cell_type": "code",
   "execution_count": 29,
   "id": "8eaa559d",
   "metadata": {},
   "outputs": [],
   "source": [
    "def sq(x):\n",
    "    return x** 2"
   ]
  },
  {
   "cell_type": "code",
   "execution_count": 30,
   "id": "361eb943",
   "metadata": {},
   "outputs": [
    {
     "data": {
      "text/plain": [
       "64"
      ]
     },
     "execution_count": 30,
     "metadata": {},
     "output_type": "execute_result"
    }
   ],
   "source": [
    "sq(8)"
   ]
  },
  {
   "cell_type": "code",
   "execution_count": null,
   "id": "67050059",
   "metadata": {},
   "outputs": [],
   "source": []
  },
  {
   "cell_type": "code",
   "execution_count": 31,
   "id": "d6ce158b",
   "metadata": {},
   "outputs": [
    {
     "data": {
      "text/plain": [
       "<function __main__.<lambda>(x)>"
      ]
     },
     "execution_count": 31,
     "metadata": {},
     "output_type": "execute_result"
    }
   ],
   "source": [
    "lambda x:x ** 3"
   ]
  },
  {
   "cell_type": "code",
   "execution_count": 35,
   "id": "6cbe5470",
   "metadata": {},
   "outputs": [],
   "source": [
    "cube= lambda x: x ** 3"
   ]
  },
  {
   "cell_type": "code",
   "execution_count": 36,
   "id": "d4a1874c",
   "metadata": {},
   "outputs": [
    {
     "data": {
      "text/plain": [
       "8"
      ]
     },
     "execution_count": 36,
     "metadata": {},
     "output_type": "execute_result"
    }
   ],
   "source": [
    "cube(2)"
   ]
  },
  {
   "cell_type": "code",
   "execution_count": 37,
   "id": "51ef3765",
   "metadata": {},
   "outputs": [
    {
     "data": {
      "text/plain": [
       "125"
      ]
     },
     "execution_count": 37,
     "metadata": {},
     "output_type": "execute_result"
    }
   ],
   "source": [
    "cube(5)"
   ]
  },
  {
   "cell_type": "code",
   "execution_count": null,
   "id": "2b47764e",
   "metadata": {},
   "outputs": [],
   "source": []
  },
  {
   "cell_type": "markdown",
   "id": "b9149cd6",
   "metadata": {},
   "source": [
    "# filter() and map() using lambda function"
   ]
  },
  {
   "cell_type": "code",
   "execution_count": 38,
   "id": "1edf7fa7",
   "metadata": {},
   "outputs": [
    {
     "data": {
      "text/plain": [
       "<filter at 0x1e90cc4a4c0>"
      ]
     },
     "execution_count": 38,
     "metadata": {},
     "output_type": "execute_result"
    }
   ],
   "source": [
    "filter (lambda x : x % 2 == 0,[1,2,3,4,7,99,66])"
   ]
  },
  {
   "cell_type": "code",
   "execution_count": 39,
   "id": "b7a09298",
   "metadata": {},
   "outputs": [
    {
     "data": {
      "text/plain": [
       "[2, 4, 66]"
      ]
     },
     "execution_count": 39,
     "metadata": {},
     "output_type": "execute_result"
    }
   ],
   "source": [
    "list(filter (lambda x : x % 2 == 0,[1,2,3,4,7,99,66]))"
   ]
  },
  {
   "cell_type": "code",
   "execution_count": 41,
   "id": "34887f39",
   "metadata": {},
   "outputs": [
    {
     "data": {
      "text/plain": [
       "[1, 3, 7, 99]"
      ]
     },
     "execution_count": 41,
     "metadata": {},
     "output_type": "execute_result"
    }
   ],
   "source": [
    "list(filter(lambda x: x % 2 !=0,[1,2,3,4,7,99,66]))"
   ]
  },
  {
   "cell_type": "code",
   "execution_count": null,
   "id": "8d0367ac",
   "metadata": {},
   "outputs": [],
   "source": []
  },
  {
   "cell_type": "markdown",
   "id": "32226ae0",
   "metadata": {},
   "source": [
    "# map()"
   ]
  },
  {
   "cell_type": "code",
   "execution_count": 42,
   "id": "6d73f591",
   "metadata": {},
   "outputs": [],
   "source": [
    "sq = lambda x : x ** 2"
   ]
  },
  {
   "cell_type": "code",
   "execution_count": 43,
   "id": "2492d846",
   "metadata": {},
   "outputs": [
    {
     "data": {
      "text/plain": [
       "<map at 0x1e90cc57f10>"
      ]
     },
     "execution_count": 43,
     "metadata": {},
     "output_type": "execute_result"
    }
   ],
   "source": [
    "map(sq,[3,4,5,7])"
   ]
  },
  {
   "cell_type": "code",
   "execution_count": 44,
   "id": "ef9a6dbc",
   "metadata": {},
   "outputs": [
    {
     "data": {
      "text/plain": [
       "[9, 16, 25, 49]"
      ]
     },
     "execution_count": 44,
     "metadata": {},
     "output_type": "execute_result"
    }
   ],
   "source": [
    "list(map(sq,[3,4,5,7]))"
   ]
  },
  {
   "cell_type": "code",
   "execution_count": null,
   "id": "3267e7e6",
   "metadata": {},
   "outputs": [],
   "source": []
  },
  {
   "cell_type": "code",
   "execution_count": 46,
   "id": "16c4a009",
   "metadata": {},
   "outputs": [],
   "source": [
    "bike=[['hero','honda','duke','beneli','pulsar','r15']]"
   ]
  },
  {
   "cell_type": "code",
   "execution_count": 49,
   "id": "c99ad258",
   "metadata": {},
   "outputs": [
    {
     "data": {
      "text/plain": [
       "[['honda', 'duke', 'pulsar']]"
      ]
     },
     "execution_count": 49,
     "metadata": {},
     "output_type": "execute_result"
    }
   ],
   "source": [
    "list(map(lambda x: x[1:3] +[x[4]],bike))"
   ]
  },
  {
   "cell_type": "code",
   "execution_count": 50,
   "id": "656adbb7",
   "metadata": {},
   "outputs": [],
   "source": [
    "nums =[[2,3,1],[8,5,7,7],[2,4]]\n",
    "\n"
   ]
  },
  {
   "cell_type": "code",
   "execution_count": 52,
   "id": "7a947b07",
   "metadata": {},
   "outputs": [],
   "source": [
    "mean=lambda x : sum(x)/len(nums)"
   ]
  },
  {
   "cell_type": "code",
   "execution_count": 53,
   "id": "10852554",
   "metadata": {},
   "outputs": [
    {
     "data": {
      "text/plain": [
       "[2.0, 9.0, 2.0]"
      ]
     },
     "execution_count": 53,
     "metadata": {},
     "output_type": "execute_result"
    }
   ],
   "source": [
    "list(map(mean,nums))"
   ]
  },
  {
   "cell_type": "code",
   "execution_count": 61,
   "id": "d89e0c0b",
   "metadata": {},
   "outputs": [
    {
     "name": "stdout",
     "output_type": "stream",
     "text": [
      "CPU times: total: 0 ns\n",
      "Wall time: 1 ms\n"
     ]
    }
   ],
   "source": [
    "%%time\n",
    "dp = lambda x : x\n",
    "for items in range(1000):\n",
    "    dp(items)"
   ]
  },
  {
   "cell_type": "code",
   "execution_count": 63,
   "id": "7b5a1798",
   "metadata": {},
   "outputs": [
    {
     "name": "stdout",
     "output_type": "stream",
     "text": [
      "CPU times: total: 0 ns\n",
      "Wall time: 0 ns\n"
     ]
    },
    {
     "data": {
      "text/plain": [
       "<map at 0x1e90caee1c0>"
      ]
     },
     "execution_count": 63,
     "metadata": {},
     "output_type": "execute_result"
    }
   ],
   "source": [
    "%time map (lambda x : x,range(10000))"
   ]
  },
  {
   "cell_type": "code",
   "execution_count": null,
   "id": "09b20305",
   "metadata": {},
   "outputs": [],
   "source": []
  },
  {
   "cell_type": "code",
   "execution_count": null,
   "id": "383456f6",
   "metadata": {},
   "outputs": [],
   "source": []
  },
  {
   "cell_type": "code",
   "execution_count": null,
   "id": "5732d7bb",
   "metadata": {},
   "outputs": [],
   "source": []
  }
 ],
 "metadata": {
  "kernelspec": {
   "display_name": "Python 3 (ipykernel)",
   "language": "python",
   "name": "python3"
  },
  "language_info": {
   "codemirror_mode": {
    "name": "ipython",
    "version": 3
   },
   "file_extension": ".py",
   "mimetype": "text/x-python",
   "name": "python",
   "nbconvert_exporter": "python",
   "pygments_lexer": "ipython3",
   "version": "3.8.10"
  }
 },
 "nbformat": 4,
 "nbformat_minor": 5
}
