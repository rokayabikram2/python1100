{
 "cells": [
  {
   "cell_type": "code",
   "execution_count": 12,
   "id": "98014772",
   "metadata": {},
   "outputs": [
    {
     "name": "stdout",
     "output_type": "stream",
     "text": [
      "enter a string :Bikram\n",
      "<class 'str'>\n"
     ]
    }
   ],
   "source": [
    "user_inp=input(\"enter a string :\")\n",
    "print(type(user_inp))\n"
   ]
  },
  {
   "cell_type": "code",
   "execution_count": null,
   "id": "294f89c8",
   "metadata": {},
   "outputs": [],
   "source": []
  },
  {
   "cell_type": "code",
   "execution_count": 2,
   "id": "b17e6bdd",
   "metadata": {},
   "outputs": [],
   "source": [
    "msg1 =\"hi\"\n",
    "msg2 ='hi'\n",
    "\n"
   ]
  },
  {
   "cell_type": "code",
   "execution_count": 3,
   "id": "a608769f",
   "metadata": {},
   "outputs": [
    {
     "data": {
      "text/plain": [
       "True"
      ]
     },
     "execution_count": 3,
     "metadata": {},
     "output_type": "execute_result"
    }
   ],
   "source": [
    "msg1 == msg2"
   ]
  },
  {
   "cell_type": "code",
   "execution_count": null,
   "id": "004f78c8",
   "metadata": {},
   "outputs": [],
   "source": []
  },
  {
   "cell_type": "code",
   "execution_count": null,
   "id": "84bd70ef",
   "metadata": {},
   "outputs": [],
   "source": []
  },
  {
   "cell_type": "code",
   "execution_count": null,
   "id": "929a06d4",
   "metadata": {},
   "outputs": [],
   "source": []
  },
  {
   "cell_type": "code",
   "execution_count": null,
   "id": "f94911b2",
   "metadata": {},
   "outputs": [],
   "source": []
  },
  {
   "cell_type": "markdown",
   "id": "a165bc27",
   "metadata": {},
   "source": [
    "#  Multi line string -- triple quotes"
   ]
  },
  {
   "cell_type": "code",
   "execution_count": 13,
   "id": "33b5127e",
   "metadata": {},
   "outputs": [],
   "source": [
    "intro =\"\"\" Hi My Name\n",
    "is Bikram Rokaya\n",
    "\"\"\""
   ]
  },
  {
   "cell_type": "code",
   "execution_count": 14,
   "id": "ed106a7b",
   "metadata": {},
   "outputs": [
    {
     "data": {
      "text/plain": [
       "str"
      ]
     },
     "execution_count": 14,
     "metadata": {},
     "output_type": "execute_result"
    }
   ],
   "source": [
    "type(intro)"
   ]
  },
  {
   "cell_type": "code",
   "execution_count": 16,
   "id": "d9c8dd6a",
   "metadata": {},
   "outputs": [
    {
     "data": {
      "text/plain": [
       "' Hi My Name\\nis Bikram Rokaya\\n'"
      ]
     },
     "execution_count": 16,
     "metadata": {},
     "output_type": "execute_result"
    }
   ],
   "source": [
    "intro  #\\n means new line\n"
   ]
  },
  {
   "cell_type": "code",
   "execution_count": null,
   "id": "7ac0ae8b",
   "metadata": {},
   "outputs": [],
   "source": []
  },
  {
   "cell_type": "code",
   "execution_count": null,
   "id": "e17e3ae2",
   "metadata": {},
   "outputs": [],
   "source": []
  },
  {
   "cell_type": "markdown",
   "id": "b2828cde",
   "metadata": {},
   "source": [
    "# Assert keyword :\n",
    "* is used to debug python code"
   ]
  },
  {
   "cell_type": "code",
   "execution_count": 17,
   "id": "6c2a1b57",
   "metadata": {},
   "outputs": [],
   "source": [
    "assert \"hi\" == 'hi'"
   ]
  },
  {
   "cell_type": "code",
   "execution_count": 18,
   "id": "7f8713a2",
   "metadata": {},
   "outputs": [
    {
     "ename": "AssertionError",
     "evalue": "",
     "output_type": "error",
     "traceback": [
      "\u001b[1;31m---------------------------------------------------------------------------\u001b[0m",
      "\u001b[1;31mAssertionError\u001b[0m                            Traceback (most recent call last)",
      "Cell \u001b[1;32mIn[18], line 1\u001b[0m\n\u001b[1;32m----> 1\u001b[0m \u001b[38;5;28;01massert\u001b[39;00m \u001b[38;5;124m\"\u001b[39m\u001b[38;5;124mhi\u001b[39m\u001b[38;5;124m\"\u001b[39m \u001b[38;5;241m==\u001b[39m \u001b[38;5;124m\"\u001b[39m\u001b[38;5;124mHi\u001b[39m\u001b[38;5;124m\"\u001b[39m\n",
      "\u001b[1;31mAssertionError\u001b[0m: "
     ]
    }
   ],
   "source": [
    "assert \"hi\" == \"Hi\""
   ]
  },
  {
   "cell_type": "code",
   "execution_count": 20,
   "id": "a2b7f24a",
   "metadata": {},
   "outputs": [
    {
     "ename": "AssertionError",
     "evalue": "",
     "output_type": "error",
     "traceback": [
      "\u001b[1;31m---------------------------------------------------------------------------\u001b[0m",
      "\u001b[1;31mAssertionError\u001b[0m                            Traceback (most recent call last)",
      "Cell \u001b[1;32mIn[20], line 1\u001b[0m\n\u001b[1;32m----> 1\u001b[0m \u001b[38;5;28;01massert\u001b[39;00m \u001b[38;5;241m5\u001b[39m \u001b[38;5;241m==\u001b[39m \u001b[38;5;241m9\u001b[39m\n",
      "\u001b[1;31mAssertionError\u001b[0m: "
     ]
    }
   ],
   "source": [
    "assert 5 == 9"
   ]
  },
  {
   "cell_type": "code",
   "execution_count": null,
   "id": "7ddd1ad3",
   "metadata": {},
   "outputs": [],
   "source": []
  },
  {
   "cell_type": "code",
   "execution_count": null,
   "id": "27fddb6d",
   "metadata": {},
   "outputs": [],
   "source": []
  },
  {
   "cell_type": "markdown",
   "id": "3501084b",
   "metadata": {},
   "source": [
    "# Indexing"
   ]
  },
  {
   "cell_type": "code",
   "execution_count": 23,
   "id": "b0d15561",
   "metadata": {},
   "outputs": [],
   "source": [
    "greet = \"Hello World\""
   ]
  },
  {
   "cell_type": "code",
   "execution_count": 24,
   "id": "c1de85db",
   "metadata": {},
   "outputs": [
    {
     "data": {
      "text/plain": [
       "'Hello World'"
      ]
     },
     "execution_count": 24,
     "metadata": {},
     "output_type": "execute_result"
    }
   ],
   "source": [
    "greet"
   ]
  },
  {
   "cell_type": "code",
   "execution_count": 25,
   "id": "02bc54ce",
   "metadata": {},
   "outputs": [
    {
     "data": {
      "text/plain": [
       "'l'"
      ]
     },
     "execution_count": 25,
     "metadata": {},
     "output_type": "execute_result"
    }
   ],
   "source": [
    "greet[2]"
   ]
  },
  {
   "cell_type": "code",
   "execution_count": 27,
   "id": "b4f392cb",
   "metadata": {},
   "outputs": [
    {
     "data": {
      "text/plain": [
       "'H'"
      ]
     },
     "execution_count": 27,
     "metadata": {},
     "output_type": "execute_result"
    }
   ],
   "source": [
    "greet[0]  # index always starts from Zero"
   ]
  },
  {
   "cell_type": "code",
   "execution_count": 28,
   "id": "2f6b2f37",
   "metadata": {},
   "outputs": [
    {
     "data": {
      "text/plain": [
       "'d'"
      ]
     },
     "execution_count": 28,
     "metadata": {},
     "output_type": "execute_result"
    }
   ],
   "source": [
    "greet[10]"
   ]
  },
  {
   "cell_type": "code",
   "execution_count": 29,
   "id": "efeeadd0",
   "metadata": {},
   "outputs": [
    {
     "ename": "IndexError",
     "evalue": "string index out of range",
     "output_type": "error",
     "traceback": [
      "\u001b[1;31m---------------------------------------------------------------------------\u001b[0m",
      "\u001b[1;31mIndexError\u001b[0m                                Traceback (most recent call last)",
      "Cell \u001b[1;32mIn[29], line 1\u001b[0m\n\u001b[1;32m----> 1\u001b[0m \u001b[43mgreet\u001b[49m\u001b[43m[\u001b[49m\u001b[38;5;241;43m11\u001b[39;49m\u001b[43m]\u001b[49m\n",
      "\u001b[1;31mIndexError\u001b[0m: string index out of range"
     ]
    }
   ],
   "source": [
    "greet[11]"
   ]
  },
  {
   "cell_type": "code",
   "execution_count": 30,
   "id": "c36fda84",
   "metadata": {},
   "outputs": [
    {
     "data": {
      "text/plain": [
       "'o'"
      ]
     },
     "execution_count": 30,
     "metadata": {},
     "output_type": "execute_result"
    }
   ],
   "source": [
    "greet[4]"
   ]
  },
  {
   "cell_type": "code",
   "execution_count": 31,
   "id": "a2dd42c0",
   "metadata": {},
   "outputs": [
    {
     "data": {
      "text/plain": [
       "' '"
      ]
     },
     "execution_count": 31,
     "metadata": {},
     "output_type": "execute_result"
    }
   ],
   "source": [
    "greet[5]"
   ]
  },
  {
   "cell_type": "code",
   "execution_count": 32,
   "id": "e1e58195",
   "metadata": {},
   "outputs": [
    {
     "ename": "TypeError",
     "evalue": "string indices must be integers",
     "output_type": "error",
     "traceback": [
      "\u001b[1;31m---------------------------------------------------------------------------\u001b[0m",
      "\u001b[1;31mTypeError\u001b[0m                                 Traceback (most recent call last)",
      "Cell \u001b[1;32mIn[32], line 1\u001b[0m\n\u001b[1;32m----> 1\u001b[0m \u001b[43mgreet\u001b[49m\u001b[43m[\u001b[49m\u001b[38;5;241;43m3.5\u001b[39;49m\u001b[43m]\u001b[49m\n",
      "\u001b[1;31mTypeError\u001b[0m: string indices must be integers"
     ]
    }
   ],
   "source": [
    "greet[3.5]"
   ]
  },
  {
   "cell_type": "code",
   "execution_count": null,
   "id": "ff109fbf",
   "metadata": {},
   "outputs": [],
   "source": []
  },
  {
   "cell_type": "code",
   "execution_count": null,
   "id": "38209fba",
   "metadata": {},
   "outputs": [],
   "source": []
  },
  {
   "cell_type": "markdown",
   "id": "163a9d15",
   "metadata": {},
   "source": [
    "# Loop"
   ]
  },
  {
   "cell_type": "code",
   "execution_count": 33,
   "id": "8dd8f35f",
   "metadata": {},
   "outputs": [
    {
     "data": {
      "text/plain": [
       "11"
      ]
     },
     "execution_count": 33,
     "metadata": {},
     "output_type": "execute_result"
    }
   ],
   "source": [
    "greet = \"Hello World\"\n",
    "len(greet)\n"
   ]
  },
  {
   "cell_type": "code",
   "execution_count": 35,
   "id": "153c91de",
   "metadata": {},
   "outputs": [
    {
     "name": "stdout",
     "output_type": "stream",
     "text": [
      "0\n",
      "1\n",
      "2\n",
      "3\n",
      "4\n"
     ]
    }
   ],
   "source": [
    "for index in range(0,5,1):\n",
    "    print(index)"
   ]
  },
  {
   "cell_type": "code",
   "execution_count": 4,
   "id": "c9514ad2",
   "metadata": {},
   "outputs": [],
   "source": [
    "greet = \"Hello World\"\n",
    "\n",
    "    \n",
    "\n"
   ]
  },
  {
   "cell_type": "code",
   "execution_count": 7,
   "id": "c8e99cc2",
   "metadata": {},
   "outputs": [
    {
     "name": "stdout",
     "output_type": "stream",
     "text": [
      "0 H\n",
      "The index is = 0 and the letter =H\n",
      "1 e\n",
      "The index is = 1 and the letter =e\n",
      "2 l\n",
      "The index is = 2 and the letter =l\n",
      "3 l\n",
      "The index is = 3 and the letter =l\n",
      "4 o\n",
      "The index is = 4 and the letter =o\n",
      "5  \n",
      "The index is = 5 and the letter = \n",
      "6 W\n",
      "The index is = 6 and the letter =W\n",
      "7 o\n",
      "The index is = 7 and the letter =o\n",
      "8 r\n",
      "The index is = 8 and the letter =r\n",
      "9 l\n",
      "The index is = 9 and the letter =l\n",
      "10 d\n",
      "The index is = 10 and the letter =d\n"
     ]
    }
   ],
   "source": [
    "for index in range(0,len(greet),1):\n",
    "    \n",
    "    letter=greet[index]\n",
    "    print(index,letter)\n",
    "    \n",
    "    print(f\"The index is = {index} and the letter ={letter}\")"
   ]
  },
  {
   "cell_type": "code",
   "execution_count": 12,
   "id": "efb0fc2f",
   "metadata": {},
   "outputs": [
    {
     "name": "stdout",
     "output_type": "stream",
     "text": [
      "0 B\n",
      "1 i\n",
      "2 k\n",
      "3 r\n",
      "4 a\n",
      "5 m\n",
      "6  \n",
      "7 R\n",
      "8 o\n",
      "9 k\n",
      "10 a\n",
      "11 y\n",
      "12 a\n",
      "Index = 12 and letter = a\n"
     ]
    }
   ],
   "source": [
    "name =\"Bikram Rokaya\"\n",
    "\n",
    "for index in range(0,len(name),1):\n",
    "    letter =name[index]\n",
    "    print(index,letter)\n",
    "    \n",
    "    \n",
    "print(f\"Index = {index} and letter = {letter}\")\n",
    "    \n"
   ]
  },
  {
   "cell_type": "code",
   "execution_count": 21,
   "id": "aaaf3e69",
   "metadata": {},
   "outputs": [
    {
     "name": "stdout",
     "output_type": "stream",
     "text": [
      "0 1\n",
      "1 2\n",
      "2 3\n",
      "3 4\n",
      "4 6\n",
      "5 6\n",
      "6 7\n",
      "7 8\n",
      "8 9\n",
      "9 9\n"
     ]
    }
   ],
   "source": [
    "num =\"1234667899\"\n",
    "for index in range (0,len(num),1):\n",
    "    letter=num[index]\n",
    "\n",
    "    print(index,letter)"
   ]
  },
  {
   "cell_type": "code",
   "execution_count": null,
   "id": "485630de",
   "metadata": {},
   "outputs": [],
   "source": []
  }
 ],
 "metadata": {
  "kernelspec": {
   "display_name": "Python 3 (ipykernel)",
   "language": "python",
   "name": "python3"
  },
  "language_info": {
   "codemirror_mode": {
    "name": "ipython",
    "version": 3
   },
   "file_extension": ".py",
   "mimetype": "text/x-python",
   "name": "python",
   "nbconvert_exporter": "python",
   "pygments_lexer": "ipython3",
   "version": "3.8.10"
  }
 },
 "nbformat": 4,
 "nbformat_minor": 5
}
