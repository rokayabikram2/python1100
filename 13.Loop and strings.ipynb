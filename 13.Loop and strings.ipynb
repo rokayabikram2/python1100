{
 "cells": [
  {
   "cell_type": "code",
   "execution_count": 2,
   "id": "8f1deb33",
   "metadata": {},
   "outputs": [
    {
     "data": {
      "text/plain": [
       "'hello world'"
      ]
     },
     "execution_count": 2,
     "metadata": {},
     "output_type": "execute_result"
    }
   ],
   "source": [
    "s='hello world'\n",
    "s"
   ]
  },
  {
   "cell_type": "code",
   "execution_count": 3,
   "id": "dd761ae3",
   "metadata": {},
   "outputs": [
    {
     "data": {
      "text/plain": [
       "'h'"
      ]
     },
     "execution_count": 3,
     "metadata": {},
     "output_type": "execute_result"
    }
   ],
   "source": [
    "s[0]"
   ]
  },
  {
   "cell_type": "code",
   "execution_count": 5,
   "id": "a15f3f45",
   "metadata": {},
   "outputs": [
    {
     "data": {
      "text/plain": [
       "11"
      ]
     },
     "execution_count": 5,
     "metadata": {},
     "output_type": "execute_result"
    }
   ],
   "source": [
    "len(s)"
   ]
  },
  {
   "cell_type": "code",
   "execution_count": 6,
   "id": "b32cfe0e",
   "metadata": {},
   "outputs": [
    {
     "data": {
      "text/plain": [
       "range(0, 11)"
      ]
     },
     "execution_count": 6,
     "metadata": {},
     "output_type": "execute_result"
    }
   ],
   "source": [
    "range(0,len(s),1)"
   ]
  },
  {
   "cell_type": "code",
   "execution_count": 17,
   "id": "560a7cab",
   "metadata": {},
   "outputs": [
    {
     "name": "stdout",
     "output_type": "stream",
     "text": [
      "0 h\n",
      "The index is 0 and The letter is h\n",
      "1 e\n",
      "The index is 1 and The letter is e\n",
      "2 l\n",
      "The index is 2 and The letter is l\n",
      "3 l\n",
      "The index is 3 and The letter is l\n",
      "4 o\n",
      "The index is 4 and The letter is o\n",
      "5  \n",
      "The index is 5 and The letter is  \n",
      "6 w\n",
      "The index is 6 and The letter is w\n",
      "7 o\n",
      "The index is 7 and The letter is o\n",
      "8 r\n",
      "The index is 8 and The letter is r\n",
      "9 l\n",
      "The index is 9 and The letter is l\n",
      "10 d\n",
      "The index is 10 and The letter is d\n"
     ]
    }
   ],
   "source": [
    "for index  in range(len(s)):\n",
    "    letter=s[index]\n",
    "    print(index,letter)\n",
    "    print(f\"The index is {index} and The letter is {letter}\")\n",
    "  "
   ]
  },
  {
   "cell_type": "code",
   "execution_count": null,
   "id": "a2d811af",
   "metadata": {},
   "outputs": [],
   "source": []
  },
  {
   "cell_type": "markdown",
   "id": "ffa03706",
   "metadata": {},
   "source": [
    "# Reverse Print using Loops and range"
   ]
  },
  {
   "cell_type": "code",
   "execution_count": 18,
   "id": "09918640",
   "metadata": {},
   "outputs": [
    {
     "name": "stdout",
     "output_type": "stream",
     "text": [
      "The index is 18 and The letter is l\n",
      "The index is 17 and The letter is a\n",
      "The index is 16 and The letter is p\n",
      "The index is 15 and The letter is e\n",
      "The index is 14 and The letter is N\n",
      "The index is 13 and The letter is  \n",
      "The index is 12 and The letter is g\n",
      "The index is 11 and The letter is n\n",
      "The index is 10 and The letter is i\n",
      "The index is 9 and The letter is n\n",
      "The index is 8 and The letter is r\n",
      "The index is 7 and The letter is o\n",
      "The index is 6 and The letter is M\n",
      "The index is 5 and The letter is  \n",
      "The index is 4 and The letter is d\n",
      "The index is 3 and The letter is o\n",
      "The index is 2 and The letter is o\n",
      "The index is 1 and The letter is o\n",
      "The index is 0 and The letter is G\n"
     ]
    }
   ],
   "source": [
    "greet=\"Goood Morning Nepal\"\n",
    "for index in range(len(greet)-1,-1,-1):\n",
    "    print(f\"The index is {index} and The letter is {greet[index]}\")"
   ]
  },
  {
   "cell_type": "code",
   "execution_count": 19,
   "id": "cacea1bd",
   "metadata": {},
   "outputs": [
    {
     "data": {
      "text/plain": [
       "19"
      ]
     },
     "execution_count": 19,
     "metadata": {},
     "output_type": "execute_result"
    }
   ],
   "source": [
    "len(greet)"
   ]
  },
  {
   "cell_type": "code",
   "execution_count": null,
   "id": "1a768017",
   "metadata": {},
   "outputs": [],
   "source": []
  },
  {
   "cell_type": "markdown",
   "id": "6482c3b1",
   "metadata": {},
   "source": [
    "# WAP to print vowel and consonant in given word"
   ]
  },
  {
   "cell_type": "code",
   "execution_count": 23,
   "id": "278f5279",
   "metadata": {},
   "outputs": [
    {
     "name": "stdout",
     "output_type": "stream",
     "text": [
      "vowel=a\n",
      "vowel=e\n",
      "consonent=y\n",
      "vowel=i\n"
     ]
    }
   ],
   "source": [
    "s=\"aeyi\"\n",
    "\n",
    "for index in range(0,len(s),1):\n",
    "    letter=s[index]\n",
    "#print(letter)\n",
    "    \n",
    "    if letter =='a'or letter=='e' or letter=='i'or letter=='o' or letter=='u':\n",
    "        print(f\"vowel={letter}\")\n",
    "    else:\n",
    "        print(f\"consonent={letter}\")"
   ]
  },
  {
   "cell_type": "code",
   "execution_count": 28,
   "id": "2ace7b48",
   "metadata": {},
   "outputs": [
    {
     "name": "stdout",
     "output_type": "stream",
     "text": [
      "enter any string :BIKRAm\n",
      "consonent=B\n",
      "vowel=I\n",
      "consonent=K\n",
      "consonent=R\n",
      "vowel=A\n",
      "consonent=m\n"
     ]
    }
   ],
   "source": [
    "string=input(\"enter any string :\")\n",
    "\n",
    "for index in range(0,len(string),1):\n",
    "    letter=string[index]\n",
    "#print(letter)\n",
    "    \n",
    "    if letter =='a'or letter=='e' or letter=='i'or letter=='o' or letter=='u'or letter =='A'or letter=='E' or letter=='I'or letter=='O' or letter=='U':\n",
    "        print(f\"vowel={letter}\")\n",
    "    else:\n",
    "        print(f\"consonent={letter}\")"
   ]
  },
  {
   "cell_type": "code",
   "execution_count": null,
   "id": "3f204cb8",
   "metadata": {},
   "outputs": [],
   "source": []
  },
  {
   "cell_type": "markdown",
   "id": "27c2a4a7",
   "metadata": {},
   "source": [
    "# Slicing in String"
   ]
  },
  {
   "cell_type": "code",
   "execution_count": 29,
   "id": "6c84fd41",
   "metadata": {},
   "outputs": [],
   "source": [
    "s=\"Hi! Please Reply.\""
   ]
  },
  {
   "cell_type": "code",
   "execution_count": 30,
   "id": "b3cefc75",
   "metadata": {},
   "outputs": [
    {
     "data": {
      "text/plain": [
       "'H'"
      ]
     },
     "execution_count": 30,
     "metadata": {},
     "output_type": "execute_result"
    }
   ],
   "source": [
    "s[0]"
   ]
  },
  {
   "cell_type": "code",
   "execution_count": 31,
   "id": "d9bc7f59",
   "metadata": {},
   "outputs": [
    {
     "data": {
      "text/plain": [
       "'!'"
      ]
     },
     "execution_count": 31,
     "metadata": {},
     "output_type": "execute_result"
    }
   ],
   "source": [
    "s[2]"
   ]
  },
  {
   "cell_type": "code",
   "execution_count": 32,
   "id": "814bfa70",
   "metadata": {},
   "outputs": [
    {
     "data": {
      "text/plain": [
       "'Hi'"
      ]
     },
     "execution_count": 32,
     "metadata": {},
     "output_type": "execute_result"
    }
   ],
   "source": [
    "s[0:2] #Slice first two characters\n"
   ]
  },
  {
   "cell_type": "code",
   "execution_count": 33,
   "id": "296dcf2f",
   "metadata": {},
   "outputs": [
    {
     "data": {
      "text/plain": [
       "'Hi'"
      ]
     },
     "execution_count": 33,
     "metadata": {},
     "output_type": "execute_result"
    }
   ],
   "source": [
    "s[:2]"
   ]
  },
  {
   "cell_type": "code",
   "execution_count": 35,
   "id": "509f9552",
   "metadata": {},
   "outputs": [
    {
     "data": {
      "text/plain": [
       "'! Please Reply.'"
      ]
     },
     "execution_count": 35,
     "metadata": {},
     "output_type": "execute_result"
    }
   ],
   "source": [
    "s[2:]   #everything after 2 index (include 2)"
   ]
  },
  {
   "cell_type": "code",
   "execution_count": 36,
   "id": "3edbc3c2",
   "metadata": {},
   "outputs": [
    {
     "data": {
      "text/plain": [
       "'Please'"
      ]
     },
     "execution_count": 36,
     "metadata": {},
     "output_type": "execute_result"
    }
   ],
   "source": [
    "s[4:10]"
   ]
  },
  {
   "cell_type": "code",
   "execution_count": 37,
   "id": "bf2eb419",
   "metadata": {},
   "outputs": [
    {
     "data": {
      "text/plain": [
       "'Pes'"
      ]
     },
     "execution_count": 37,
     "metadata": {},
     "output_type": "execute_result"
    }
   ],
   "source": [
    "s[4:10:2]"
   ]
  },
  {
   "cell_type": "code",
   "execution_count": 38,
   "id": "2480b723",
   "metadata": {},
   "outputs": [
    {
     "data": {
      "text/plain": [
       "'Hi! Please Reply.'"
      ]
     },
     "execution_count": 38,
     "metadata": {},
     "output_type": "execute_result"
    }
   ],
   "source": [
    "s"
   ]
  },
  {
   "cell_type": "code",
   "execution_count": 40,
   "id": "e7a4c747",
   "metadata": {},
   "outputs": [
    {
     "data": {
      "text/plain": [
       "'Hi! Please Reply.Hi! Please Reply.'"
      ]
     },
     "execution_count": 40,
     "metadata": {},
     "output_type": "execute_result"
    }
   ],
   "source": [
    "s + s  #concat=means addiing two string together"
   ]
  },
  {
   "cell_type": "code",
   "execution_count": 42,
   "id": "e599cd45",
   "metadata": {},
   "outputs": [
    {
     "data": {
      "text/plain": [
       "'Hi! Please Reply.Hi! Please Reply.Hi! Please Reply.'"
      ]
     },
     "execution_count": 42,
     "metadata": {},
     "output_type": "execute_result"
    }
   ],
   "source": [
    "s*3  #cubing s "
   ]
  },
  {
   "cell_type": "code",
   "execution_count": null,
   "id": "1de92aaf",
   "metadata": {},
   "outputs": [],
   "source": []
  }
 ],
 "metadata": {
  "kernelspec": {
   "display_name": "Python 3 (ipykernel)",
   "language": "python",
   "name": "python3"
  },
  "language_info": {
   "codemirror_mode": {
    "name": "ipython",
    "version": 3
   },
   "file_extension": ".py",
   "mimetype": "text/x-python",
   "name": "python",
   "nbconvert_exporter": "python",
   "pygments_lexer": "ipython3",
   "version": "3.8.10"
  }
 },
 "nbformat": 4,
 "nbformat_minor": 5
}
