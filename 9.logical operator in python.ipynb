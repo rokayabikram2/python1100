{
 "cells": [
  {
   "cell_type": "markdown",
   "id": "a4a6b95c",
   "metadata": {},
   "source": [
    "<img src=\" https://images.everydayhealth.com/images/diet-nutrition/weight/bmi-in-adults-722x406.jpg\" >"
   ]
  },
  {
   "cell_type": "code",
   "execution_count": 3,
   "id": "a61f9a9f",
   "metadata": {},
   "outputs": [
    {
     "name": "stdout",
     "output_type": "stream",
     "text": [
      "Enter weight :70\n",
      "Enter heoght :5\n",
      "obese\n"
     ]
    }
   ],
   "source": [
    "weight =int(input(\"Enter weight :\"))\n",
    "height =int(input(\"Enter heoght :\"))\n",
    "height_m =height/100\n",
    "BMI = weight/(height_m**2)\n",
    "\n",
    "if BMI < 18.5:\n",
    "    print(\"Underweight\")\n",
    "    \n",
    "elif BMI >=18.5 and BMI <= 24.9:\n",
    "    print(\"Normal Weight\")\n",
    "    \n",
    "elif BMI >=25 and BMI <=29.9:\n",
    "    print(\"Over weight\")\n",
    "    \n",
    "elif BMI == 30 or BMI >30:\n",
    "    print(\"obese\")"
   ]
  },
  {
   "cell_type": "code",
   "execution_count": 8,
   "id": "b1bda589",
   "metadata": {},
   "outputs": [
    {
     "name": "stdout",
     "output_type": "stream",
     "text": [
      "Enter weight :58\n",
      "Enter height :6\n",
      "Obese\n"
     ]
    }
   ],
   "source": [
    "weight =int(input(\"Enter weight :\"))\n",
    "height =float(input(\"Enter height :\"))\n",
    "height_m =height/100\n",
    "BMI = weight/(height_m**2)\n",
    "\n",
    "if BMI < 18.5:\n",
    "    print(\"Underweight\")\n",
    "    \n",
    "    \n",
    "elif BMI >=18.5 and BMI <= 24.9:\n",
    "    print(\"Normal Weight\")\n",
    "    \n",
    "elif BMI >=25 and BMI <=29.9:\n",
    "    print(\"Over weight\")\n",
    "    \n",
    "else:\n",
    "    print(\"Obese\")"
   ]
  },
  {
   "cell_type": "code",
   "execution_count": null,
   "id": "8be8814c",
   "metadata": {},
   "outputs": [],
   "source": []
  }
 ],
 "metadata": {
  "kernelspec": {
   "display_name": "Python 3 (ipykernel)",
   "language": "python",
   "name": "python3"
  },
  "language_info": {
   "codemirror_mode": {
    "name": "ipython",
    "version": 3
   },
   "file_extension": ".py",
   "mimetype": "text/x-python",
   "name": "python",
   "nbconvert_exporter": "python",
   "pygments_lexer": "ipython3",
   "version": "3.8.10"
  }
 },
 "nbformat": 4,
 "nbformat_minor": 5
}
