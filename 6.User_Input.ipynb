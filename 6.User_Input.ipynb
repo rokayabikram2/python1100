{
 "cells": [
  {
   "cell_type": "code",
   "execution_count": 1,
   "id": "dd6dce37",
   "metadata": {},
   "outputs": [
    {
     "name": "stdout",
     "output_type": "stream",
     "text": [
      "Enter a number :8\n"
     ]
    },
    {
     "data": {
      "text/plain": [
       "'8'"
      ]
     },
     "execution_count": 1,
     "metadata": {},
     "output_type": "execute_result"
    }
   ],
   "source": [
    "input(\"Enter a number :\")"
   ]
  },
  {
   "cell_type": "code",
   "execution_count": 2,
   "id": "b17f35a3",
   "metadata": {},
   "outputs": [
    {
     "name": "stdout",
     "output_type": "stream",
     "text": [
      "Enter a number :55\n"
     ]
    }
   ],
   "source": [
    "user_input =input(\"Enter a number :\")"
   ]
  },
  {
   "cell_type": "code",
   "execution_count": 3,
   "id": "c0b64b42",
   "metadata": {},
   "outputs": [
    {
     "data": {
      "text/plain": [
       "'55'"
      ]
     },
     "execution_count": 3,
     "metadata": {},
     "output_type": "execute_result"
    }
   ],
   "source": [
    "user_input"
   ]
  },
  {
   "cell_type": "code",
   "execution_count": 4,
   "id": "11a6e799",
   "metadata": {},
   "outputs": [
    {
     "name": "stdout",
     "output_type": "stream",
     "text": [
      "Enter a number :12\n",
      "Enter a number :40\n"
     ]
    }
   ],
   "source": [
    "user_input1 =input(\"Enter a number :\")\n",
    "user_input2 =input(\"Enter a number :\")\n",
    "result =user_input1 + user_input2"
   ]
  },
  {
   "cell_type": "code",
   "execution_count": 7,
   "id": "42ae5767",
   "metadata": {},
   "outputs": [
    {
     "name": "stdout",
     "output_type": "stream",
     "text": [
      "Result is 1240\n"
     ]
    }
   ],
   "source": [
    "print(f\"Result is {result}\")"
   ]
  },
  {
   "cell_type": "code",
   "execution_count": 8,
   "id": "e57bd6d1",
   "metadata": {},
   "outputs": [
    {
     "data": {
      "text/plain": [
       "str"
      ]
     },
     "execution_count": 8,
     "metadata": {},
     "output_type": "execute_result"
    }
   ],
   "source": [
    "type(user_input1)"
   ]
  },
  {
   "cell_type": "code",
   "execution_count": 12,
   "id": "e8a5b8d5",
   "metadata": {},
   "outputs": [
    {
     "name": "stdout",
     "output_type": "stream",
     "text": [
      "Enter a number :20\n",
      "Enter a number :30\n",
      "Result is 50\n"
     ]
    }
   ],
   "source": [
    "user_input1 =int(input(\"Enter a number :\"))\n",
    "user_input2 =int(input(\"Enter a number :\"))\n",
    "result =user_input1 + user_input2\n",
    "print(f\"Result is {result}\")\n"
   ]
  },
  {
   "cell_type": "code",
   "execution_count": null,
   "id": "d78b1199",
   "metadata": {},
   "outputs": [],
   "source": []
  },
  {
   "cell_type": "code",
   "execution_count": 11,
   "id": "c968aa3f",
   "metadata": {},
   "outputs": [
    {
     "name": "stdout",
     "output_type": "stream",
     "text": [
      "Enter a number :14\n"
     ]
    },
    {
     "data": {
      "text/plain": [
       "int"
      ]
     },
     "execution_count": 11,
     "metadata": {},
     "output_type": "execute_result"
    }
   ],
   "source": [
    "user_input1 =int(input(\"Enter a number :\"))\n",
    "type(user_input1)"
   ]
  },
  {
   "cell_type": "code",
   "execution_count": null,
   "id": "4adc118d",
   "metadata": {},
   "outputs": [],
   "source": []
  }
 ],
 "metadata": {
  "kernelspec": {
   "display_name": "Python 3 (ipykernel)",
   "language": "python",
   "name": "python3"
  },
  "language_info": {
   "codemirror_mode": {
    "name": "ipython",
    "version": 3
   },
   "file_extension": ".py",
   "mimetype": "text/x-python",
   "name": "python",
   "nbconvert_exporter": "python",
   "pygments_lexer": "ipython3",
   "version": "3.8.10"
  }
 },
 "nbformat": 4,
 "nbformat_minor": 5
}
